{
  "cells": [
    {
      "cell_type": "markdown",
      "metadata": {
        "id": "Xwne-eYxCHYa"
      },
      "source": [
        "# Module: M507A Methods of Prediction\n",
        "\n",
        "# Name : Ishak Hafdallah\n",
        "# GH Number: GH1024559\n"
      ]
    },
    {
      "cell_type": "markdown",
      "metadata": {
        "id": "WJ2AzPDnKMvP"
      },
      "source": [
        "# Problem statement"
      ]
    },
    {
      "cell_type": "markdown",
      "metadata": {
        "id": "B1ePhN5fFirj"
      },
      "source": [
        "\n",
        "## Underlying Business Problem\n",
        "> As a data scientist working at CommuniSign, a company that specializes in developing technologies, for the deaf and hard of hearing community my role involves improving our sign language recognition system. Our aim is to make the process of recognizing American Sign Language (ASL) gestures efficient using a machine learning model.\n",
        "\n",
        "\n",
        "## Importance\n",
        ">Recognizing sign language effectively plays a role in bridging the communication divide between the community and those unfamiliar with sign language. By enhancing this system CommuniSign strives to offer an more dependable experience across applications such as educational tools, customer service interfaces and social interactions.\n",
        "\n",
        "\n",
        "> Our primary objective is to identify the ASL letter corresponding to each hand gesture image.\n",
        "\n",
        "\n",
        "## Benefits to the Company\n",
        "**Revenue Growth**; By providing an improved sign language recognition tool we anticipate attracting users and clients resulting in increased sales and subscription rates.\n",
        "**Improved User Experience**; Enhancing accuracy and efficiency in recognition will lead to user satisfaction levels. Increased loyalty.\n",
        "**Advantage**; Through advancements we aim to outperform competitors in the assistive technology market.\n",
        "**Social Impact**; By facilitating communication accessibility, for the community we contribute to broader social inclusion efforts.\n",
        "\n",
        "## Data Collection\n",
        "> The information gathered for this task pertains to the Sign Language MNIST dataset, which comprises pictures of hand signs representing 24 ASL letters (excluding J and Z which involve movement). This dataset, available, to the public contains labeled images that're ideal, for training and assessing a machine learning system.\n",
        "\n",
        "\n",
        ">Available here:[Sign Language Mnist Dataset from Kaggel](https://www.kaggle.com/datasets/datamunge/sign-language-mnist)\n",
        "## Problem Formulation\n",
        ">This assignment can be framed as a Multi Class Classification challenge. The goal is to create a  model of categorizing images of ASL hand signs into one of the 24 categories.\n",
        "\n",
        "\n",
        "\n",
        "\n"
      ]
    },
    {
      "cell_type": "markdown",
      "metadata": {
        "id": "3CsYooucru1Y"
      },
      "source": [
        "![](https://miro.medium.com/v2/resize:fit:1400/format:webp/0*B0VYVuEc9TkE-0Pv)\n"
      ]
    },
    {
      "cell_type": "markdown",
      "source": [
        "#Pipeline Structure\n",
        "* Importing Libraries and Load the data\n",
        "* Preprocessing\n",
        "     * Set the class names\n",
        "     * Data augmentation\n",
        "* Data Exploration\n",
        "    * Plotted the occurrences for each label\n",
        "* Model Training & Experimenting\n",
        "     * Traditional Model\n",
        "     * 1st Experiment: Basic NN\n",
        "     * 2nd Experiment: Basic CNN\n",
        "     * 3rd Experiment: Change optimizer\n",
        "     * 4th Experiment: Add More layers\n",
        "     * 5th Experiment: Add and change dropouts\n",
        "     * 6th Experiment: Change Conv2D filtring\n",
        "     * 7th Experiment:Conv2D and MaxPooling2D Hyperparameters\n",
        "     * 8th Experiment: Add Dense layer\n",
        "     * 9th Experiment: Add Learning Rate Reduction\n",
        "     * 10th Experiment: Change batch Size\n",
        "     * 11th Experiment: Using The data Augmentation\n",
        "* Results of the Experiment\n",
        "     * Fonction to evaluate the Modules\n",
        "     * Evaluate The Modules\n",
        "* Model Assessment\n",
        "     *  Plot images to evaluate the model's predictions\n",
        "     * Plot training history, showing the training vs validation Loss and Accuracy\n",
        "     * Confusion Matrix\n",
        "* Final Discussion"
      ],
      "metadata": {
        "id": "iuzCO231UCZC"
      }
    },
    {
      "cell_type": "markdown",
      "metadata": {
        "id": "e8a4Ti7AH2zy"
      },
      "source": [
        "# Import Libraries and Load the data"
      ]
    },
    {
      "cell_type": "markdown",
      "metadata": {
        "id": "qan4XP0RPW61"
      },
      "source": [
        "* Here, I will import all the necessary Libraries"
      ]
    },
    {
      "cell_type": "code",
      "execution_count": null,
      "metadata": {
        "id": "lmjKnhARKU2G"
      },
      "outputs": [],
      "source": [
        "import zipfile\n",
        "import numpy as np\n",
        "import pandas as pd\n",
        "import matplotlib.pyplot as plt\n",
        "import os\n",
        "import tensorflow as tf\n",
        "import seaborn as sns\n",
        "import time\n",
        "from keras import layers, models\n",
        "from tensorflow.keras.models import Sequential\n",
        "from tensorflow.keras.layers import Conv2D, MaxPooling2D, Flatten, Dense ,BatchNormalization\n",
        "from tensorflow.keras.preprocessing.image import ImageDataGenerator\n",
        "from sklearn.model_selection import train_test_split\n",
        "from sklearn.preprocessing import LabelBinarizer\n",
        "from sklearn.ensemble import RandomForestClassifier\n",
        "from sklearn.metrics import accuracy_score\n",
        "from tensorflow.keras.optimizers import RMSprop\n",
        "from tensorflow.keras.callbacks import ReduceLROnPlateau\n",
        "from sklearn.metrics import confusion_matrix\n",
        "from keras.utils import to_categorical"
      ]
    },
    {
      "cell_type": "markdown",
      "metadata": {
        "id": "QrM-wjuUaGxb"
      },
      "source": [
        "* First, I will Load the data directly from Kaggle and then Unzip the file"
      ]
    },
    {
      "cell_type": "code",
      "execution_count": null,
      "metadata": {
        "colab": {
          "base_uri": "https://localhost:8080/"
        },
        "id": "htYK1e_BIBe0",
        "outputId": "feb85e41-a301-45d1-dc81-d490bdeb4fee"
      },
      "outputs": [
        {
          "name": "stdout",
          "output_type": "stream",
          "text": [
            "Dataset URL: https://www.kaggle.com/datasets/datamunge/sign-language-mnist\n",
            "License(s): CC0-1.0\n",
            "Downloading sign-language-mnist.zip to /Users/macos/Desktop\n",
            "100%|██████████████████████████████████████| 62.6M/62.6M [00:05<00:00, 10.1MB/s]\n",
            "100%|██████████████████████████████████████| 62.6M/62.6M [00:05<00:00, 11.2MB/s]\n",
            "Dataset downloaded and unzipped successfully.\n"
          ]
        }
      ],
      "source": [
        "os.environ['KAGGLE_CONFIG_DIR'] = os.path.expanduser('~/.kaggle')\n",
        "\n",
        "!kaggle datasets download -d datamunge/sign-language-mnis\n",
        "with zipfile.ZipFile('sign-language-mnist.zip', 'r') as zip_ref:\n",
        "    zip_ref.extractall('sign-language-mnist')\n",
        "\n",
        "print(\"Dataset downloaded and unzipped successfully.\")\n"
      ]
    },
    {
      "cell_type": "markdown",
      "metadata": {
        "id": "3QgW1k6M1uQ9"
      },
      "source": [
        "# PreProcessing"
      ]
    },
    {
      "cell_type": "markdown",
      "metadata": {
        "id": "cSsXYAVrapHd"
      },
      "source": [
        ">I read the CSV file here with the function `read_csv` and then showed the first five lines of the dataset"
      ]
    },
    {
      "cell_type": "code",
      "execution_count": null,
      "metadata": {
        "colab": {
          "base_uri": "https://localhost:8080/",
          "height": 256
        },
        "id": "N07AV9nFLQa_",
        "outputId": "c5e9594c-2bb9-4685-beaa-30d0005029d4"
      },
      "outputs": [
        {
          "data": {
            "text/html": [
              "<div>\n",
              "<style scoped>\n",
              "    .dataframe tbody tr th:only-of-type {\n",
              "        vertical-align: middle;\n",
              "    }\n",
              "\n",
              "    .dataframe tbody tr th {\n",
              "        vertical-align: top;\n",
              "    }\n",
              "\n",
              "    .dataframe thead th {\n",
              "        text-align: right;\n",
              "    }\n",
              "</style>\n",
              "<table border=\"1\" class=\"dataframe\">\n",
              "  <thead>\n",
              "    <tr style=\"text-align: right;\">\n",
              "      <th></th>\n",
              "      <th>label</th>\n",
              "      <th>pixel1</th>\n",
              "      <th>pixel2</th>\n",
              "      <th>pixel3</th>\n",
              "      <th>pixel4</th>\n",
              "      <th>pixel5</th>\n",
              "      <th>pixel6</th>\n",
              "      <th>pixel7</th>\n",
              "      <th>pixel8</th>\n",
              "      <th>pixel9</th>\n",
              "      <th>...</th>\n",
              "      <th>pixel775</th>\n",
              "      <th>pixel776</th>\n",
              "      <th>pixel777</th>\n",
              "      <th>pixel778</th>\n",
              "      <th>pixel779</th>\n",
              "      <th>pixel780</th>\n",
              "      <th>pixel781</th>\n",
              "      <th>pixel782</th>\n",
              "      <th>pixel783</th>\n",
              "      <th>pixel784</th>\n",
              "    </tr>\n",
              "  </thead>\n",
              "  <tbody>\n",
              "    <tr>\n",
              "      <th>0</th>\n",
              "      <td>3</td>\n",
              "      <td>107</td>\n",
              "      <td>118</td>\n",
              "      <td>127</td>\n",
              "      <td>134</td>\n",
              "      <td>139</td>\n",
              "      <td>143</td>\n",
              "      <td>146</td>\n",
              "      <td>150</td>\n",
              "      <td>153</td>\n",
              "      <td>...</td>\n",
              "      <td>207</td>\n",
              "      <td>207</td>\n",
              "      <td>207</td>\n",
              "      <td>207</td>\n",
              "      <td>206</td>\n",
              "      <td>206</td>\n",
              "      <td>206</td>\n",
              "      <td>204</td>\n",
              "      <td>203</td>\n",
              "      <td>202</td>\n",
              "    </tr>\n",
              "    <tr>\n",
              "      <th>1</th>\n",
              "      <td>6</td>\n",
              "      <td>155</td>\n",
              "      <td>157</td>\n",
              "      <td>156</td>\n",
              "      <td>156</td>\n",
              "      <td>156</td>\n",
              "      <td>157</td>\n",
              "      <td>156</td>\n",
              "      <td>158</td>\n",
              "      <td>158</td>\n",
              "      <td>...</td>\n",
              "      <td>69</td>\n",
              "      <td>149</td>\n",
              "      <td>128</td>\n",
              "      <td>87</td>\n",
              "      <td>94</td>\n",
              "      <td>163</td>\n",
              "      <td>175</td>\n",
              "      <td>103</td>\n",
              "      <td>135</td>\n",
              "      <td>149</td>\n",
              "    </tr>\n",
              "    <tr>\n",
              "      <th>2</th>\n",
              "      <td>2</td>\n",
              "      <td>187</td>\n",
              "      <td>188</td>\n",
              "      <td>188</td>\n",
              "      <td>187</td>\n",
              "      <td>187</td>\n",
              "      <td>186</td>\n",
              "      <td>187</td>\n",
              "      <td>188</td>\n",
              "      <td>187</td>\n",
              "      <td>...</td>\n",
              "      <td>202</td>\n",
              "      <td>201</td>\n",
              "      <td>200</td>\n",
              "      <td>199</td>\n",
              "      <td>198</td>\n",
              "      <td>199</td>\n",
              "      <td>198</td>\n",
              "      <td>195</td>\n",
              "      <td>194</td>\n",
              "      <td>195</td>\n",
              "    </tr>\n",
              "    <tr>\n",
              "      <th>3</th>\n",
              "      <td>2</td>\n",
              "      <td>211</td>\n",
              "      <td>211</td>\n",
              "      <td>212</td>\n",
              "      <td>212</td>\n",
              "      <td>211</td>\n",
              "      <td>210</td>\n",
              "      <td>211</td>\n",
              "      <td>210</td>\n",
              "      <td>210</td>\n",
              "      <td>...</td>\n",
              "      <td>235</td>\n",
              "      <td>234</td>\n",
              "      <td>233</td>\n",
              "      <td>231</td>\n",
              "      <td>230</td>\n",
              "      <td>226</td>\n",
              "      <td>225</td>\n",
              "      <td>222</td>\n",
              "      <td>229</td>\n",
              "      <td>163</td>\n",
              "    </tr>\n",
              "    <tr>\n",
              "      <th>4</th>\n",
              "      <td>13</td>\n",
              "      <td>164</td>\n",
              "      <td>167</td>\n",
              "      <td>170</td>\n",
              "      <td>172</td>\n",
              "      <td>176</td>\n",
              "      <td>179</td>\n",
              "      <td>180</td>\n",
              "      <td>184</td>\n",
              "      <td>185</td>\n",
              "      <td>...</td>\n",
              "      <td>92</td>\n",
              "      <td>105</td>\n",
              "      <td>105</td>\n",
              "      <td>108</td>\n",
              "      <td>133</td>\n",
              "      <td>163</td>\n",
              "      <td>157</td>\n",
              "      <td>163</td>\n",
              "      <td>164</td>\n",
              "      <td>179</td>\n",
              "    </tr>\n",
              "  </tbody>\n",
              "</table>\n",
              "<p>5 rows × 785 columns</p>\n",
              "</div>"
            ],
            "text/plain": [
              "   label  pixel1  pixel2  pixel3  pixel4  pixel5  pixel6  pixel7  pixel8  \\\n",
              "0      3     107     118     127     134     139     143     146     150   \n",
              "1      6     155     157     156     156     156     157     156     158   \n",
              "2      2     187     188     188     187     187     186     187     188   \n",
              "3      2     211     211     212     212     211     210     211     210   \n",
              "4     13     164     167     170     172     176     179     180     184   \n",
              "\n",
              "   pixel9  ...  pixel775  pixel776  pixel777  pixel778  pixel779  pixel780  \\\n",
              "0     153  ...       207       207       207       207       206       206   \n",
              "1     158  ...        69       149       128        87        94       163   \n",
              "2     187  ...       202       201       200       199       198       199   \n",
              "3     210  ...       235       234       233       231       230       226   \n",
              "4     185  ...        92       105       105       108       133       163   \n",
              "\n",
              "   pixel781  pixel782  pixel783  pixel784  \n",
              "0       206       204       203       202  \n",
              "1       175       103       135       149  \n",
              "2       198       195       194       195  \n",
              "3       225       222       229       163  \n",
              "4       157       163       164       179  \n",
              "\n",
              "[5 rows x 785 columns]"
            ]
          },
          "execution_count": 7,
          "metadata": {},
          "output_type": "execute_result"
        }
      ],
      "source": [
        "train_df = pd.read_csv('/Users/macos/Desktop/sign-language-mnist/sign_mnist_train/sign_mnist_train.csv')\n",
        "test_df = pd.read_csv('/Users/macos/Desktop/sign_mnist_test.csv')\n",
        "\n",
        "train_df.head()"
      ]
    },
    {
      "cell_type": "markdown",
      "metadata": {
        "id": "qgBzSSFubkhj"
      },
      "source": [
        "* As I can see below, there are 27,455 training images that we can use\n",
        "\n",
        "* It consists of 784-pixel values for each image\n",
        "* The train data is on a size of 164.4 MB"
      ]
    },
    {
      "cell_type": "code",
      "execution_count": null,
      "metadata": {
        "colab": {
          "base_uri": "https://localhost:8080/"
        },
        "id": "vTa60PtSbdVg",
        "outputId": "70371773-0e4c-4df6-cbf7-03221517a878"
      },
      "outputs": [
        {
          "name": "stdout",
          "output_type": "stream",
          "text": [
            "<class 'pandas.core.frame.DataFrame'>\n",
            "RangeIndex: 27455 entries, 0 to 27454\n",
            "Columns: 785 entries, label to pixel784\n",
            "dtypes: int64(785)\n",
            "memory usage: 164.4 MB\n"
          ]
        }
      ],
      "source": [
        "train_df.info()"
      ]
    },
    {
      "cell_type": "markdown",
      "metadata": {
        "id": "pb8vgB7ZeHT7"
      },
      "source": [
        "* Convert `train_df` and `test_df` into a numpy arrays:\n",
        "  * `X_train` and  `y_train` containing the features\n",
        "  * `train_lable` and `test_label` containing the labels\n",
        "\n",
        "* Convert categorical labels( `train_lable` , `test_label`) into binary vectors using the function `LabelBinarizer()`\n",
        "* Reshape the features into a 3D array, which is the required input to the first layer of the NN\n",
        "* Normalize the pixel values of the features by 255 so that the value will range from 0 to 1"
      ]
    },
    {
      "cell_type": "code",
      "execution_count": null,
      "metadata": {
        "id": "wn2wfqEB4cvA"
      },
      "outputs": [],
      "source": [
        "X_train = train_df.drop(['label'],axis=1).values\n",
        "train_label=train_df['label'].values\n",
        "\n",
        "X_test=test_df.drop(['label'],axis=1).values\n",
        "test_label=test_df['label'].values\n",
        "\n",
        "lb=LabelBinarizer()\n",
        "y_train=lb.fit_transform(train_label)\n",
        "y_test=lb.fit_transform(test_label)\n",
        "\n",
        "X_train = X_train.reshape(-1,28,28,1)\n",
        "X_test=X_test.reshape(-1,28,28,1)\n",
        "\n",
        "X_train = X_train / 255.0\n",
        "X_test = X_test / 255.0\n"
      ]
    },
    {
      "cell_type": "markdown",
      "metadata": {
        "id": "SCuJMwBkhEyf"
      },
      "source": [
        "* Here, I checked the shape of each feature and label"
      ]
    },
    {
      "cell_type": "code",
      "execution_count": null,
      "metadata": {
        "colab": {
          "base_uri": "https://localhost:8080/"
        },
        "id": "5VC0_iJ8DWjR",
        "outputId": "893feaa8-bfc3-4ca8-e3f4-b0b5767e35b2"
      },
      "outputs": [
        {
          "name": "stdout",
          "output_type": "stream",
          "text": [
            "(27455, 28, 28, 1) (27455, 24) (7172, 28, 28, 1) (7172, 24)\n"
          ]
        }
      ],
      "source": [
        "print(X_train.shape,y_train.shape,X_test.shape,y_test.shape)"
      ]
    },
    {
      "cell_type": "markdown",
      "metadata": {
        "id": "H_tayQMXiAoQ"
      },
      "source": [
        "> Since The label of the data are the character, here i set the class names of each label to use it after"
      ]
    },
    {
      "cell_type": "code",
      "execution_count": null,
      "metadata": {
        "id": "mMGBvj3_hzTp"
      },
      "outputs": [],
      "source": [
        "class_names = [\n",
        "    'A', 'B', 'C', 'D', 'E', 'F', 'G', 'H', 'I',\n",
        "    'K', 'L', 'M', 'N', 'O', 'P', 'Q', 'R', 'S',\n",
        "    'T', 'U', 'V', 'W', 'X', 'Y'\n",
        "]"
      ]
    },
    {
      "cell_type": "markdown",
      "metadata": {
        "id": "kFSXO1VkiiAi"
      },
      "source": [
        "> i  used the Data Augmentation here, in order to prevent overfittung,The idea is to alter the training data with small transformations to reproduce the variations\n",
        "\n",
        "Below as follows the code each transformation and what it does:\n",
        "* set input mean to 0 over the dataset\n",
        "* set each sample mean to 0\n",
        "* divide inputs by std of the dataset\n",
        "* divide each input by its std\n",
        "* apply ZCA whitening\n",
        "* randomly rotate images in the range (degrees, 0 to 180)\n",
        "* Randomly zoom image\n",
        "* randomly shift images horizontally (fraction of total width)\n",
        "* randomly shift images vertically (fraction of total height)\n",
        "* randomly flip images"
      ]
    },
    {
      "cell_type": "code",
      "execution_count": null,
      "metadata": {
        "id": "BAN6TEmQCq9V"
      },
      "outputs": [],
      "source": [
        "datagen = ImageDataGenerator(\n",
        "        featurewise_center=False,\n",
        "        samplewise_center=False,\n",
        "        featurewise_std_normalization=False,\n",
        "        samplewise_std_normalization=False,\n",
        "        zca_whitening=False,\n",
        "        rotation_range=10,\n",
        "        zoom_range = 0.1,\n",
        "        width_shift_range=0.1,\n",
        "        height_shift_range=0.1,\n",
        "        horizontal_flip=False,\n",
        "        vertical_flip=False)\n",
        "\n",
        "datagen.fit(X_train)"
      ]
    },
    {
      "cell_type": "markdown",
      "metadata": {
        "id": "Y5_U0G9z2MRW"
      },
      "source": [
        "# Data exploration"
      ]
    },
    {
      "cell_type": "markdown",
      "metadata": {
        "id": "W7VNE7hqqeLK"
      },
      "source": [
        "* The labels range from 1 to 24 and correspond to the characters of the sign language alphabet for the English language, except for Z and J, as they require movement and cannot be encoded."
      ]
    },
    {
      "cell_type": "code",
      "execution_count": null,
      "metadata": {
        "colab": {
          "base_uri": "https://localhost:8080/"
        },
        "id": "J3K18DX_qE4H",
        "outputId": "6378e47c-bf50-4e4b-eb63-0cf8bc853600"
      },
      "outputs": [
        {
          "data": {
            "text/plain": [
              "array([ 0,  1,  2,  3,  4,  5,  6,  7,  8, 10, 11, 12, 13, 14, 15, 16, 17,\n",
              "       18, 19, 20, 21, 22, 23, 24])"
            ]
          },
          "execution_count": 13,
          "metadata": {},
          "output_type": "execute_result"
        }
      ],
      "source": [
        "unique_value = np.array(train_label)\n",
        "np.unique(unique_value)"
      ]
    },
    {
      "cell_type": "markdown",
      "metadata": {
        "id": "YcYSET8tpVEG"
      },
      "source": [
        "Making Sure that there's no missing values"
      ]
    },
    {
      "cell_type": "code",
      "execution_count": null,
      "metadata": {
        "colab": {
          "base_uri": "https://localhost:8080/"
        },
        "id": "puhAo5eQosC3",
        "outputId": "7adf51cf-79b2-457f-dcbe-a2b0c5002cc3"
      },
      "outputs": [
        {
          "name": "stdout",
          "output_type": "stream",
          "text": [
            "0\n"
          ]
        }
      ],
      "source": [
        "print(np.isnan(X_train).sum())"
      ]
    },
    {
      "cell_type": "markdown",
      "metadata": {
        "id": "ClLC4jQDkrOh"
      },
      "source": [
        "> I have plotted the occurrences for each label, and the dataset appears balanced for each training label, so it does not require any balancing technique"
      ]
    },
    {
      "cell_type": "code",
      "execution_count": null,
      "metadata": {
        "colab": {
          "base_uri": "https://localhost:8080/",
          "height": 340
        },
        "id": "DBc5xZ_fQh_o",
        "outputId": "ae8e737f-325d-45a1-c95c-51bb97c8bc51"
      },
      "outputs": [
        {
          "data": {
            "image/png": "[encoded data removed]",
            "text/plain": [
              "<Figure size 1500x600 with 1 Axes>"
            ]
          },
          "metadata": {},
          "output_type": "display_data"
        }
      ],
      "source": [
        "plt.figure(figsize=(15,6))\n",
        "sns.set_style(\"darkgrid\");\n",
        "sns.countplot(y_train);"
      ]
    },
    {
      "cell_type": "markdown",
      "metadata": {
        "id": "KA4NMeoJlLoa"
      },
      "source": [
        "> I ploted 25 images with their correspondent class names to see how it looks"
      ]
    },
    {
      "cell_type": "code",
      "execution_count": null,
      "metadata": {
        "colab": {
          "base_uri": "https://localhost:8080/",
          "height": 826
        },
        "id": "920UCR_MgRuV",
        "outputId": "80a36b9f-780f-4143-f2da-92ad3074a034"
      },
      "outputs": [
        {
          "data": {
            "image/png": "[encoded data removed]",
            "text/plain": [
              "<Figure size 1000x1000 with 25 Axes>"
            ]
          },
          "metadata": {},
          "output_type": "display_data"
        }
      ],
      "source": [
        "plt.figure(figsize=(10,10))\n",
        "for i in range(25):\n",
        "    plt.subplot(5,5,i+1)\n",
        "    plt.xticks([])\n",
        "    plt.yticks([])\n",
        "    plt.grid(False)\n",
        "    plt.imshow(X_train[i], cmap=plt.cm.binary)\n",
        "    original_label_index = np.argmax(y_train[i])\n",
        "    plt.xlabel(class_names[original_label_index])\n",
        "plt.show()"
      ]
    },
    {
      "cell_type": "markdown",
      "metadata": {
        "id": "gOE0sOHOEx_K"
      },
      "source": [
        "# Model Training & Experimenting"
      ]
    },
    {
      "cell_type": "markdown",
      "metadata": {
        "id": "USdi8-tpesN8"
      },
      "source": [
        "> In this section i will train diffrent models starting with traditional Model which is Random Forest then a baseline NN and then start to experiment new changes\n",
        "* I will Run all the NN models with 20 Epochs\n",
        "* I will track excution time by using the fonction `time()` throughout NN models"
      ]
    },
    {
      "cell_type": "markdown",
      "metadata": {
        "id": "gW7M_sM0YRj8"
      },
      "source": [
        "## Baseline Model"
      ]
    },
    {
      "cell_type": "markdown",
      "metadata": {
        "id": "NsKybsKy7bBs"
      },
      "source": [
        "> First, I started by training a `RandomForestClassifier` as one of the traditional models then to evaluate its performance. This helped in determining that using a neural network would be a better option in our case.\n"
      ]
    },
    {
      "cell_type": "code",
      "execution_count": null,
      "metadata": {
        "colab": {
          "base_uri": "https://localhost:8080/"
        },
        "id": "3ZQysg4wYXdx",
        "outputId": "de208997-c0b3-438d-b21e-b40e54e12187"
      },
      "outputs": [
        {
          "name": "stdout",
          "output_type": "stream",
          "text": [
            "Random Forest Accuracy: 0.8163692136084774\n"
          ]
        }
      ],
      "source": [
        "X_train_flat = X_train.reshape(X_train.shape[0], -1)\n",
        "X_test_flat = X_test.reshape(X_test.shape[0], -1)\n",
        "\n",
        "model0 = RandomForestClassifier(n_estimators=100, random_state=42)\n",
        "model0.fit(X_train_flat, train_label)\n",
        "\n",
        "y_pred_rf = model0.predict(X_test_flat)\n",
        "accuracy_rf = accuracy_score(test_label, y_pred_rf)\n",
        "\n",
        "print(f\"Random Forest Accuracy: {accuracy_rf}\")\n"
      ]
    },
    {
      "cell_type": "markdown",
      "metadata": {
        "id": "TF-lfxxI8HZU"
      },
      "source": [
        "* As I observed, the accuracy of the Random Forest model, is not as high as we're looking for. Therefore, using a neural network will be a more  effective approach in this case."
      ]
    },
    {
      "cell_type": "markdown",
      "metadata": {
        "id": "HWvKa3132Qfl"
      },
      "source": [
        "## 1st Experiment"
      ]
    },
    {
      "cell_type": "markdown",
      "metadata": {
        "id": "KlrdtU_mggn3"
      },
      "source": [
        "> To start i created a basic baseline model that contains only 3 layers which are\n",
        "* Flatten and 2 dense layer\n",
        "\n",
        "> Using `Adam` as an optimizer and calculating the loss with `CategoricalCrossentropy`\n"
      ]
    },
    {
      "cell_type": "code",
      "execution_count": null,
      "metadata": {
        "colab": {
          "base_uri": "https://localhost:8080/"
        },
        "collapsed": true,
        "id": "37-M67WsVATU",
        "outputId": "4098c3f6-802e-4ee4-cad3-0b6aaaa98639"
      },
      "outputs": [
        {
          "name": "stderr",
          "output_type": "stream",
          "text": [
            "/Users/macos/Desktop/.venv/lib/python3.12/site-packages/keras/src/layers/reshaping/flatten.py:37: UserWarning: Do not pass an `input_shape`/`input_dim` argument to a layer. When using Sequential models, prefer using an `Input(shape)` object as the first layer in the model instead.\n",
            "  super().__init__(**kwargs)\n"
          ]
        },
        {
          "name": "stdout",
          "output_type": "stream",
          "text": [
            "Epoch 1/20\n",
            "\u001b[1m858/858\u001b[0m \u001b[32m━━━━━━━━━━━━━━━━━━━━\u001b[0m\u001b[37m\u001b[0m \u001b[1m5s\u001b[0m 4ms/step - accuracy: 0.2518 - loss: 2.5831 - val_accuracy: 0.5007 - val_loss: 1.6734\n",
            "Epoch 2/20\n",
            "\u001b[1m858/858\u001b[0m \u001b[32m━━━━━━━━━━━━━━━━━━━━\u001b[0m\u001b[37m\u001b[0m \u001b[1m2s\u001b[0m 3ms/step - accuracy: 0.6001 - loss: 1.3508 - val_accuracy: 0.5979 - val_loss: 1.2831\n",
            "Epoch 3/20\n",
            "\u001b[1m858/858\u001b[0m \u001b[32m━━━━━━━━━━━━━━━━━━━━\u001b[0m\u001b[37m\u001b[0m \u001b[1m3s\u001b[0m 3ms/step - accuracy: 0.6987 - loss: 1.0158 - val_accuracy: 0.5839 - val_loss: 1.2925\n",
            "Epoch 4/20\n",
            "\u001b[1m858/858\u001b[0m \u001b[32m━━━━━━━━━━━━━━━━━━━━\u001b[0m\u001b[37m\u001b[0m \u001b[1m3s\u001b[0m 3ms/step - accuracy: 0.7633 - loss: 0.8052 - val_accuracy: 0.6205 - val_loss: 1.1603\n",
            "Epoch 5/20\n",
            "\u001b[1m858/858\u001b[0m \u001b[32m━━━━━━━━━━━━━━━━━━━━\u001b[0m\u001b[37m\u001b[0m \u001b[1m3s\u001b[0m 3ms/step - accuracy: 0.8067 - loss: 0.6759 - val_accuracy: 0.6334 - val_loss: 1.1453\n",
            "Epoch 6/20\n",
            "\u001b[1m858/858\u001b[0m \u001b[32m━━━━━━━━━━━━━━━━━━━━\u001b[0m\u001b[37m\u001b[0m \u001b[1m2s\u001b[0m 3ms/step - accuracy: 0.8421 - loss: 0.5607 - val_accuracy: 0.6655 - val_loss: 1.0764\n",
            "Epoch 7/20\n",
            "\u001b[1m858/858\u001b[0m \u001b[32m━━━━━━━━━━━━━━━━━━━━\u001b[0m\u001b[37m\u001b[0m \u001b[1m3s\u001b[0m 3ms/step - accuracy: 0.8607 - loss: 0.4880 - val_accuracy: 0.6835 - val_loss: 1.0548\n",
            "Epoch 8/20\n",
            "\u001b[1m858/858\u001b[0m \u001b[32m━━━━━━━━━━━━━━━━━━━━\u001b[0m\u001b[37m\u001b[0m \u001b[1m3s\u001b[0m 3ms/step - accuracy: 0.8918 - loss: 0.3964 - val_accuracy: 0.6662 - val_loss: 1.1010\n",
            "Epoch 9/20\n",
            "\u001b[1m858/858\u001b[0m \u001b[32m━━━━━━━━━━━━━━━━━━━━\u001b[0m\u001b[37m\u001b[0m \u001b[1m3s\u001b[0m 3ms/step - accuracy: 0.9139 - loss: 0.3354 - val_accuracy: 0.7084 - val_loss: 1.0297\n",
            "Epoch 10/20\n",
            "\u001b[1m858/858\u001b[0m \u001b[32m━━━━━━━━━━━━━━━━━━━━\u001b[0m\u001b[37m\u001b[0m \u001b[1m3s\u001b[0m 3ms/step - accuracy: 0.9333 - loss: 0.2793 - val_accuracy: 0.6652 - val_loss: 1.1880\n",
            "Epoch 11/20\n",
            "\u001b[1m858/858\u001b[0m \u001b[32m━━━━━━━━━━━━━━━━━━━━\u001b[0m\u001b[37m\u001b[0m \u001b[1m3s\u001b[0m 3ms/step - accuracy: 0.9414 - loss: 0.2408 - val_accuracy: 0.7075 - val_loss: 1.0996\n",
            "Epoch 12/20\n",
            "\u001b[1m858/858\u001b[0m \u001b[32m━━━━━━━━━━━━━━━━━━━━\u001b[0m\u001b[37m\u001b[0m \u001b[1m3s\u001b[0m 3ms/step - accuracy: 0.9542 - loss: 0.2030 - val_accuracy: 0.7107 - val_loss: 1.0723\n",
            "Epoch 13/20\n",
            "\u001b[1m858/858\u001b[0m \u001b[32m━━━━━━━━━━━━━━━━━━━━\u001b[0m\u001b[37m\u001b[0m \u001b[1m3s\u001b[0m 4ms/step - accuracy: 0.9688 - loss: 0.1613 - val_accuracy: 0.7062 - val_loss: 1.1438\n",
            "Epoch 14/20\n",
            "\u001b[1m858/858\u001b[0m \u001b[32m━━━━━━━━━━━━━━━━━━━━\u001b[0m\u001b[37m\u001b[0m \u001b[1m3s\u001b[0m 4ms/step - accuracy: 0.9767 - loss: 0.1341 - val_accuracy: 0.6765 - val_loss: 1.2683\n",
            "Epoch 15/20\n",
            "\u001b[1m858/858\u001b[0m \u001b[32m━━━━━━━━━━━━━━━━━━━━\u001b[0m\u001b[37m\u001b[0m \u001b[1m3s\u001b[0m 4ms/step - accuracy: 0.9811 - loss: 0.1152 - val_accuracy: 0.7110 - val_loss: 1.2024\n",
            "Epoch 16/20\n",
            "\u001b[1m858/858\u001b[0m \u001b[32m━━━━━━━━━━━━━━━━━━━━\u001b[0m\u001b[37m\u001b[0m \u001b[1m3s\u001b[0m 4ms/step - accuracy: 0.9820 - loss: 0.1038 - val_accuracy: 0.6775 - val_loss: 1.3031\n",
            "Epoch 17/20\n",
            "\u001b[1m858/858\u001b[0m \u001b[32m━━━━━━━━━━━━━━━━━━━━\u001b[0m\u001b[37m\u001b[0m \u001b[1m3s\u001b[0m 3ms/step - accuracy: 0.9886 - loss: 0.0812 - val_accuracy: 0.6952 - val_loss: 1.2827\n",
            "Epoch 18/20\n",
            "\u001b[1m858/858\u001b[0m \u001b[32m━━━━━━━━━━━━━━━━━━━━\u001b[0m\u001b[37m\u001b[0m \u001b[1m3s\u001b[0m 3ms/step - accuracy: 0.9889 - loss: 0.0750 - val_accuracy: 0.6910 - val_loss: 1.3162\n",
            "Epoch 19/20\n",
            "\u001b[1m858/858\u001b[0m \u001b[32m━━━━━━━━━━━━━━━━━━━━\u001b[0m\u001b[37m\u001b[0m \u001b[1m3s\u001b[0m 3ms/step - accuracy: 0.9933 - loss: 0.0581 - val_accuracy: 0.6923 - val_loss: 1.3154\n",
            "Epoch 20/20\n",
            "\u001b[1m858/858\u001b[0m \u001b[32m━━━━━━━━━━━━━━━━━━━━\u001b[0m\u001b[37m\u001b[0m \u001b[1m3s\u001b[0m 3ms/step - accuracy: 0.9932 - loss: 0.0536 - val_accuracy: 0.6999 - val_loss: 1.3535\n"
          ]
        }
      ],
      "source": [
        "Model1 = tf.keras.Sequential([\n",
        "    tf.keras.layers.Flatten(input_shape=(28, 28)),\n",
        "    tf.keras.layers.Dense(128, activation='relu'),\n",
        "    tf.keras.layers.Dense(24,activation='softmax')\n",
        "],name=\"Model1\")\n",
        "Model1.compile(optimizer='adam',\n",
        "              loss=tf.keras.losses.CategoricalCrossentropy(from_logits=False),\n",
        "              metrics=['accuracy'])\n",
        "\n",
        "start_train_time = time.time()\n",
        "\n",
        "history1=Model1.fit(X_train, y_train, epochs=20,validation_data=(X_test, y_test))\n",
        "end_train_time = time.time()\n",
        "training_time1 = end_train_time - start_train_time"
      ]
    },
    {
      "cell_type": "code",
      "execution_count": null,
      "metadata": {
        "colab": {
          "base_uri": "https://localhost:8080/"
        },
        "id": "wcRfebNik-pd",
        "outputId": "0159b572-a5f9-40c5-9027-77e9bda61f64"
      },
      "outputs": [
        {
          "data": {
            "text/html": [
              "<pre style=\"white-space:pre;overflow-x:auto;line-height:normal;font-family:Menlo,'DejaVu Sans Mono',consolas,'Courier New',monospace\"><span style=\"font-weight: bold\">Model: \"Model1\"</span>\n",
              "</pre>\n"
            ],
            "text/plain": [
              "\u001b[1mModel: \"Model1\"\u001b[0m\n"
            ]
          },
          "metadata": {},
          "output_type": "display_data"
        },
        {
          "data": {
            "text/html": [
              "<pre style=\"white-space:pre;overflow-x:auto;line-height:normal;font-family:Menlo,'DejaVu Sans Mono',consolas,'Courier New',monospace\">┏━━━━━━━━━━━━━━━━━━━━━━━━━━━━━━━━━┳━━━━━━━━━━━━━━━━━━━━━━━━┳━━━━━━━━━━━━━━━┓\n",
              "┃<span style=\"font-weight: bold\"> Layer (type)                    </span>┃<span style=\"font-weight: bold\"> Output Shape           </span>┃<span style=\"font-weight: bold\">       Param # </span>┃\n",
              "┡━━━━━━━━━━━━━━━━━━━━━━━━━━━━━━━━━╇━━━━━━━━━━━━━━━━━━━━━━━━╇━━━━━━━━━━━━━━━┩\n",
              "│ flatten (<span style=\"color: #0087ff; text-decoration-color: #0087ff\">Flatten</span>)               │ (<span style=\"color: #00d7ff; text-decoration-color: #00d7ff\">None</span>, <span style=\"color: #00af00; text-decoration-color: #00af00\">784</span>)            │             <span style=\"color: #00af00; text-decoration-color: #00af00\">0</span> │\n",
              "├─────────────────────────────────┼────────────────────────┼───────────────┤\n",
              "│ dense (<span style=\"color: #0087ff; text-decoration-color: #0087ff\">Dense</span>)                   │ (<span style=\"color: #00d7ff; text-decoration-color: #00d7ff\">None</span>, <span style=\"color: #00af00; text-decoration-color: #00af00\">128</span>)            │       <span style=\"color: #00af00; text-decoration-color: #00af00\">100,480</span> │\n",
              "├─────────────────────────────────┼────────────────────────┼───────────────┤\n",
              "│ dense_1 (<span style=\"color: #0087ff; text-decoration-color: #0087ff\">Dense</span>)                 │ (<span style=\"color: #00d7ff; text-decoration-color: #00d7ff\">None</span>, <span style=\"color: #00af00; text-decoration-color: #00af00\">24</span>)             │         <span style=\"color: #00af00; text-decoration-color: #00af00\">3,096</span> │\n",
              "└─────────────────────────────────┴────────────────────────┴───────────────┘\n",
              "</pre>\n"
            ],
            "text/plain": [
              "┏━━━━━━━━━━━━━━━━━━━━━━━━━━━━━━━━━┳━━━━━━━━━━━━━━━━━━━━━━━━┳━━━━━━━━━━━━━━━┓\n",
              "┃\u001b[1m \u001b[0m\u001b[1mLayer (type)                   \u001b[0m\u001b[1m \u001b[0m┃\u001b[1m \u001b[0m\u001b[1mOutput Shape          \u001b[0m\u001b[1m \u001b[0m┃\u001b[1m \u001b[0m\u001b[1m      Param #\u001b[0m\u001b[1m \u001b[0m┃\n",
              "┡━━━━━━━━━━━━━━━━━━━━━━━━━━━━━━━━━╇━━━━━━━━━━━━━━━━━━━━━━━━╇━━━━━━━━━━━━━━━┩\n",
              "│ flatten (\u001b[38;5;33mFlatten\u001b[0m)               │ (\u001b[38;5;45mNone\u001b[0m, \u001b[38;5;34m784\u001b[0m)            │             \u001b[38;5;34m0\u001b[0m │\n",
              "├─────────────────────────────────┼────────────────────────┼───────────────┤\n",
              "│ dense (\u001b[38;5;33mDense\u001b[0m)                   │ (\u001b[38;5;45mNone\u001b[0m, \u001b[38;5;34m128\u001b[0m)            │       \u001b[38;5;34m100,480\u001b[0m │\n",
              "├─────────────────────────────────┼────────────────────────┼───────────────┤\n",
              "│ dense_1 (\u001b[38;5;33mDense\u001b[0m)                 │ (\u001b[38;5;45mNone\u001b[0m, \u001b[38;5;34m24\u001b[0m)             │         \u001b[38;5;34m3,096\u001b[0m │\n",
              "└─────────────────────────────────┴────────────────────────┴───────────────┘\n"
            ]
          },
          "metadata": {},
          "output_type": "display_data"
        },
        {
          "data": {
            "text/html": [
              "<pre style=\"white-space:pre;overflow-x:auto;line-height:normal;font-family:Menlo,'DejaVu Sans Mono',consolas,'Courier New',monospace\"><span style=\"font-weight: bold\"> Total params: </span><span style=\"color: #00af00; text-decoration-color: #00af00\">310,730</span> (1.19 MB)\n",
              "</pre>\n"
            ],
            "text/plain": [
              "\u001b[1m Total params: \u001b[0m\u001b[38;5;34m310,730\u001b[0m (1.19 MB)\n"
            ]
          },
          "metadata": {},
          "output_type": "display_data"
        },
        {
          "data": {
            "text/html": [
              "<pre style=\"white-space:pre;overflow-x:auto;line-height:normal;font-family:Menlo,'DejaVu Sans Mono',consolas,'Courier New',monospace\"><span style=\"font-weight: bold\"> Trainable params: </span><span style=\"color: #00af00; text-decoration-color: #00af00\">103,576</span> (404.59 KB)\n",
              "</pre>\n"
            ],
            "text/plain": [
              "\u001b[1m Trainable params: \u001b[0m\u001b[38;5;34m103,576\u001b[0m (404.59 KB)\n"
            ]
          },
          "metadata": {},
          "output_type": "display_data"
        },
        {
          "data": {
            "text/html": [
              "<pre style=\"white-space:pre;overflow-x:auto;line-height:normal;font-family:Menlo,'DejaVu Sans Mono',consolas,'Courier New',monospace\"><span style=\"font-weight: bold\"> Non-trainable params: </span><span style=\"color: #00af00; text-decoration-color: #00af00\">0</span> (0.00 B)\n",
              "</pre>\n"
            ],
            "text/plain": [
              "\u001b[1m Non-trainable params: \u001b[0m\u001b[38;5;34m0\u001b[0m (0.00 B)\n"
            ]
          },
          "metadata": {},
          "output_type": "display_data"
        },
        {
          "data": {
            "text/html": [
              "<pre style=\"white-space:pre;overflow-x:auto;line-height:normal;font-family:Menlo,'DejaVu Sans Mono',consolas,'Courier New',monospace\"><span style=\"font-weight: bold\"> Optimizer params: </span><span style=\"color: #00af00; text-decoration-color: #00af00\">207,154</span> (809.20 KB)\n",
              "</pre>\n"
            ],
            "text/plain": [
              "\u001b[1m Optimizer params: \u001b[0m\u001b[38;5;34m207,154\u001b[0m (809.20 KB)\n"
            ]
          },
          "metadata": {},
          "output_type": "display_data"
        }
      ],
      "source": [
        "Model1.summary()"
      ]
    },
    {
      "cell_type": "markdown",
      "metadata": {
        "id": "DMMsGf82haVZ"
      },
      "source": [
        ">Conclusion for the first model:\n",
        "* The model has 103,576 total parameters to learn.\n",
        "* The validation accuracy was 0.6999.\n",
        "\n",
        "This indicates that the model likely needs additional layers and extensive hyperparameter tuning to improve its performance."
      ]
    },
    {
      "cell_type": "markdown",
      "metadata": {
        "id": "z-LYNKQz2kjM"
      },
      "source": [
        "## 2nd Experiment"
      ]
    },
    {
      "cell_type": "markdown",
      "metadata": {
        "id": "Zp2bqBUMiq3q"
      },
      "source": [
        "> As a second Model i used Convolutional Neural Networks Structure with:\n",
        "* convolution filters: **2 Conv2D Layers**\n",
        "* max pooling : **2 MaxPooling2D Layer**(with ReLu activation)\n",
        "* Flattens the 2D feature maps into a 1D vector : **1 Flatten Layer**\n",
        "* **1 Dropout layer** of 50%\n",
        "* **1 Dense Layer** with Softmax activation\n",
        "\n",
        "> Using `Adam` as an optimizer and calculating the loss with `CategoricalCrossentropy`\n",
        "\n",
        "> Using a `batch_size` of 32"
      ]
    },
    {
      "cell_type": "code",
      "execution_count": null,
      "metadata": {
        "colab": {
          "base_uri": "https://localhost:8080/"
        },
        "id": "csTYIaDv2YoQ",
        "outputId": "f6b36887-e06b-4a34-a287-65dfb2e23413"
      },
      "outputs": [
        {
          "name": "stdout",
          "output_type": "stream",
          "text": [
            "Epoch 1/20\n",
            "\u001b[1m858/858\u001b[0m \u001b[32m━━━━━━━━━━━━━━━━━━━━\u001b[0m\u001b[37m\u001b[0m \u001b[1m27s\u001b[0m 27ms/step - accuracy: 0.4174 - loss: 2.0127 - val_accuracy: 0.8335 - val_loss: 0.5629\n",
            "Epoch 2/20\n",
            "\u001b[1m858/858\u001b[0m \u001b[32m━━━━━━━━━━━━━━━━━━━━\u001b[0m\u001b[37m\u001b[0m \u001b[1m22s\u001b[0m 26ms/step - accuracy: 0.8849 - loss: 0.3668 - val_accuracy: 0.8914 - val_loss: 0.3661\n",
            "Epoch 3/20\n",
            "\u001b[1m858/858\u001b[0m \u001b[32m━━━━━━━━━━━━━━━━━━━━\u001b[0m\u001b[37m\u001b[0m \u001b[1m19s\u001b[0m 22ms/step - accuracy: 0.9428 - loss: 0.1774 - val_accuracy: 0.9120 - val_loss: 0.2899\n",
            "Epoch 4/20\n",
            "\u001b[1m858/858\u001b[0m \u001b[32m━━━━━━━━━━━━━━━━━━━━\u001b[0m\u001b[37m\u001b[0m \u001b[1m20s\u001b[0m 24ms/step - accuracy: 0.9706 - loss: 0.1006 - val_accuracy: 0.9154 - val_loss: 0.2902\n",
            "Epoch 5/20\n",
            "\u001b[1m858/858\u001b[0m \u001b[32m━━━━━━━━━━━━━━━━━━━━\u001b[0m\u001b[37m\u001b[0m \u001b[1m20s\u001b[0m 24ms/step - accuracy: 0.9769 - loss: 0.0759 - val_accuracy: 0.9370 - val_loss: 0.2437\n",
            "Epoch 6/20\n",
            "\u001b[1m858/858\u001b[0m \u001b[32m━━━━━━━━━━━━━━━━━━━━\u001b[0m\u001b[37m\u001b[0m \u001b[1m21s\u001b[0m 24ms/step - accuracy: 0.9849 - loss: 0.0530 - val_accuracy: 0.9381 - val_loss: 0.2658\n",
            "Epoch 7/20\n",
            "\u001b[1m858/858\u001b[0m \u001b[32m━━━━━━━━━━━━━━━━━━━━\u001b[0m\u001b[37m\u001b[0m \u001b[1m25s\u001b[0m 29ms/step - accuracy: 0.9839 - loss: 0.0473 - val_accuracy: 0.9420 - val_loss: 0.2683\n",
            "Epoch 8/20\n",
            "\u001b[1m858/858\u001b[0m \u001b[32m━━━━━━━━━━━━━━━━━━━━\u001b[0m\u001b[37m\u001b[0m \u001b[1m22s\u001b[0m 25ms/step - accuracy: 0.9902 - loss: 0.0328 - val_accuracy: 0.9395 - val_loss: 0.2998\n",
            "Epoch 9/20\n",
            "\u001b[1m858/858\u001b[0m \u001b[32m━━━━━━━━━━━━━━━━━━━━\u001b[0m\u001b[37m\u001b[0m \u001b[1m24s\u001b[0m 28ms/step - accuracy: 0.9903 - loss: 0.0308 - val_accuracy: 0.9340 - val_loss: 0.2667\n",
            "Epoch 10/20\n",
            "\u001b[1m858/858\u001b[0m \u001b[32m━━━━━━━━━━━━━━━━━━━━\u001b[0m\u001b[37m\u001b[0m \u001b[1m21s\u001b[0m 24ms/step - accuracy: 0.9919 - loss: 0.0252 - val_accuracy: 0.9281 - val_loss: 0.2986\n",
            "Epoch 11/20\n",
            "\u001b[1m858/858\u001b[0m \u001b[32m━━━━━━━━━━━━━━━━━━━━\u001b[0m\u001b[37m\u001b[0m \u001b[1m21s\u001b[0m 24ms/step - accuracy: 0.9938 - loss: 0.0215 - val_accuracy: 0.9296 - val_loss: 0.3001\n",
            "Epoch 12/20\n",
            "\u001b[1m858/858\u001b[0m \u001b[32m━━━━━━━━━━━━━━━━━━━━\u001b[0m\u001b[37m\u001b[0m \u001b[1m29s\u001b[0m 34ms/step - accuracy: 0.9937 - loss: 0.0195 - val_accuracy: 0.9359 - val_loss: 0.2716\n",
            "Epoch 13/20\n",
            "\u001b[1m858/858\u001b[0m \u001b[32m━━━━━━━━━━━━━━━━━━━━\u001b[0m\u001b[37m\u001b[0m \u001b[1m23s\u001b[0m 26ms/step - accuracy: 0.9939 - loss: 0.0203 - val_accuracy: 0.9484 - val_loss: 0.2706\n",
            "Epoch 14/20\n",
            "\u001b[1m858/858\u001b[0m \u001b[32m━━━━━━━━━━━━━━━━━━━━\u001b[0m\u001b[37m\u001b[0m \u001b[1m22s\u001b[0m 26ms/step - accuracy: 0.9953 - loss: 0.0154 - val_accuracy: 0.9410 - val_loss: 0.2637\n",
            "Epoch 15/20\n",
            "\u001b[1m858/858\u001b[0m \u001b[32m━━━━━━━━━━━━━━━━━━━━\u001b[0m\u001b[37m\u001b[0m \u001b[1m21s\u001b[0m 24ms/step - accuracy: 0.9950 - loss: 0.0167 - val_accuracy: 0.9420 - val_loss: 0.2663\n",
            "Epoch 16/20\n",
            "\u001b[1m858/858\u001b[0m \u001b[32m━━━━━━━━━━━━━━━━━━━━\u001b[0m\u001b[37m\u001b[0m \u001b[1m20s\u001b[0m 24ms/step - accuracy: 0.9964 - loss: 0.0122 - val_accuracy: 0.9476 - val_loss: 0.2481\n",
            "Epoch 17/20\n",
            "\u001b[1m858/858\u001b[0m \u001b[32m━━━━━━━━━━━━━━━━━━━━\u001b[0m\u001b[37m\u001b[0m \u001b[1m20s\u001b[0m 23ms/step - accuracy: 0.9953 - loss: 0.0142 - val_accuracy: 0.9400 - val_loss: 0.2642\n",
            "Epoch 18/20\n",
            "\u001b[1m858/858\u001b[0m \u001b[32m━━━━━━━━━━━━━━━━━━━━\u001b[0m\u001b[37m\u001b[0m \u001b[1m20s\u001b[0m 24ms/step - accuracy: 0.9968 - loss: 0.0101 - val_accuracy: 0.9279 - val_loss: 0.3837\n",
            "Epoch 19/20\n",
            "\u001b[1m858/858\u001b[0m \u001b[32m━━━━━━━━━━━━━━━━━━━━\u001b[0m\u001b[37m\u001b[0m \u001b[1m21s\u001b[0m 25ms/step - accuracy: 0.9960 - loss: 0.0117 - val_accuracy: 0.9476 - val_loss: 0.2743\n",
            "Epoch 20/20\n",
            "\u001b[1m858/858\u001b[0m \u001b[32m━━━━━━━━━━━━━━━━━━━━\u001b[0m\u001b[37m\u001b[0m \u001b[1m20s\u001b[0m 24ms/step - accuracy: 0.9964 - loss: 0.0115 - val_accuracy: 0.9431 - val_loss: 0.2567\n"
          ]
        }
      ],
      "source": [
        "model2 = models.Sequential(\n",
        "    [\n",
        "        layers.Input(shape=(28, 28, 1)),\n",
        "        layers.Conv2D(32, kernel_size=(3, 3), activation=\"relu\"),\n",
        "        layers.MaxPooling2D(pool_size=(2, 2)),\n",
        "        layers.Conv2D(64, kernel_size=(3, 3), activation=\"relu\"),\n",
        "        layers.MaxPooling2D(pool_size=(2, 2)),\n",
        "        layers.Flatten(),\n",
        "        layers.Dropout(0.5),\n",
        "        layers.Dense(len(class_names), activation=\"softmax\"),\n",
        "    ],name=\"Model2\"\n",
        ")\n",
        "model2.compile(optimizer='adam',\n",
        "              loss=tf.keras.losses.CategoricalCrossentropy(from_logits=False),\n",
        "              metrics=['accuracy'])\n",
        "start_train_time = time.time()\n",
        "\n",
        "history2=model2.fit(X_train, y_train, batch_size=32,epochs=20, validation_data=(X_test, y_test))\n",
        "end_train_time = time.time()\n",
        "training_time2 = end_train_time - start_train_time"
      ]
    },
    {
      "cell_type": "code",
      "execution_count": null,
      "metadata": {
        "colab": {
          "base_uri": "https://localhost:8080/"
        },
        "id": "qXF_a3w9nChB",
        "outputId": "de159572-2d51-4860-85dd-f26b496c7168"
      },
      "outputs": [
        {
          "data": {
            "text/html": [
              "<pre style=\"white-space:pre;overflow-x:auto;line-height:normal;font-family:Menlo,'DejaVu Sans Mono',consolas,'Courier New',monospace\"><span style=\"font-weight: bold\">Model: \"Model2\"</span>\n",
              "</pre>\n"
            ],
            "text/plain": [
              "\u001b[1mModel: \"Model2\"\u001b[0m\n"
            ]
          },
          "metadata": {},
          "output_type": "display_data"
        },
        {
          "data": {
            "text/html": [
              "<pre style=\"white-space:pre;overflow-x:auto;line-height:normal;font-family:Menlo,'DejaVu Sans Mono',consolas,'Courier New',monospace\">┏━━━━━━━━━━━━━━━━━━━━━━━━━━━━━━━━━┳━━━━━━━━━━━━━━━━━━━━━━━━┳━━━━━━━━━━━━━━━┓\n",
              "┃<span style=\"font-weight: bold\"> Layer (type)                    </span>┃<span style=\"font-weight: bold\"> Output Shape           </span>┃<span style=\"font-weight: bold\">       Param # </span>┃\n",
              "┡━━━━━━━━━━━━━━━━━━━━━━━━━━━━━━━━━╇━━━━━━━━━━━━━━━━━━━━━━━━╇━━━━━━━━━━━━━━━┩\n",
              "│ conv2d_39 (<span style=\"color: #0087ff; text-decoration-color: #0087ff\">Conv2D</span>)              │ (<span style=\"color: #00d7ff; text-decoration-color: #00d7ff\">None</span>, <span style=\"color: #00af00; text-decoration-color: #00af00\">26</span>, <span style=\"color: #00af00; text-decoration-color: #00af00\">26</span>, <span style=\"color: #00af00; text-decoration-color: #00af00\">32</span>)     │           <span style=\"color: #00af00; text-decoration-color: #00af00\">320</span> │\n",
              "├─────────────────────────────────┼────────────────────────┼───────────────┤\n",
              "│ max_pooling2d_39 (<span style=\"color: #0087ff; text-decoration-color: #0087ff\">MaxPooling2D</span>) │ (<span style=\"color: #00d7ff; text-decoration-color: #00d7ff\">None</span>, <span style=\"color: #00af00; text-decoration-color: #00af00\">13</span>, <span style=\"color: #00af00; text-decoration-color: #00af00\">13</span>, <span style=\"color: #00af00; text-decoration-color: #00af00\">32</span>)     │             <span style=\"color: #00af00; text-decoration-color: #00af00\">0</span> │\n",
              "├─────────────────────────────────┼────────────────────────┼───────────────┤\n",
              "│ conv2d_40 (<span style=\"color: #0087ff; text-decoration-color: #0087ff\">Conv2D</span>)              │ (<span style=\"color: #00d7ff; text-decoration-color: #00d7ff\">None</span>, <span style=\"color: #00af00; text-decoration-color: #00af00\">11</span>, <span style=\"color: #00af00; text-decoration-color: #00af00\">11</span>, <span style=\"color: #00af00; text-decoration-color: #00af00\">64</span>)     │        <span style=\"color: #00af00; text-decoration-color: #00af00\">18,496</span> │\n",
              "├─────────────────────────────────┼────────────────────────┼───────────────┤\n",
              "│ max_pooling2d_40 (<span style=\"color: #0087ff; text-decoration-color: #0087ff\">MaxPooling2D</span>) │ (<span style=\"color: #00d7ff; text-decoration-color: #00d7ff\">None</span>, <span style=\"color: #00af00; text-decoration-color: #00af00\">5</span>, <span style=\"color: #00af00; text-decoration-color: #00af00\">5</span>, <span style=\"color: #00af00; text-decoration-color: #00af00\">64</span>)       │             <span style=\"color: #00af00; text-decoration-color: #00af00\">0</span> │\n",
              "├─────────────────────────────────┼────────────────────────┼───────────────┤\n",
              "│ flatten_15 (<span style=\"color: #0087ff; text-decoration-color: #0087ff\">Flatten</span>)            │ (<span style=\"color: #00d7ff; text-decoration-color: #00d7ff\">None</span>, <span style=\"color: #00af00; text-decoration-color: #00af00\">1600</span>)           │             <span style=\"color: #00af00; text-decoration-color: #00af00\">0</span> │\n",
              "├─────────────────────────────────┼────────────────────────┼───────────────┤\n",
              "│ dropout_24 (<span style=\"color: #0087ff; text-decoration-color: #0087ff\">Dropout</span>)            │ (<span style=\"color: #00d7ff; text-decoration-color: #00d7ff\">None</span>, <span style=\"color: #00af00; text-decoration-color: #00af00\">1600</span>)           │             <span style=\"color: #00af00; text-decoration-color: #00af00\">0</span> │\n",
              "├─────────────────────────────────┼────────────────────────┼───────────────┤\n",
              "│ dense_21 (<span style=\"color: #0087ff; text-decoration-color: #0087ff\">Dense</span>)                │ (<span style=\"color: #00d7ff; text-decoration-color: #00d7ff\">None</span>, <span style=\"color: #00af00; text-decoration-color: #00af00\">24</span>)             │        <span style=\"color: #00af00; text-decoration-color: #00af00\">38,424</span> │\n",
              "└─────────────────────────────────┴────────────────────────┴───────────────┘\n",
              "</pre>\n"
            ],
            "text/plain": [
              "┏━━━━━━━━━━━━━━━━━━━━━━━━━━━━━━━━━┳━━━━━━━━━━━━━━━━━━━━━━━━┳━━━━━━━━━━━━━━━┓\n",
              "┃\u001b[1m \u001b[0m\u001b[1mLayer (type)                   \u001b[0m\u001b[1m \u001b[0m┃\u001b[1m \u001b[0m\u001b[1mOutput Shape          \u001b[0m\u001b[1m \u001b[0m┃\u001b[1m \u001b[0m\u001b[1m      Param #\u001b[0m\u001b[1m \u001b[0m┃\n",
              "┡━━━━━━━━━━━━━━━━━━━━━━━━━━━━━━━━━╇━━━━━━━━━━━━━━━━━━━━━━━━╇━━━━━━━━━━━━━━━┩\n",
              "│ conv2d_39 (\u001b[38;5;33mConv2D\u001b[0m)              │ (\u001b[38;5;45mNone\u001b[0m, \u001b[38;5;34m26\u001b[0m, \u001b[38;5;34m26\u001b[0m, \u001b[38;5;34m32\u001b[0m)     │           \u001b[38;5;34m320\u001b[0m │\n",
              "├─────────────────────────────────┼────────────────────────┼───────────────┤\n",
              "│ max_pooling2d_39 (\u001b[38;5;33mMaxPooling2D\u001b[0m) │ (\u001b[38;5;45mNone\u001b[0m, \u001b[38;5;34m13\u001b[0m, \u001b[38;5;34m13\u001b[0m, \u001b[38;5;34m32\u001b[0m)     │             \u001b[38;5;34m0\u001b[0m │\n",
              "├─────────────────────────────────┼────────────────────────┼───────────────┤\n",
              "│ conv2d_40 (\u001b[38;5;33mConv2D\u001b[0m)              │ (\u001b[38;5;45mNone\u001b[0m, \u001b[38;5;34m11\u001b[0m, \u001b[38;5;34m11\u001b[0m, \u001b[38;5;34m64\u001b[0m)     │        \u001b[38;5;34m18,496\u001b[0m │\n",
              "├─────────────────────────────────┼────────────────────────┼───────────────┤\n",
              "│ max_pooling2d_40 (\u001b[38;5;33mMaxPooling2D\u001b[0m) │ (\u001b[38;5;45mNone\u001b[0m, \u001b[38;5;34m5\u001b[0m, \u001b[38;5;34m5\u001b[0m, \u001b[38;5;34m64\u001b[0m)       │             \u001b[38;5;34m0\u001b[0m │\n",
              "├─────────────────────────────────┼────────────────────────┼───────────────┤\n",
              "│ flatten_15 (\u001b[38;5;33mFlatten\u001b[0m)            │ (\u001b[38;5;45mNone\u001b[0m, \u001b[38;5;34m1600\u001b[0m)           │             \u001b[38;5;34m0\u001b[0m │\n",
              "├─────────────────────────────────┼────────────────────────┼───────────────┤\n",
              "│ dropout_24 (\u001b[38;5;33mDropout\u001b[0m)            │ (\u001b[38;5;45mNone\u001b[0m, \u001b[38;5;34m1600\u001b[0m)           │             \u001b[38;5;34m0\u001b[0m │\n",
              "├─────────────────────────────────┼────────────────────────┼───────────────┤\n",
              "│ dense_21 (\u001b[38;5;33mDense\u001b[0m)                │ (\u001b[38;5;45mNone\u001b[0m, \u001b[38;5;34m24\u001b[0m)             │        \u001b[38;5;34m38,424\u001b[0m │\n",
              "└─────────────────────────────────┴────────────────────────┴───────────────┘\n"
            ]
          },
          "metadata": {},
          "output_type": "display_data"
        },
        {
          "data": {
            "text/html": [
              "<pre style=\"white-space:pre;overflow-x:auto;line-height:normal;font-family:Menlo,'DejaVu Sans Mono',consolas,'Courier New',monospace\"><span style=\"font-weight: bold\"> Total params: </span><span style=\"color: #00af00; text-decoration-color: #00af00\">171,722</span> (670.79 KB)\n",
              "</pre>\n"
            ],
            "text/plain": [
              "\u001b[1m Total params: \u001b[0m\u001b[38;5;34m171,722\u001b[0m (670.79 KB)\n"
            ]
          },
          "metadata": {},
          "output_type": "display_data"
        },
        {
          "data": {
            "text/html": [
              "<pre style=\"white-space:pre;overflow-x:auto;line-height:normal;font-family:Menlo,'DejaVu Sans Mono',consolas,'Courier New',monospace\"><span style=\"font-weight: bold\"> Trainable params: </span><span style=\"color: #00af00; text-decoration-color: #00af00\">57,240</span> (223.59 KB)\n",
              "</pre>\n"
            ],
            "text/plain": [
              "\u001b[1m Trainable params: \u001b[0m\u001b[38;5;34m57,240\u001b[0m (223.59 KB)\n"
            ]
          },
          "metadata": {},
          "output_type": "display_data"
        },
        {
          "data": {
            "text/html": [
              "<pre style=\"white-space:pre;overflow-x:auto;line-height:normal;font-family:Menlo,'DejaVu Sans Mono',consolas,'Courier New',monospace\"><span style=\"font-weight: bold\"> Non-trainable params: </span><span style=\"color: #00af00; text-decoration-color: #00af00\">0</span> (0.00 B)\n",
              "</pre>\n"
            ],
            "text/plain": [
              "\u001b[1m Non-trainable params: \u001b[0m\u001b[38;5;34m0\u001b[0m (0.00 B)\n"
            ]
          },
          "metadata": {},
          "output_type": "display_data"
        },
        {
          "data": {
            "text/html": [
              "<pre style=\"white-space:pre;overflow-x:auto;line-height:normal;font-family:Menlo,'DejaVu Sans Mono',consolas,'Courier New',monospace\"><span style=\"font-weight: bold\"> Optimizer params: </span><span style=\"color: #00af00; text-decoration-color: #00af00\">114,482</span> (447.20 KB)\n",
              "</pre>\n"
            ],
            "text/plain": [
              "\u001b[1m Optimizer params: \u001b[0m\u001b[38;5;34m114,482\u001b[0m (447.20 KB)\n"
            ]
          },
          "metadata": {},
          "output_type": "display_data"
        }
      ],
      "source": [
        "model2.summary()"
      ]
    },
    {
      "cell_type": "markdown",
      "metadata": {
        "id": "GC1l6pYTnJlh"
      },
      "source": [
        "As a conclusion to this Model\n",
        "\n",
        "* it has 57,240 total parameter to learn\n",
        "* The `val_accuracy` was 0.9431 so CNN Structure already way better then the Last one"
      ]
    },
    {
      "cell_type": "markdown",
      "metadata": {
        "id": "8FyYntRvoGPz"
      },
      "source": [
        "## 3rd Experiment"
      ]
    },
    {
      "cell_type": "markdown",
      "metadata": {
        "id": "XVKrdcMMpXss"
      },
      "source": [
        "> Here i used the same Model as before but i changed the optimizer to `RMSprop()` to see if it will give a better or a worse result"
      ]
    },
    {
      "cell_type": "code",
      "execution_count": null,
      "metadata": {
        "colab": {
          "base_uri": "https://localhost:8080/"
        },
        "id": "gClg1cs0oLwN",
        "outputId": "55a167a4-20e2-4c9d-c4a3-607613f4027c"
      },
      "outputs": [
        {
          "name": "stdout",
          "output_type": "stream",
          "text": [
            "Epoch 1/20\n",
            "\u001b[1m858/858\u001b[0m \u001b[32m━━━━━━━━━━━━━━━━━━━━\u001b[0m\u001b[37m\u001b[0m \u001b[1m19s\u001b[0m 21ms/step - accuracy: 0.3619 - loss: 2.1766 - val_accuracy: 0.7928 - val_loss: 0.6849\n",
            "Epoch 2/20\n",
            "\u001b[1m858/858\u001b[0m \u001b[32m━━━━━━━━━━━━━━━━━━━━\u001b[0m\u001b[37m\u001b[0m \u001b[1m19s\u001b[0m 22ms/step - accuracy: 0.8609 - loss: 0.4333 - val_accuracy: 0.8784 - val_loss: 0.3643\n",
            "Epoch 3/20\n",
            "\u001b[1m858/858\u001b[0m \u001b[32m━━━━━━━━━━━━━━━━━━━━\u001b[0m\u001b[37m\u001b[0m \u001b[1m21s\u001b[0m 24ms/step - accuracy: 0.9367 - loss: 0.1910 - val_accuracy: 0.9154 - val_loss: 0.2787\n",
            "Epoch 4/20\n",
            "\u001b[1m858/858\u001b[0m \u001b[32m━━━━━━━━━━━━━━━━━━━━\u001b[0m\u001b[37m\u001b[0m \u001b[1m21s\u001b[0m 24ms/step - accuracy: 0.9645 - loss: 0.1122 - val_accuracy: 0.9084 - val_loss: 0.2915\n",
            "Epoch 5/20\n",
            "\u001b[1m858/858\u001b[0m \u001b[32m━━━━━━━━━━━━━━━━━━━━\u001b[0m\u001b[37m\u001b[0m \u001b[1m42s\u001b[0m 25ms/step - accuracy: 0.9759 - loss: 0.0729 - val_accuracy: 0.9327 - val_loss: 0.2385\n",
            "Epoch 6/20\n",
            "\u001b[1m858/858\u001b[0m \u001b[32m━━━━━━━━━━━━━━━━━━━━\u001b[0m\u001b[37m\u001b[0m \u001b[1m23s\u001b[0m 26ms/step - accuracy: 0.9819 - loss: 0.0526 - val_accuracy: 0.9268 - val_loss: 0.2852\n",
            "Epoch 7/20\n",
            "\u001b[1m858/858\u001b[0m \u001b[32m━━━━━━━━━━━━━━━━━━━━\u001b[0m\u001b[37m\u001b[0m \u001b[1m23s\u001b[0m 26ms/step - accuracy: 0.9875 - loss: 0.0400 - val_accuracy: 0.9335 - val_loss: 0.2713\n",
            "Epoch 8/20\n",
            "\u001b[1m858/858\u001b[0m \u001b[32m━━━━━━━━━━━━━━━━━━━━\u001b[0m\u001b[37m\u001b[0m \u001b[1m25s\u001b[0m 29ms/step - accuracy: 0.9866 - loss: 0.0375 - val_accuracy: 0.9335 - val_loss: 0.2717\n",
            "Epoch 9/20\n",
            "\u001b[1m858/858\u001b[0m \u001b[32m━━━━━━━━━━━━━━━━━━━━\u001b[0m\u001b[37m\u001b[0m \u001b[1m23s\u001b[0m 27ms/step - accuracy: 0.9925 - loss: 0.0247 - val_accuracy: 0.9420 - val_loss: 0.2543\n",
            "Epoch 10/20\n",
            "\u001b[1m858/858\u001b[0m \u001b[32m━━━━━━━━━━━━━━━━━━━━\u001b[0m\u001b[37m\u001b[0m \u001b[1m23s\u001b[0m 27ms/step - accuracy: 0.9931 - loss: 0.0232 - val_accuracy: 0.9321 - val_loss: 0.3412\n",
            "Epoch 11/20\n",
            "\u001b[1m858/858\u001b[0m \u001b[32m━━━━━━━━━━━━━━━━━━━━\u001b[0m\u001b[37m\u001b[0m \u001b[1m22s\u001b[0m 26ms/step - accuracy: 0.9933 - loss: 0.0211 - val_accuracy: 0.9334 - val_loss: 0.2775\n",
            "Epoch 12/20\n",
            "\u001b[1m858/858\u001b[0m \u001b[32m━━━━━━━━━━━━━━━━━━━━\u001b[0m\u001b[37m\u001b[0m \u001b[1m24s\u001b[0m 28ms/step - accuracy: 0.9937 - loss: 0.0209 - val_accuracy: 0.9328 - val_loss: 0.3300\n",
            "Epoch 13/20\n",
            "\u001b[1m858/858\u001b[0m \u001b[32m━━━━━━━━━━━━━━━━━━━━\u001b[0m\u001b[37m\u001b[0m \u001b[1m23s\u001b[0m 26ms/step - accuracy: 0.9937 - loss: 0.0178 - val_accuracy: 0.9393 - val_loss: 0.3140\n",
            "Epoch 14/20\n",
            "\u001b[1m858/858\u001b[0m \u001b[32m━━━━━━━━━━━━━━━━━━━━\u001b[0m\u001b[37m\u001b[0m \u001b[1m19s\u001b[0m 22ms/step - accuracy: 0.9958 - loss: 0.0137 - val_accuracy: 0.9251 - val_loss: 0.3409\n",
            "Epoch 15/20\n",
            "\u001b[1m858/858\u001b[0m \u001b[32m━━━━━━━━━━━━━━━━━━━━\u001b[0m\u001b[37m\u001b[0m \u001b[1m18s\u001b[0m 21ms/step - accuracy: 0.9941 - loss: 0.0170 - val_accuracy: 0.9388 - val_loss: 0.3100\n",
            "Epoch 16/20\n",
            "\u001b[1m858/858\u001b[0m \u001b[32m━━━━━━━━━━━━━━━━━━━━\u001b[0m\u001b[37m\u001b[0m \u001b[1m18s\u001b[0m 20ms/step - accuracy: 0.9954 - loss: 0.0139 - val_accuracy: 0.9414 - val_loss: 0.3156\n",
            "Epoch 17/20\n",
            "\u001b[1m858/858\u001b[0m \u001b[32m━━━━━━━━━━━━━━━━━━━━\u001b[0m\u001b[37m\u001b[0m \u001b[1m19s\u001b[0m 22ms/step - accuracy: 0.9962 - loss: 0.0117 - val_accuracy: 0.9331 - val_loss: 0.3484\n",
            "Epoch 18/20\n",
            "\u001b[1m858/858\u001b[0m \u001b[32m━━━━━━━━━━━━━━━━━━━━\u001b[0m\u001b[37m\u001b[0m \u001b[1m22s\u001b[0m 26ms/step - accuracy: 0.9963 - loss: 0.0108 - val_accuracy: 0.9387 - val_loss: 0.3108\n",
            "Epoch 19/20\n",
            "\u001b[1m858/858\u001b[0m \u001b[32m━━━━━━━━━━━━━━━━━━━━\u001b[0m\u001b[37m\u001b[0m \u001b[1m19s\u001b[0m 23ms/step - accuracy: 0.9968 - loss: 0.0121 - val_accuracy: 0.9240 - val_loss: 0.3452\n",
            "Epoch 20/20\n",
            "\u001b[1m858/858\u001b[0m \u001b[32m━━━━━━━━━━━━━━━━━━━━\u001b[0m\u001b[37m\u001b[0m \u001b[1m22s\u001b[0m 26ms/step - accuracy: 0.9979 - loss: 0.0071 - val_accuracy: 0.9385 - val_loss: 0.2859\n"
          ]
        }
      ],
      "source": [
        "model3 = models.Sequential(\n",
        "    [\n",
        "        layers.Input(shape=(28, 28, 1)),\n",
        "        layers.Conv2D(32, kernel_size=(3, 3), activation=\"relu\"),\n",
        "        layers.MaxPooling2D(pool_size=(2, 2)),\n",
        "        layers.Conv2D(64, kernel_size=(3, 3), activation=\"relu\"),\n",
        "        layers.MaxPooling2D(pool_size=(2, 2)),\n",
        "        layers.Flatten(),\n",
        "        layers.Dropout(0.5),\n",
        "        layers.Dense(len(class_names), activation=\"softmax\"),\n",
        "    ],name=\"Model3\"\n",
        ")\n",
        "model3.compile(optimizer=RMSprop(),#changed\n",
        "              loss=tf.keras.losses.CategoricalCrossentropy(from_logits=False),\n",
        "              metrics=['accuracy'])\n",
        "start_train_time = time.time()\n",
        "\n",
        "history3=model3.fit(X_train, y_train, batch_size=32,epochs=20, validation_data=(X_test, y_test))\n",
        "end_train_time = time.time()\n",
        "training_time3 = end_train_time - start_train_time"
      ]
    },
    {
      "cell_type": "code",
      "execution_count": null,
      "metadata": {
        "colab": {
          "base_uri": "https://localhost:8080/"
        },
        "id": "UUGx77Sc_A7Z",
        "outputId": "3a1a258a-5d1b-4428-f752-2473366eca96"
      },
      "outputs": [
        {
          "data": {
            "text/html": [
              "<pre style=\"white-space:pre;overflow-x:auto;line-height:normal;font-family:Menlo,'DejaVu Sans Mono',consolas,'Courier New',monospace\"><span style=\"font-weight: bold\">Model: \"Model3\"</span>\n",
              "</pre>\n"
            ],
            "text/plain": [
              "\u001b[1mModel: \"Model3\"\u001b[0m\n"
            ]
          },
          "metadata": {},
          "output_type": "display_data"
        },
        {
          "data": {
            "text/html": [
              "<pre style=\"white-space:pre;overflow-x:auto;line-height:normal;font-family:Menlo,'DejaVu Sans Mono',consolas,'Courier New',monospace\">┏━━━━━━━━━━━━━━━━━━━━━━━━━━━━━━━━━┳━━━━━━━━━━━━━━━━━━━━━━━━┳━━━━━━━━━━━━━━━┓\n",
              "┃<span style=\"font-weight: bold\"> Layer (type)                    </span>┃<span style=\"font-weight: bold\"> Output Shape           </span>┃<span style=\"font-weight: bold\">       Param # </span>┃\n",
              "┡━━━━━━━━━━━━━━━━━━━━━━━━━━━━━━━━━╇━━━━━━━━━━━━━━━━━━━━━━━━╇━━━━━━━━━━━━━━━┩\n",
              "│ conv2d_2 (<span style=\"color: #0087ff; text-decoration-color: #0087ff\">Conv2D</span>)               │ (<span style=\"color: #00d7ff; text-decoration-color: #00d7ff\">None</span>, <span style=\"color: #00af00; text-decoration-color: #00af00\">26</span>, <span style=\"color: #00af00; text-decoration-color: #00af00\">26</span>, <span style=\"color: #00af00; text-decoration-color: #00af00\">32</span>)     │           <span style=\"color: #00af00; text-decoration-color: #00af00\">320</span> │\n",
              "├─────────────────────────────────┼────────────────────────┼───────────────┤\n",
              "│ max_pooling2d_2 (<span style=\"color: #0087ff; text-decoration-color: #0087ff\">MaxPooling2D</span>)  │ (<span style=\"color: #00d7ff; text-decoration-color: #00d7ff\">None</span>, <span style=\"color: #00af00; text-decoration-color: #00af00\">13</span>, <span style=\"color: #00af00; text-decoration-color: #00af00\">13</span>, <span style=\"color: #00af00; text-decoration-color: #00af00\">32</span>)     │             <span style=\"color: #00af00; text-decoration-color: #00af00\">0</span> │\n",
              "├─────────────────────────────────┼────────────────────────┼───────────────┤\n",
              "│ conv2d_3 (<span style=\"color: #0087ff; text-decoration-color: #0087ff\">Conv2D</span>)               │ (<span style=\"color: #00d7ff; text-decoration-color: #00d7ff\">None</span>, <span style=\"color: #00af00; text-decoration-color: #00af00\">11</span>, <span style=\"color: #00af00; text-decoration-color: #00af00\">11</span>, <span style=\"color: #00af00; text-decoration-color: #00af00\">64</span>)     │        <span style=\"color: #00af00; text-decoration-color: #00af00\">18,496</span> │\n",
              "├─────────────────────────────────┼────────────────────────┼───────────────┤\n",
              "│ max_pooling2d_3 (<span style=\"color: #0087ff; text-decoration-color: #0087ff\">MaxPooling2D</span>)  │ (<span style=\"color: #00d7ff; text-decoration-color: #00d7ff\">None</span>, <span style=\"color: #00af00; text-decoration-color: #00af00\">5</span>, <span style=\"color: #00af00; text-decoration-color: #00af00\">5</span>, <span style=\"color: #00af00; text-decoration-color: #00af00\">64</span>)       │             <span style=\"color: #00af00; text-decoration-color: #00af00\">0</span> │\n",
              "├─────────────────────────────────┼────────────────────────┼───────────────┤\n",
              "│ flatten_2 (<span style=\"color: #0087ff; text-decoration-color: #0087ff\">Flatten</span>)             │ (<span style=\"color: #00d7ff; text-decoration-color: #00d7ff\">None</span>, <span style=\"color: #00af00; text-decoration-color: #00af00\">1600</span>)           │             <span style=\"color: #00af00; text-decoration-color: #00af00\">0</span> │\n",
              "├─────────────────────────────────┼────────────────────────┼───────────────┤\n",
              "│ dropout_1 (<span style=\"color: #0087ff; text-decoration-color: #0087ff\">Dropout</span>)             │ (<span style=\"color: #00d7ff; text-decoration-color: #00d7ff\">None</span>, <span style=\"color: #00af00; text-decoration-color: #00af00\">1600</span>)           │             <span style=\"color: #00af00; text-decoration-color: #00af00\">0</span> │\n",
              "├─────────────────────────────────┼────────────────────────┼───────────────┤\n",
              "│ dense_3 (<span style=\"color: #0087ff; text-decoration-color: #0087ff\">Dense</span>)                 │ (<span style=\"color: #00d7ff; text-decoration-color: #00d7ff\">None</span>, <span style=\"color: #00af00; text-decoration-color: #00af00\">24</span>)             │        <span style=\"color: #00af00; text-decoration-color: #00af00\">38,424</span> │\n",
              "└─────────────────────────────────┴────────────────────────┴───────────────┘\n",
              "</pre>\n"
            ],
            "text/plain": [
              "┏━━━━━━━━━━━━━━━━━━━━━━━━━━━━━━━━━┳━━━━━━━━━━━━━━━━━━━━━━━━┳━━━━━━━━━━━━━━━┓\n",
              "┃\u001b[1m \u001b[0m\u001b[1mLayer (type)                   \u001b[0m\u001b[1m \u001b[0m┃\u001b[1m \u001b[0m\u001b[1mOutput Shape          \u001b[0m\u001b[1m \u001b[0m┃\u001b[1m \u001b[0m\u001b[1m      Param #\u001b[0m\u001b[1m \u001b[0m┃\n",
              "┡━━━━━━━━━━━━━━━━━━━━━━━━━━━━━━━━━╇━━━━━━━━━━━━━━━━━━━━━━━━╇━━━━━━━━━━━━━━━┩\n",
              "│ conv2d_2 (\u001b[38;5;33mConv2D\u001b[0m)               │ (\u001b[38;5;45mNone\u001b[0m, \u001b[38;5;34m26\u001b[0m, \u001b[38;5;34m26\u001b[0m, \u001b[38;5;34m32\u001b[0m)     │           \u001b[38;5;34m320\u001b[0m │\n",
              "├─────────────────────────────────┼────────────────────────┼───────────────┤\n",
              "│ max_pooling2d_2 (\u001b[38;5;33mMaxPooling2D\u001b[0m)  │ (\u001b[38;5;45mNone\u001b[0m, \u001b[38;5;34m13\u001b[0m, \u001b[38;5;34m13\u001b[0m, \u001b[38;5;34m32\u001b[0m)     │             \u001b[38;5;34m0\u001b[0m │\n",
              "├─────────────────────────────────┼────────────────────────┼───────────────┤\n",
              "│ conv2d_3 (\u001b[38;5;33mConv2D\u001b[0m)               │ (\u001b[38;5;45mNone\u001b[0m, \u001b[38;5;34m11\u001b[0m, \u001b[38;5;34m11\u001b[0m, \u001b[38;5;34m64\u001b[0m)     │        \u001b[38;5;34m18,496\u001b[0m │\n",
              "├─────────────────────────────────┼────────────────────────┼───────────────┤\n",
              "│ max_pooling2d_3 (\u001b[38;5;33mMaxPooling2D\u001b[0m)  │ (\u001b[38;5;45mNone\u001b[0m, \u001b[38;5;34m5\u001b[0m, \u001b[38;5;34m5\u001b[0m, \u001b[38;5;34m64\u001b[0m)       │             \u001b[38;5;34m0\u001b[0m │\n",
              "├─────────────────────────────────┼────────────────────────┼───────────────┤\n",
              "│ flatten_2 (\u001b[38;5;33mFlatten\u001b[0m)             │ (\u001b[38;5;45mNone\u001b[0m, \u001b[38;5;34m1600\u001b[0m)           │             \u001b[38;5;34m0\u001b[0m │\n",
              "├─────────────────────────────────┼────────────────────────┼───────────────┤\n",
              "│ dropout_1 (\u001b[38;5;33mDropout\u001b[0m)             │ (\u001b[38;5;45mNone\u001b[0m, \u001b[38;5;34m1600\u001b[0m)           │             \u001b[38;5;34m0\u001b[0m │\n",
              "├─────────────────────────────────┼────────────────────────┼───────────────┤\n",
              "│ dense_3 (\u001b[38;5;33mDense\u001b[0m)                 │ (\u001b[38;5;45mNone\u001b[0m, \u001b[38;5;34m24\u001b[0m)             │        \u001b[38;5;34m38,424\u001b[0m │\n",
              "└─────────────────────────────────┴────────────────────────┴───────────────┘\n"
            ]
          },
          "metadata": {},
          "output_type": "display_data"
        },
        {
          "data": {
            "text/html": [
              "<pre style=\"white-space:pre;overflow-x:auto;line-height:normal;font-family:Menlo,'DejaVu Sans Mono',consolas,'Courier New',monospace\"><span style=\"font-weight: bold\"> Total params: </span><span style=\"color: #00af00; text-decoration-color: #00af00\">114,482</span> (447.20 KB)\n",
              "</pre>\n"
            ],
            "text/plain": [
              "\u001b[1m Total params: \u001b[0m\u001b[38;5;34m114,482\u001b[0m (447.20 KB)\n"
            ]
          },
          "metadata": {},
          "output_type": "display_data"
        },
        {
          "data": {
            "text/html": [
              "<pre style=\"white-space:pre;overflow-x:auto;line-height:normal;font-family:Menlo,'DejaVu Sans Mono',consolas,'Courier New',monospace\"><span style=\"font-weight: bold\"> Trainable params: </span><span style=\"color: #00af00; text-decoration-color: #00af00\">57,240</span> (223.59 KB)\n",
              "</pre>\n"
            ],
            "text/plain": [
              "\u001b[1m Trainable params: \u001b[0m\u001b[38;5;34m57,240\u001b[0m (223.59 KB)\n"
            ]
          },
          "metadata": {},
          "output_type": "display_data"
        },
        {
          "data": {
            "text/html": [
              "<pre style=\"white-space:pre;overflow-x:auto;line-height:normal;font-family:Menlo,'DejaVu Sans Mono',consolas,'Courier New',monospace\"><span style=\"font-weight: bold\"> Non-trainable params: </span><span style=\"color: #00af00; text-decoration-color: #00af00\">0</span> (0.00 B)\n",
              "</pre>\n"
            ],
            "text/plain": [
              "\u001b[1m Non-trainable params: \u001b[0m\u001b[38;5;34m0\u001b[0m (0.00 B)\n"
            ]
          },
          "metadata": {},
          "output_type": "display_data"
        },
        {
          "data": {
            "text/html": [
              "<pre style=\"white-space:pre;overflow-x:auto;line-height:normal;font-family:Menlo,'DejaVu Sans Mono',consolas,'Courier New',monospace\"><span style=\"font-weight: bold\"> Optimizer params: </span><span style=\"color: #00af00; text-decoration-color: #00af00\">57,242</span> (223.61 KB)\n",
              "</pre>\n"
            ],
            "text/plain": [
              "\u001b[1m Optimizer params: \u001b[0m\u001b[38;5;34m57,242\u001b[0m (223.61 KB)\n"
            ]
          },
          "metadata": {},
          "output_type": "display_data"
        }
      ],
      "source": [
        "model3.summary()"
      ]
    },
    {
      "cell_type": "markdown",
      "metadata": {
        "id": "US_eQzQfpqsg"
      },
      "source": [
        "* As i can see, using `RMSprop()` did not yield better results, so I will stick with the `adam` optimizer."
      ]
    },
    {
      "cell_type": "markdown",
      "metadata": {
        "id": "3GVZQM1mqByb"
      },
      "source": [
        "## 4th Experiment"
      ]
    },
    {
      "cell_type": "markdown",
      "metadata": {
        "id": "Q4TLw95vqTbE"
      },
      "source": [
        "> Next, I wanted to add more complexity to the model by Adding one `Conv2D` and one `MaxPooling2D` layer.\n",
        "\n",
        ">Additionally, I added `BatchNormalization()` between each `Conv2D` and `MaxPooling2D` layer for a faster convergence and potentially better performances"
      ]
    },
    {
      "cell_type": "code",
      "execution_count": null,
      "metadata": {
        "colab": {
          "base_uri": "https://localhost:8080/"
        },
        "id": "4KRrLFydqGCr",
        "outputId": "b992411e-545a-4c2b-e312-92cd53f6ce8d"
      },
      "outputs": [
        {
          "name": "stdout",
          "output_type": "stream",
          "text": [
            "Epoch 1/20\n",
            "\u001b[1m858/858\u001b[0m \u001b[32m━━━━━━━━━━━━━━━━━━━━\u001b[0m\u001b[37m\u001b[0m \u001b[1m41s\u001b[0m 41ms/step - accuracy: 0.6386 - loss: 1.3497 - val_accuracy: 0.8707 - val_loss: 0.4053\n",
            "Epoch 2/20\n",
            "\u001b[1m858/858\u001b[0m \u001b[32m━━━━━━━━━━━━━━━━━━━━\u001b[0m\u001b[37m\u001b[0m \u001b[1m30s\u001b[0m 35ms/step - accuracy: 0.9818 - loss: 0.0694 - val_accuracy: 0.8653 - val_loss: 0.4283\n",
            "Epoch 3/20\n",
            "\u001b[1m858/858\u001b[0m \u001b[32m━━━━━━━━━━━━━━━━━━━━\u001b[0m\u001b[37m\u001b[0m \u001b[1m27s\u001b[0m 32ms/step - accuracy: 0.9900 - loss: 0.0370 - val_accuracy: 0.8599 - val_loss: 0.4089\n",
            "Epoch 4/20\n",
            "\u001b[1m858/858\u001b[0m \u001b[32m━━━━━━━━━━━━━━━━━━━━\u001b[0m\u001b[37m\u001b[0m \u001b[1m29s\u001b[0m 34ms/step - accuracy: 0.9960 - loss: 0.0181 - val_accuracy: 0.8879 - val_loss: 0.4166\n",
            "Epoch 5/20\n",
            "\u001b[1m858/858\u001b[0m \u001b[32m━━━━━━━━━━━━━━━━━━━━\u001b[0m\u001b[37m\u001b[0m \u001b[1m31s\u001b[0m 36ms/step - accuracy: 0.9881 - loss: 0.0362 - val_accuracy: 0.9142 - val_loss: 0.2788\n",
            "Epoch 6/20\n",
            "\u001b[1m858/858\u001b[0m \u001b[32m━━━━━━━━━━━━━━━━━━━━\u001b[0m\u001b[37m\u001b[0m \u001b[1m30s\u001b[0m 35ms/step - accuracy: 0.9942 - loss: 0.0192 - val_accuracy: 0.9392 - val_loss: 0.2094\n",
            "Epoch 7/20\n",
            "\u001b[1m858/858\u001b[0m \u001b[32m━━━━━━━━━━━━━━━━━━━━\u001b[0m\u001b[37m\u001b[0m \u001b[1m30s\u001b[0m 35ms/step - accuracy: 0.9963 - loss: 0.0117 - val_accuracy: 0.8865 - val_loss: 0.4539\n",
            "Epoch 8/20\n",
            "\u001b[1m858/858\u001b[0m \u001b[32m━━━━━━━━━━━━━━━━━━━━\u001b[0m\u001b[37m\u001b[0m \u001b[1m31s\u001b[0m 36ms/step - accuracy: 0.9924 - loss: 0.0241 - val_accuracy: 0.9116 - val_loss: 0.2881\n",
            "Epoch 9/20\n",
            "\u001b[1m858/858\u001b[0m \u001b[32m━━━━━━━━━━━━━━━━━━━━\u001b[0m\u001b[37m\u001b[0m \u001b[1m33s\u001b[0m 38ms/step - accuracy: 0.9968 - loss: 0.0104 - val_accuracy: 0.8544 - val_loss: 0.5097\n",
            "Epoch 10/20\n",
            "\u001b[1m858/858\u001b[0m \u001b[32m━━━━━━━━━━━━━━━━━━━━\u001b[0m\u001b[37m\u001b[0m \u001b[1m33s\u001b[0m 38ms/step - accuracy: 0.9969 - loss: 0.0092 - val_accuracy: 0.8596 - val_loss: 0.4627\n",
            "Epoch 11/20\n",
            "\u001b[1m858/858\u001b[0m \u001b[32m━━━━━━━━━━━━━━━━━━━━\u001b[0m\u001b[37m\u001b[0m \u001b[1m29s\u001b[0m 33ms/step - accuracy: 0.9976 - loss: 0.0087 - val_accuracy: 0.8924 - val_loss: 0.3650\n",
            "Epoch 12/20\n",
            "\u001b[1m858/858\u001b[0m \u001b[32m━━━━━━━━━━━━━━━━━━━━\u001b[0m\u001b[37m\u001b[0m \u001b[1m32s\u001b[0m 38ms/step - accuracy: 0.9956 - loss: 0.0138 - val_accuracy: 0.9587 - val_loss: 0.1677\n",
            "Epoch 13/20\n",
            "\u001b[1m858/858\u001b[0m \u001b[32m━━━━━━━━━━━━━━━━━━━━\u001b[0m\u001b[37m\u001b[0m \u001b[1m30s\u001b[0m 35ms/step - accuracy: 0.9978 - loss: 0.0070 - val_accuracy: 0.9322 - val_loss: 0.2686\n",
            "Epoch 14/20\n",
            "\u001b[1m858/858\u001b[0m \u001b[32m━━━━━━━━━━━━━━━━━━━━\u001b[0m\u001b[37m\u001b[0m \u001b[1m32s\u001b[0m 38ms/step - accuracy: 0.9961 - loss: 0.0101 - val_accuracy: 0.8144 - val_loss: 0.7903\n",
            "Epoch 15/20\n",
            "\u001b[1m858/858\u001b[0m \u001b[32m━━━━━━━━━━━━━━━━━━━━\u001b[0m\u001b[37m\u001b[0m \u001b[1m32s\u001b[0m 37ms/step - accuracy: 0.9984 - loss: 0.0045 - val_accuracy: 0.8192 - val_loss: 0.7107\n",
            "Epoch 16/20\n",
            "\u001b[1m858/858\u001b[0m \u001b[32m━━━━━━━━━━━━━━━━━━━━\u001b[0m\u001b[37m\u001b[0m \u001b[1m31s\u001b[0m 36ms/step - accuracy: 0.9977 - loss: 0.0088 - val_accuracy: 0.9453 - val_loss: 0.2093\n",
            "Epoch 17/20\n",
            "\u001b[1m858/858\u001b[0m \u001b[32m━━━━━━━━━━━━━━━━━━━━\u001b[0m\u001b[37m\u001b[0m \u001b[1m34s\u001b[0m 39ms/step - accuracy: 0.9984 - loss: 0.0046 - val_accuracy: 0.9136 - val_loss: 0.3600\n",
            "Epoch 18/20\n",
            "\u001b[1m858/858\u001b[0m \u001b[32m━━━━━━━━━━━━━━━━━━━━\u001b[0m\u001b[37m\u001b[0m \u001b[1m30s\u001b[0m 35ms/step - accuracy: 0.9986 - loss: 0.0041 - val_accuracy: 0.8922 - val_loss: 0.3828\n",
            "Epoch 19/20\n",
            "\u001b[1m858/858\u001b[0m \u001b[32m━━━━━━━━━━━━━━━━━━━━\u001b[0m\u001b[37m\u001b[0m \u001b[1m31s\u001b[0m 36ms/step - accuracy: 0.9978 - loss: 0.0074 - val_accuracy: 0.9566 - val_loss: 0.1639\n",
            "Epoch 20/20\n",
            "\u001b[1m858/858\u001b[0m \u001b[32m━━━━━━━━━━━━━━━━━━━━\u001b[0m\u001b[37m\u001b[0m \u001b[1m30s\u001b[0m 35ms/step - accuracy: 0.9968 - loss: 0.0086 - val_accuracy: 0.9375 - val_loss: 0.2652\n"
          ]
        }
      ],
      "source": [
        "model4 = models.Sequential(\n",
        "    [\n",
        "        layers.Input(shape=(28, 28, 1)),\n",
        "        layers.Conv2D(32, kernel_size=(3, 3), activation=\"relu\"),\n",
        "        BatchNormalization(),#Added\n",
        "        layers.MaxPooling2D(pool_size=(2, 2)),\n",
        "        layers.Conv2D(64, kernel_size=(3, 3), activation=\"relu\"),\n",
        "        BatchNormalization(),#Added\n",
        "        layers.MaxPooling2D(pool_size=(2, 2)),\n",
        "        layers.Conv2D(128, kernel_size=(3, 3), activation=\"relu\"),#added\n",
        "        BatchNormalization(),#added\n",
        "        layers.MaxPooling2D(pool_size=(2, 2)),#added\n",
        "        layers.Flatten(),\n",
        "        layers.Dropout(0.5),\n",
        "        layers.Dense(len(class_names), activation=\"softmax\"),\n",
        "    ],name=\"Model4\"\n",
        ")\n",
        "model4.compile(optimizer='adam',\n",
        "              loss=tf.keras.losses.CategoricalCrossentropy(from_logits=False),\n",
        "              metrics=['accuracy'])\n",
        "start_train_time = time.time()\n",
        "\n",
        "history4=model4.fit(X_train, y_train, batch_size=32,epochs=20, validation_data=(X_test, y_test))\n",
        "end_train_time = time.time()\n",
        "training_time4 = end_train_time - start_train_time"
      ]
    },
    {
      "cell_type": "code",
      "execution_count": null,
      "metadata": {
        "colab": {
          "base_uri": "https://localhost:8080/"
        },
        "id": "2tOaW22ZEFus",
        "outputId": "c7679125-ef6c-4de6-db22-5a9d9a29c596"
      },
      "outputs": [
        {
          "data": {
            "text/html": [
              "<pre style=\"white-space:pre;overflow-x:auto;line-height:normal;font-family:Menlo,'DejaVu Sans Mono',consolas,'Courier New',monospace\"><span style=\"font-weight: bold\">Model: \"Model4\"</span>\n",
              "</pre>\n"
            ],
            "text/plain": [
              "\u001b[1mModel: \"Model4\"\u001b[0m\n"
            ]
          },
          "metadata": {},
          "output_type": "display_data"
        },
        {
          "data": {
            "text/html": [
              "<pre style=\"white-space:pre;overflow-x:auto;line-height:normal;font-family:Menlo,'DejaVu Sans Mono',consolas,'Courier New',monospace\">┏━━━━━━━━━━━━━━━━━━━━━━━━━━━━━━━━━┳━━━━━━━━━━━━━━━━━━━━━━━━┳━━━━━━━━━━━━━━━┓\n",
              "┃<span style=\"font-weight: bold\"> Layer (type)                    </span>┃<span style=\"font-weight: bold\"> Output Shape           </span>┃<span style=\"font-weight: bold\">       Param # </span>┃\n",
              "┡━━━━━━━━━━━━━━━━━━━━━━━━━━━━━━━━━╇━━━━━━━━━━━━━━━━━━━━━━━━╇━━━━━━━━━━━━━━━┩\n",
              "│ conv2d_4 (<span style=\"color: #0087ff; text-decoration-color: #0087ff\">Conv2D</span>)               │ (<span style=\"color: #00d7ff; text-decoration-color: #00d7ff\">None</span>, <span style=\"color: #00af00; text-decoration-color: #00af00\">26</span>, <span style=\"color: #00af00; text-decoration-color: #00af00\">26</span>, <span style=\"color: #00af00; text-decoration-color: #00af00\">32</span>)     │           <span style=\"color: #00af00; text-decoration-color: #00af00\">320</span> │\n",
              "├─────────────────────────────────┼────────────────────────┼───────────────┤\n",
              "│ batch_normalization             │ (<span style=\"color: #00d7ff; text-decoration-color: #00d7ff\">None</span>, <span style=\"color: #00af00; text-decoration-color: #00af00\">26</span>, <span style=\"color: #00af00; text-decoration-color: #00af00\">26</span>, <span style=\"color: #00af00; text-decoration-color: #00af00\">32</span>)     │           <span style=\"color: #00af00; text-decoration-color: #00af00\">128</span> │\n",
              "│ (<span style=\"color: #0087ff; text-decoration-color: #0087ff\">BatchNormalization</span>)            │                        │               │\n",
              "├─────────────────────────────────┼────────────────────────┼───────────────┤\n",
              "│ max_pooling2d_4 (<span style=\"color: #0087ff; text-decoration-color: #0087ff\">MaxPooling2D</span>)  │ (<span style=\"color: #00d7ff; text-decoration-color: #00d7ff\">None</span>, <span style=\"color: #00af00; text-decoration-color: #00af00\">13</span>, <span style=\"color: #00af00; text-decoration-color: #00af00\">13</span>, <span style=\"color: #00af00; text-decoration-color: #00af00\">32</span>)     │             <span style=\"color: #00af00; text-decoration-color: #00af00\">0</span> │\n",
              "├─────────────────────────────────┼────────────────────────┼───────────────┤\n",
              "│ conv2d_5 (<span style=\"color: #0087ff; text-decoration-color: #0087ff\">Conv2D</span>)               │ (<span style=\"color: #00d7ff; text-decoration-color: #00d7ff\">None</span>, <span style=\"color: #00af00; text-decoration-color: #00af00\">11</span>, <span style=\"color: #00af00; text-decoration-color: #00af00\">11</span>, <span style=\"color: #00af00; text-decoration-color: #00af00\">64</span>)     │        <span style=\"color: #00af00; text-decoration-color: #00af00\">18,496</span> │\n",
              "├─────────────────────────────────┼────────────────────────┼───────────────┤\n",
              "│ batch_normalization_1           │ (<span style=\"color: #00d7ff; text-decoration-color: #00d7ff\">None</span>, <span style=\"color: #00af00; text-decoration-color: #00af00\">11</span>, <span style=\"color: #00af00; text-decoration-color: #00af00\">11</span>, <span style=\"color: #00af00; text-decoration-color: #00af00\">64</span>)     │           <span style=\"color: #00af00; text-decoration-color: #00af00\">256</span> │\n",
              "│ (<span style=\"color: #0087ff; text-decoration-color: #0087ff\">BatchNormalization</span>)            │                        │               │\n",
              "├─────────────────────────────────┼────────────────────────┼───────────────┤\n",
              "│ max_pooling2d_5 (<span style=\"color: #0087ff; text-decoration-color: #0087ff\">MaxPooling2D</span>)  │ (<span style=\"color: #00d7ff; text-decoration-color: #00d7ff\">None</span>, <span style=\"color: #00af00; text-decoration-color: #00af00\">5</span>, <span style=\"color: #00af00; text-decoration-color: #00af00\">5</span>, <span style=\"color: #00af00; text-decoration-color: #00af00\">64</span>)       │             <span style=\"color: #00af00; text-decoration-color: #00af00\">0</span> │\n",
              "├─────────────────────────────────┼────────────────────────┼───────────────┤\n",
              "│ conv2d_6 (<span style=\"color: #0087ff; text-decoration-color: #0087ff\">Conv2D</span>)               │ (<span style=\"color: #00d7ff; text-decoration-color: #00d7ff\">None</span>, <span style=\"color: #00af00; text-decoration-color: #00af00\">3</span>, <span style=\"color: #00af00; text-decoration-color: #00af00\">3</span>, <span style=\"color: #00af00; text-decoration-color: #00af00\">128</span>)      │        <span style=\"color: #00af00; text-decoration-color: #00af00\">73,856</span> │\n",
              "├─────────────────────────────────┼────────────────────────┼───────────────┤\n",
              "│ batch_normalization_2           │ (<span style=\"color: #00d7ff; text-decoration-color: #00d7ff\">None</span>, <span style=\"color: #00af00; text-decoration-color: #00af00\">3</span>, <span style=\"color: #00af00; text-decoration-color: #00af00\">3</span>, <span style=\"color: #00af00; text-decoration-color: #00af00\">128</span>)      │           <span style=\"color: #00af00; text-decoration-color: #00af00\">512</span> │\n",
              "│ (<span style=\"color: #0087ff; text-decoration-color: #0087ff\">BatchNormalization</span>)            │                        │               │\n",
              "├─────────────────────────────────┼────────────────────────┼───────────────┤\n",
              "│ max_pooling2d_6 (<span style=\"color: #0087ff; text-decoration-color: #0087ff\">MaxPooling2D</span>)  │ (<span style=\"color: #00d7ff; text-decoration-color: #00d7ff\">None</span>, <span style=\"color: #00af00; text-decoration-color: #00af00\">1</span>, <span style=\"color: #00af00; text-decoration-color: #00af00\">1</span>, <span style=\"color: #00af00; text-decoration-color: #00af00\">128</span>)      │             <span style=\"color: #00af00; text-decoration-color: #00af00\">0</span> │\n",
              "├─────────────────────────────────┼────────────────────────┼───────────────┤\n",
              "│ flatten_3 (<span style=\"color: #0087ff; text-decoration-color: #0087ff\">Flatten</span>)             │ (<span style=\"color: #00d7ff; text-decoration-color: #00d7ff\">None</span>, <span style=\"color: #00af00; text-decoration-color: #00af00\">128</span>)            │             <span style=\"color: #00af00; text-decoration-color: #00af00\">0</span> │\n",
              "├─────────────────────────────────┼────────────────────────┼───────────────┤\n",
              "│ dropout_2 (<span style=\"color: #0087ff; text-decoration-color: #0087ff\">Dropout</span>)             │ (<span style=\"color: #00d7ff; text-decoration-color: #00d7ff\">None</span>, <span style=\"color: #00af00; text-decoration-color: #00af00\">128</span>)            │             <span style=\"color: #00af00; text-decoration-color: #00af00\">0</span> │\n",
              "├─────────────────────────────────┼────────────────────────┼───────────────┤\n",
              "│ dense_4 (<span style=\"color: #0087ff; text-decoration-color: #0087ff\">Dense</span>)                 │ (<span style=\"color: #00d7ff; text-decoration-color: #00d7ff\">None</span>, <span style=\"color: #00af00; text-decoration-color: #00af00\">24</span>)             │         <span style=\"color: #00af00; text-decoration-color: #00af00\">3,096</span> │\n",
              "└─────────────────────────────────┴────────────────────────┴───────────────┘\n",
              "</pre>\n"
            ],
            "text/plain": [
              "┏━━━━━━━━━━━━━━━━━━━━━━━━━━━━━━━━━┳━━━━━━━━━━━━━━━━━━━━━━━━┳━━━━━━━━━━━━━━━┓\n",
              "┃\u001b[1m \u001b[0m\u001b[1mLayer (type)                   \u001b[0m\u001b[1m \u001b[0m┃\u001b[1m \u001b[0m\u001b[1mOutput Shape          \u001b[0m\u001b[1m \u001b[0m┃\u001b[1m \u001b[0m\u001b[1m      Param #\u001b[0m\u001b[1m \u001b[0m┃\n",
              "┡━━━━━━━━━━━━━━━━━━━━━━━━━━━━━━━━━╇━━━━━━━━━━━━━━━━━━━━━━━━╇━━━━━━━━━━━━━━━┩\n",
              "│ conv2d_4 (\u001b[38;5;33mConv2D\u001b[0m)               │ (\u001b[38;5;45mNone\u001b[0m, \u001b[38;5;34m26\u001b[0m, \u001b[38;5;34m26\u001b[0m, \u001b[38;5;34m32\u001b[0m)     │           \u001b[38;5;34m320\u001b[0m │\n",
              "├─────────────────────────────────┼────────────────────────┼───────────────┤\n",
              "│ batch_normalization             │ (\u001b[38;5;45mNone\u001b[0m, \u001b[38;5;34m26\u001b[0m, \u001b[38;5;34m26\u001b[0m, \u001b[38;5;34m32\u001b[0m)     │           \u001b[38;5;34m128\u001b[0m │\n",
              "│ (\u001b[38;5;33mBatchNormalization\u001b[0m)            │                        │               │\n",
              "├─────────────────────────────────┼────────────────────────┼───────────────┤\n",
              "│ max_pooling2d_4 (\u001b[38;5;33mMaxPooling2D\u001b[0m)  │ (\u001b[38;5;45mNone\u001b[0m, \u001b[38;5;34m13\u001b[0m, \u001b[38;5;34m13\u001b[0m, \u001b[38;5;34m32\u001b[0m)     │             \u001b[38;5;34m0\u001b[0m │\n",
              "├─────────────────────────────────┼────────────────────────┼───────────────┤\n",
              "│ conv2d_5 (\u001b[38;5;33mConv2D\u001b[0m)               │ (\u001b[38;5;45mNone\u001b[0m, \u001b[38;5;34m11\u001b[0m, \u001b[38;5;34m11\u001b[0m, \u001b[38;5;34m64\u001b[0m)     │        \u001b[38;5;34m18,496\u001b[0m │\n",
              "├─────────────────────────────────┼────────────────────────┼───────────────┤\n",
              "│ batch_normalization_1           │ (\u001b[38;5;45mNone\u001b[0m, \u001b[38;5;34m11\u001b[0m, \u001b[38;5;34m11\u001b[0m, \u001b[38;5;34m64\u001b[0m)     │           \u001b[38;5;34m256\u001b[0m │\n",
              "│ (\u001b[38;5;33mBatchNormalization\u001b[0m)            │                        │               │\n",
              "├─────────────────────────────────┼────────────────────────┼───────────────┤\n",
              "│ max_pooling2d_5 (\u001b[38;5;33mMaxPooling2D\u001b[0m)  │ (\u001b[38;5;45mNone\u001b[0m, \u001b[38;5;34m5\u001b[0m, \u001b[38;5;34m5\u001b[0m, \u001b[38;5;34m64\u001b[0m)       │             \u001b[38;5;34m0\u001b[0m │\n",
              "├─────────────────────────────────┼────────────────────────┼───────────────┤\n",
              "│ conv2d_6 (\u001b[38;5;33mConv2D\u001b[0m)               │ (\u001b[38;5;45mNone\u001b[0m, \u001b[38;5;34m3\u001b[0m, \u001b[38;5;34m3\u001b[0m, \u001b[38;5;34m128\u001b[0m)      │        \u001b[38;5;34m73,856\u001b[0m │\n",
              "├─────────────────────────────────┼────────────────────────┼───────────────┤\n",
              "│ batch_normalization_2           │ (\u001b[38;5;45mNone\u001b[0m, \u001b[38;5;34m3\u001b[0m, \u001b[38;5;34m3\u001b[0m, \u001b[38;5;34m128\u001b[0m)      │           \u001b[38;5;34m512\u001b[0m │\n",
              "│ (\u001b[38;5;33mBatchNormalization\u001b[0m)            │                        │               │\n",
              "├─────────────────────────────────┼────────────────────────┼───────────────┤\n",
              "│ max_pooling2d_6 (\u001b[38;5;33mMaxPooling2D\u001b[0m)  │ (\u001b[38;5;45mNone\u001b[0m, \u001b[38;5;34m1\u001b[0m, \u001b[38;5;34m1\u001b[0m, \u001b[38;5;34m128\u001b[0m)      │             \u001b[38;5;34m0\u001b[0m │\n",
              "├─────────────────────────────────┼────────────────────────┼───────────────┤\n",
              "│ flatten_3 (\u001b[38;5;33mFlatten\u001b[0m)             │ (\u001b[38;5;45mNone\u001b[0m, \u001b[38;5;34m128\u001b[0m)            │             \u001b[38;5;34m0\u001b[0m │\n",
              "├─────────────────────────────────┼────────────────────────┼───────────────┤\n",
              "│ dropout_2 (\u001b[38;5;33mDropout\u001b[0m)             │ (\u001b[38;5;45mNone\u001b[0m, \u001b[38;5;34m128\u001b[0m)            │             \u001b[38;5;34m0\u001b[0m │\n",
              "├─────────────────────────────────┼────────────────────────┼───────────────┤\n",
              "│ dense_4 (\u001b[38;5;33mDense\u001b[0m)                 │ (\u001b[38;5;45mNone\u001b[0m, \u001b[38;5;34m24\u001b[0m)             │         \u001b[38;5;34m3,096\u001b[0m │\n",
              "└─────────────────────────────────┴────────────────────────┴───────────────┘\n"
            ]
          },
          "metadata": {},
          "output_type": "display_data"
        },
        {
          "data": {
            "text/html": [
              "<pre style=\"white-space:pre;overflow-x:auto;line-height:normal;font-family:Menlo,'DejaVu Sans Mono',consolas,'Courier New',monospace\"><span style=\"font-weight: bold\"> Total params: </span><span style=\"color: #00af00; text-decoration-color: #00af00\">289,098</span> (1.10 MB)\n",
              "</pre>\n"
            ],
            "text/plain": [
              "\u001b[1m Total params: \u001b[0m\u001b[38;5;34m289,098\u001b[0m (1.10 MB)\n"
            ]
          },
          "metadata": {},
          "output_type": "display_data"
        },
        {
          "data": {
            "text/html": [
              "<pre style=\"white-space:pre;overflow-x:auto;line-height:normal;font-family:Menlo,'DejaVu Sans Mono',consolas,'Courier New',monospace\"><span style=\"font-weight: bold\"> Trainable params: </span><span style=\"color: #00af00; text-decoration-color: #00af00\">96,216</span> (375.84 KB)\n",
              "</pre>\n"
            ],
            "text/plain": [
              "\u001b[1m Trainable params: \u001b[0m\u001b[38;5;34m96,216\u001b[0m (375.84 KB)\n"
            ]
          },
          "metadata": {},
          "output_type": "display_data"
        },
        {
          "data": {
            "text/html": [
              "<pre style=\"white-space:pre;overflow-x:auto;line-height:normal;font-family:Menlo,'DejaVu Sans Mono',consolas,'Courier New',monospace\"><span style=\"font-weight: bold\"> Non-trainable params: </span><span style=\"color: #00af00; text-decoration-color: #00af00\">448</span> (1.75 KB)\n",
              "</pre>\n"
            ],
            "text/plain": [
              "\u001b[1m Non-trainable params: \u001b[0m\u001b[38;5;34m448\u001b[0m (1.75 KB)\n"
            ]
          },
          "metadata": {},
          "output_type": "display_data"
        },
        {
          "data": {
            "text/html": [
              "<pre style=\"white-space:pre;overflow-x:auto;line-height:normal;font-family:Menlo,'DejaVu Sans Mono',consolas,'Courier New',monospace\"><span style=\"font-weight: bold\"> Optimizer params: </span><span style=\"color: #00af00; text-decoration-color: #00af00\">192,434</span> (751.70 KB)\n",
              "</pre>\n"
            ],
            "text/plain": [
              "\u001b[1m Optimizer params: \u001b[0m\u001b[38;5;34m192,434\u001b[0m (751.70 KB)\n"
            ]
          },
          "metadata": {},
          "output_type": "display_data"
        }
      ],
      "source": [
        "model4.summary()"
      ]
    },
    {
      "cell_type": "markdown",
      "metadata": {
        "id": "_GKUKu8Swj--"
      },
      "source": [
        "* The results are somewhat similar to the previous ones, but now I have more trainable parameters (96,216) to work with, which should help achieve better results."
      ]
    },
    {
      "cell_type": "markdown",
      "metadata": {
        "id": "glYg8-3rwyiD"
      },
      "source": [
        "## 5th Experiment"
      ]
    },
    {
      "cell_type": "markdown",
      "metadata": {
        "id": "DHKtcZg80isX"
      },
      "source": [
        "* In the model, I adjusted the dropouts to improve performance.\n",
        "\n",
        ">I added a dropout of 20% in the middle of the model and decreased the last dropout from 50% to 20%, as i think 50% might be too high in this case"
      ]
    },
    {
      "cell_type": "code",
      "execution_count": null,
      "metadata": {
        "colab": {
          "base_uri": "https://localhost:8080/"
        },
        "id": "AY1bGCiMyReM",
        "outputId": "75e1716a-9946-4a68-85da-02e7009c7d5c"
      },
      "outputs": [
        {
          "name": "stdout",
          "output_type": "stream",
          "text": [
            "Epoch 1/20\n",
            "\u001b[1m858/858\u001b[0m \u001b[32m━━━━━━━━━━━━━━━━━━━━\u001b[0m\u001b[37m\u001b[0m \u001b[1m46s\u001b[0m 46ms/step - accuracy: 0.7523 - loss: 0.9136 - val_accuracy: 0.8939 - val_loss: 0.3466\n",
            "Epoch 2/20\n",
            "\u001b[1m858/858\u001b[0m \u001b[32m━━━━━━━━━━━━━━━━━━━━\u001b[0m\u001b[37m\u001b[0m \u001b[1m35s\u001b[0m 41ms/step - accuracy: 0.9928 - loss: 0.0291 - val_accuracy: 0.9123 - val_loss: 0.2452\n",
            "Epoch 3/20\n",
            "\u001b[1m858/858\u001b[0m \u001b[32m━━━━━━━━━━━━━━━━━━━━\u001b[0m\u001b[37m\u001b[0m \u001b[1m36s\u001b[0m 42ms/step - accuracy: 0.9952 - loss: 0.0199 - val_accuracy: 0.9310 - val_loss: 0.2370\n",
            "Epoch 4/20\n",
            "\u001b[1m858/858\u001b[0m \u001b[32m━━━━━━━━━━━━━━━━━━━━\u001b[0m\u001b[37m\u001b[0m \u001b[1m34s\u001b[0m 39ms/step - accuracy: 0.9974 - loss: 0.0104 - val_accuracy: 0.9108 - val_loss: 0.2835\n",
            "Epoch 5/20\n",
            "\u001b[1m858/858\u001b[0m \u001b[32m━━━━━━━━━━━━━━━━━━━━\u001b[0m\u001b[37m\u001b[0m \u001b[1m36s\u001b[0m 42ms/step - accuracy: 0.9984 - loss: 0.0077 - val_accuracy: 0.8816 - val_loss: 0.3846\n",
            "Epoch 6/20\n",
            "\u001b[1m858/858\u001b[0m \u001b[32m━━━━━━━━━━━━━━━━━━━━\u001b[0m\u001b[37m\u001b[0m \u001b[1m37s\u001b[0m 43ms/step - accuracy: 0.9959 - loss: 0.0138 - val_accuracy: 0.9413 - val_loss: 0.1638\n",
            "Epoch 7/20\n",
            "\u001b[1m858/858\u001b[0m \u001b[32m━━━━━━━━━━━━━━━━━━━━\u001b[0m\u001b[37m\u001b[0m \u001b[1m40s\u001b[0m 46ms/step - accuracy: 0.9965 - loss: 0.0118 - val_accuracy: 0.8613 - val_loss: 0.4865\n",
            "Epoch 8/20\n",
            "\u001b[1m858/858\u001b[0m \u001b[32m━━━━━━━━━━━━━━━━━━━━\u001b[0m\u001b[37m\u001b[0m \u001b[1m38s\u001b[0m 44ms/step - accuracy: 0.9963 - loss: 0.0125 - val_accuracy: 0.9499 - val_loss: 0.1732\n",
            "Epoch 9/20\n",
            "\u001b[1m858/858\u001b[0m \u001b[32m━━━━━━━━━━━━━━━━━━━━\u001b[0m\u001b[37m\u001b[0m \u001b[1m35s\u001b[0m 40ms/step - accuracy: 0.9988 - loss: 0.0042 - val_accuracy: 0.9420 - val_loss: 0.2636\n",
            "Epoch 10/20\n",
            "\u001b[1m858/858\u001b[0m \u001b[32m━━━━━━━━━━━━━━━━━━━━\u001b[0m\u001b[37m\u001b[0m \u001b[1m38s\u001b[0m 44ms/step - accuracy: 0.9979 - loss: 0.0066 - val_accuracy: 0.9024 - val_loss: 0.3210\n",
            "Epoch 11/20\n",
            "\u001b[1m858/858\u001b[0m \u001b[32m━━━━━━━━━━━━━━━━━━━━\u001b[0m\u001b[37m\u001b[0m \u001b[1m34s\u001b[0m 39ms/step - accuracy: 0.9985 - loss: 0.0048 - val_accuracy: 0.9366 - val_loss: 0.2004\n",
            "Epoch 12/20\n",
            "\u001b[1m858/858\u001b[0m \u001b[32m━━━━━━━━━━━━━━━━━━━━\u001b[0m\u001b[37m\u001b[0m \u001b[1m37s\u001b[0m 43ms/step - accuracy: 0.9991 - loss: 0.0041 - val_accuracy: 0.8890 - val_loss: 0.3661\n",
            "Epoch 13/20\n",
            "\u001b[1m858/858\u001b[0m \u001b[32m━━━━━━━━━━━━━━━━━━━━\u001b[0m\u001b[37m\u001b[0m \u001b[1m38s\u001b[0m 44ms/step - accuracy: 0.9971 - loss: 0.0094 - val_accuracy: 0.7577 - val_loss: 0.8278\n",
            "Epoch 14/20\n",
            "\u001b[1m858/858\u001b[0m \u001b[32m━━━━━━━━━━━━━━━━━━━━\u001b[0m\u001b[37m\u001b[0m \u001b[1m36s\u001b[0m 42ms/step - accuracy: 0.9984 - loss: 0.0060 - val_accuracy: 0.9059 - val_loss: 0.3859\n",
            "Epoch 15/20\n",
            "\u001b[1m858/858\u001b[0m \u001b[32m━━━━━━━━━━━━━━━━━━━━\u001b[0m\u001b[37m\u001b[0m \u001b[1m37s\u001b[0m 44ms/step - accuracy: 0.9992 - loss: 0.0030 - val_accuracy: 0.9409 - val_loss: 0.1905\n",
            "Epoch 16/20\n",
            "\u001b[1m858/858\u001b[0m \u001b[32m━━━━━━━━━━━━━━━━━━━━\u001b[0m\u001b[37m\u001b[0m \u001b[1m34s\u001b[0m 40ms/step - accuracy: 0.9981 - loss: 0.0064 - val_accuracy: 0.7525 - val_loss: 1.0579\n",
            "Epoch 17/20\n",
            "\u001b[1m858/858\u001b[0m \u001b[32m━━━━━━━━━━━━━━━━━━━━\u001b[0m\u001b[37m\u001b[0m \u001b[1m42s\u001b[0m 48ms/step - accuracy: 0.9991 - loss: 0.0041 - val_accuracy: 0.8049 - val_loss: 0.7235\n",
            "Epoch 18/20\n",
            "\u001b[1m858/858\u001b[0m \u001b[32m━━━━━━━━━━━━━━━━━━━━\u001b[0m\u001b[37m\u001b[0m \u001b[1m44s\u001b[0m 52ms/step - accuracy: 0.9985 - loss: 0.0067 - val_accuracy: 0.9586 - val_loss: 0.1508\n",
            "Epoch 19/20\n",
            "\u001b[1m858/858\u001b[0m \u001b[32m━━━━━━━━━━━━━━━━━━━━\u001b[0m\u001b[37m\u001b[0m \u001b[1m33s\u001b[0m 39ms/step - accuracy: 0.9994 - loss: 0.0026 - val_accuracy: 0.9004 - val_loss: 0.3173\n",
            "Epoch 20/20\n",
            "\u001b[1m858/858\u001b[0m \u001b[32m━━━━━━━━━━━━━━━━━━━━\u001b[0m\u001b[37m\u001b[0m \u001b[1m32s\u001b[0m 37ms/step - accuracy: 0.9983 - loss: 0.0060 - val_accuracy: 0.9533 - val_loss: 0.1581\n"
          ]
        }
      ],
      "source": [
        "model5 = models.Sequential(\n",
        "    [\n",
        "        layers.Input(shape=(28, 28, 1)),\n",
        "        layers.Conv2D(32, kernel_size=(3, 3), activation=\"relu\"),\n",
        "        BatchNormalization(),\n",
        "        layers.MaxPooling2D(pool_size=(2, 2)),\n",
        "        layers.Conv2D(64, kernel_size=(3, 3), activation=\"relu\"),\n",
        "        layers.Dropout(0.2),#added\n",
        "        BatchNormalization(),\n",
        "        layers.MaxPooling2D(pool_size=(2, 2)),\n",
        "        layers.Conv2D(128, kernel_size=(3, 3), activation=\"relu\"),\n",
        "        BatchNormalization(),\n",
        "        layers.MaxPooling2D(pool_size=(2, 2)),\n",
        "        layers.Flatten(),\n",
        "        layers.Dropout(0.2),#decrease to 0.2\n",
        "        layers.Dense(len(class_names), activation=\"softmax\"),\n",
        "    ],name=\"Model5\")\n",
        "\n",
        "\n",
        "model5.compile(optimizer='adam',\n",
        "              loss=tf.keras.losses.CategoricalCrossentropy(from_logits=False),\n",
        "              metrics=['accuracy'])\n",
        "start_train_time = time.time()\n",
        "\n",
        "history5=model5.fit(X_train, y_train, batch_size=32,epochs=20, validation_data=(X_test, y_test))\n",
        "end_train_time = time.time()\n",
        "training_time5 = end_train_time - start_train_time"
      ]
    },
    {
      "cell_type": "code",
      "execution_count": null,
      "metadata": {
        "id": "dTtAHk1wq5KB",
        "outputId": "92325236-b8ef-4e2e-f665-8650c1aed653"
      },
      "outputs": [
        {
          "data": {
            "text/html": [
              "<pre style=\"white-space:pre;overflow-x:auto;line-height:normal;font-family:Menlo,'DejaVu Sans Mono',consolas,'Courier New',monospace\"><span style=\"font-weight: bold\">Model: \"Model5\"</span>\n",
              "</pre>\n"
            ],
            "text/plain": [
              "\u001b[1mModel: \"Model5\"\u001b[0m\n"
            ]
          },
          "metadata": {},
          "output_type": "display_data"
        },
        {
          "data": {
            "text/html": [
              "<pre style=\"white-space:pre;overflow-x:auto;line-height:normal;font-family:Menlo,'DejaVu Sans Mono',consolas,'Courier New',monospace\">┏━━━━━━━━━━━━━━━━━━━━━━━━━━━━━━━━━┳━━━━━━━━━━━━━━━━━━━━━━━━┳━━━━━━━━━━━━━━━┓\n",
              "┃<span style=\"font-weight: bold\"> Layer (type)                    </span>┃<span style=\"font-weight: bold\"> Output Shape           </span>┃<span style=\"font-weight: bold\">       Param # </span>┃\n",
              "┡━━━━━━━━━━━━━━━━━━━━━━━━━━━━━━━━━╇━━━━━━━━━━━━━━━━━━━━━━━━╇━━━━━━━━━━━━━━━┩\n",
              "│ conv2d_28 (<span style=\"color: #0087ff; text-decoration-color: #0087ff\">Conv2D</span>)              │ (<span style=\"color: #00d7ff; text-decoration-color: #00d7ff\">None</span>, <span style=\"color: #00af00; text-decoration-color: #00af00\">26</span>, <span style=\"color: #00af00; text-decoration-color: #00af00\">26</span>, <span style=\"color: #00af00; text-decoration-color: #00af00\">32</span>)     │           <span style=\"color: #00af00; text-decoration-color: #00af00\">320</span> │\n",
              "├─────────────────────────────────┼────────────────────────┼───────────────┤\n",
              "│ batch_normalization_24          │ (<span style=\"color: #00d7ff; text-decoration-color: #00d7ff\">None</span>, <span style=\"color: #00af00; text-decoration-color: #00af00\">26</span>, <span style=\"color: #00af00; text-decoration-color: #00af00\">26</span>, <span style=\"color: #00af00; text-decoration-color: #00af00\">32</span>)     │           <span style=\"color: #00af00; text-decoration-color: #00af00\">128</span> │\n",
              "│ (<span style=\"color: #0087ff; text-decoration-color: #0087ff\">BatchNormalization</span>)            │                        │               │\n",
              "├─────────────────────────────────┼────────────────────────┼───────────────┤\n",
              "│ max_pooling2d_28 (<span style=\"color: #0087ff; text-decoration-color: #0087ff\">MaxPooling2D</span>) │ (<span style=\"color: #00d7ff; text-decoration-color: #00d7ff\">None</span>, <span style=\"color: #00af00; text-decoration-color: #00af00\">13</span>, <span style=\"color: #00af00; text-decoration-color: #00af00\">13</span>, <span style=\"color: #00af00; text-decoration-color: #00af00\">32</span>)     │             <span style=\"color: #00af00; text-decoration-color: #00af00\">0</span> │\n",
              "├─────────────────────────────────┼────────────────────────┼───────────────┤\n",
              "│ conv2d_29 (<span style=\"color: #0087ff; text-decoration-color: #0087ff\">Conv2D</span>)              │ (<span style=\"color: #00d7ff; text-decoration-color: #00d7ff\">None</span>, <span style=\"color: #00af00; text-decoration-color: #00af00\">11</span>, <span style=\"color: #00af00; text-decoration-color: #00af00\">11</span>, <span style=\"color: #00af00; text-decoration-color: #00af00\">64</span>)     │        <span style=\"color: #00af00; text-decoration-color: #00af00\">18,496</span> │\n",
              "├─────────────────────────────────┼────────────────────────┼───────────────┤\n",
              "│ dropout_17 (<span style=\"color: #0087ff; text-decoration-color: #0087ff\">Dropout</span>)            │ (<span style=\"color: #00d7ff; text-decoration-color: #00d7ff\">None</span>, <span style=\"color: #00af00; text-decoration-color: #00af00\">11</span>, <span style=\"color: #00af00; text-decoration-color: #00af00\">11</span>, <span style=\"color: #00af00; text-decoration-color: #00af00\">64</span>)     │             <span style=\"color: #00af00; text-decoration-color: #00af00\">0</span> │\n",
              "├─────────────────────────────────┼────────────────────────┼───────────────┤\n",
              "│ batch_normalization_25          │ (<span style=\"color: #00d7ff; text-decoration-color: #00d7ff\">None</span>, <span style=\"color: #00af00; text-decoration-color: #00af00\">11</span>, <span style=\"color: #00af00; text-decoration-color: #00af00\">11</span>, <span style=\"color: #00af00; text-decoration-color: #00af00\">64</span>)     │           <span style=\"color: #00af00; text-decoration-color: #00af00\">256</span> │\n",
              "│ (<span style=\"color: #0087ff; text-decoration-color: #0087ff\">BatchNormalization</span>)            │                        │               │\n",
              "├─────────────────────────────────┼────────────────────────┼───────────────┤\n",
              "│ max_pooling2d_29 (<span style=\"color: #0087ff; text-decoration-color: #0087ff\">MaxPooling2D</span>) │ (<span style=\"color: #00d7ff; text-decoration-color: #00d7ff\">None</span>, <span style=\"color: #00af00; text-decoration-color: #00af00\">5</span>, <span style=\"color: #00af00; text-decoration-color: #00af00\">5</span>, <span style=\"color: #00af00; text-decoration-color: #00af00\">64</span>)       │             <span style=\"color: #00af00; text-decoration-color: #00af00\">0</span> │\n",
              "├─────────────────────────────────┼────────────────────────┼───────────────┤\n",
              "│ conv2d_30 (<span style=\"color: #0087ff; text-decoration-color: #0087ff\">Conv2D</span>)              │ (<span style=\"color: #00d7ff; text-decoration-color: #00d7ff\">None</span>, <span style=\"color: #00af00; text-decoration-color: #00af00\">3</span>, <span style=\"color: #00af00; text-decoration-color: #00af00\">3</span>, <span style=\"color: #00af00; text-decoration-color: #00af00\">128</span>)      │        <span style=\"color: #00af00; text-decoration-color: #00af00\">73,856</span> │\n",
              "├─────────────────────────────────┼────────────────────────┼───────────────┤\n",
              "│ batch_normalization_26          │ (<span style=\"color: #00d7ff; text-decoration-color: #00d7ff\">None</span>, <span style=\"color: #00af00; text-decoration-color: #00af00\">3</span>, <span style=\"color: #00af00; text-decoration-color: #00af00\">3</span>, <span style=\"color: #00af00; text-decoration-color: #00af00\">128</span>)      │           <span style=\"color: #00af00; text-decoration-color: #00af00\">512</span> │\n",
              "│ (<span style=\"color: #0087ff; text-decoration-color: #0087ff\">BatchNormalization</span>)            │                        │               │\n",
              "├─────────────────────────────────┼────────────────────────┼───────────────┤\n",
              "│ max_pooling2d_30 (<span style=\"color: #0087ff; text-decoration-color: #0087ff\">MaxPooling2D</span>) │ (<span style=\"color: #00d7ff; text-decoration-color: #00d7ff\">None</span>, <span style=\"color: #00af00; text-decoration-color: #00af00\">1</span>, <span style=\"color: #00af00; text-decoration-color: #00af00\">1</span>, <span style=\"color: #00af00; text-decoration-color: #00af00\">128</span>)      │             <span style=\"color: #00af00; text-decoration-color: #00af00\">0</span> │\n",
              "├─────────────────────────────────┼────────────────────────┼───────────────┤\n",
              "│ flatten_11 (<span style=\"color: #0087ff; text-decoration-color: #0087ff\">Flatten</span>)            │ (<span style=\"color: #00d7ff; text-decoration-color: #00d7ff\">None</span>, <span style=\"color: #00af00; text-decoration-color: #00af00\">128</span>)            │             <span style=\"color: #00af00; text-decoration-color: #00af00\">0</span> │\n",
              "├─────────────────────────────────┼────────────────────────┼───────────────┤\n",
              "│ dropout_18 (<span style=\"color: #0087ff; text-decoration-color: #0087ff\">Dropout</span>)            │ (<span style=\"color: #00d7ff; text-decoration-color: #00d7ff\">None</span>, <span style=\"color: #00af00; text-decoration-color: #00af00\">128</span>)            │             <span style=\"color: #00af00; text-decoration-color: #00af00\">0</span> │\n",
              "├─────────────────────────────────┼────────────────────────┼───────────────┤\n",
              "│ dense_16 (<span style=\"color: #0087ff; text-decoration-color: #0087ff\">Dense</span>)                │ (<span style=\"color: #00d7ff; text-decoration-color: #00d7ff\">None</span>, <span style=\"color: #00af00; text-decoration-color: #00af00\">24</span>)             │         <span style=\"color: #00af00; text-decoration-color: #00af00\">3,096</span> │\n",
              "└─────────────────────────────────┴────────────────────────┴───────────────┘\n",
              "</pre>\n"
            ],
            "text/plain": [
              "┏━━━━━━━━━━━━━━━━━━━━━━━━━━━━━━━━━┳━━━━━━━━━━━━━━━━━━━━━━━━┳━━━━━━━━━━━━━━━┓\n",
              "┃\u001b[1m \u001b[0m\u001b[1mLayer (type)                   \u001b[0m\u001b[1m \u001b[0m┃\u001b[1m \u001b[0m\u001b[1mOutput Shape          \u001b[0m\u001b[1m \u001b[0m┃\u001b[1m \u001b[0m\u001b[1m      Param #\u001b[0m\u001b[1m \u001b[0m┃\n",
              "┡━━━━━━━━━━━━━━━━━━━━━━━━━━━━━━━━━╇━━━━━━━━━━━━━━━━━━━━━━━━╇━━━━━━━━━━━━━━━┩\n",
              "│ conv2d_28 (\u001b[38;5;33mConv2D\u001b[0m)              │ (\u001b[38;5;45mNone\u001b[0m, \u001b[38;5;34m26\u001b[0m, \u001b[38;5;34m26\u001b[0m, \u001b[38;5;34m32\u001b[0m)     │           \u001b[38;5;34m320\u001b[0m │\n",
              "├─────────────────────────────────┼────────────────────────┼───────────────┤\n",
              "│ batch_normalization_24          │ (\u001b[38;5;45mNone\u001b[0m, \u001b[38;5;34m26\u001b[0m, \u001b[38;5;34m26\u001b[0m, \u001b[38;5;34m32\u001b[0m)     │           \u001b[38;5;34m128\u001b[0m │\n",
              "│ (\u001b[38;5;33mBatchNormalization\u001b[0m)            │                        │               │\n",
              "├─────────────────────────────────┼────────────────────────┼───────────────┤\n",
              "│ max_pooling2d_28 (\u001b[38;5;33mMaxPooling2D\u001b[0m) │ (\u001b[38;5;45mNone\u001b[0m, \u001b[38;5;34m13\u001b[0m, \u001b[38;5;34m13\u001b[0m, \u001b[38;5;34m32\u001b[0m)     │             \u001b[38;5;34m0\u001b[0m │\n",
              "├─────────────────────────────────┼────────────────────────┼───────────────┤\n",
              "│ conv2d_29 (\u001b[38;5;33mConv2D\u001b[0m)              │ (\u001b[38;5;45mNone\u001b[0m, \u001b[38;5;34m11\u001b[0m, \u001b[38;5;34m11\u001b[0m, \u001b[38;5;34m64\u001b[0m)     │        \u001b[38;5;34m18,496\u001b[0m │\n",
              "├─────────────────────────────────┼────────────────────────┼───────────────┤\n",
              "│ dropout_17 (\u001b[38;5;33mDropout\u001b[0m)            │ (\u001b[38;5;45mNone\u001b[0m, \u001b[38;5;34m11\u001b[0m, \u001b[38;5;34m11\u001b[0m, \u001b[38;5;34m64\u001b[0m)     │             \u001b[38;5;34m0\u001b[0m │\n",
              "├─────────────────────────────────┼────────────────────────┼───────────────┤\n",
              "│ batch_normalization_25          │ (\u001b[38;5;45mNone\u001b[0m, \u001b[38;5;34m11\u001b[0m, \u001b[38;5;34m11\u001b[0m, \u001b[38;5;34m64\u001b[0m)     │           \u001b[38;5;34m256\u001b[0m │\n",
              "│ (\u001b[38;5;33mBatchNormalization\u001b[0m)            │                        │               │\n",
              "├─────────────────────────────────┼────────────────────────┼───────────────┤\n",
              "│ max_pooling2d_29 (\u001b[38;5;33mMaxPooling2D\u001b[0m) │ (\u001b[38;5;45mNone\u001b[0m, \u001b[38;5;34m5\u001b[0m, \u001b[38;5;34m5\u001b[0m, \u001b[38;5;34m64\u001b[0m)       │             \u001b[38;5;34m0\u001b[0m │\n",
              "├─────────────────────────────────┼────────────────────────┼───────────────┤\n",
              "│ conv2d_30 (\u001b[38;5;33mConv2D\u001b[0m)              │ (\u001b[38;5;45mNone\u001b[0m, \u001b[38;5;34m3\u001b[0m, \u001b[38;5;34m3\u001b[0m, \u001b[38;5;34m128\u001b[0m)      │        \u001b[38;5;34m73,856\u001b[0m │\n",
              "├─────────────────────────────────┼────────────────────────┼───────────────┤\n",
              "│ batch_normalization_26          │ (\u001b[38;5;45mNone\u001b[0m, \u001b[38;5;34m3\u001b[0m, \u001b[38;5;34m3\u001b[0m, \u001b[38;5;34m128\u001b[0m)      │           \u001b[38;5;34m512\u001b[0m │\n",
              "│ (\u001b[38;5;33mBatchNormalization\u001b[0m)            │                        │               │\n",
              "├─────────────────────────────────┼────────────────────────┼───────────────┤\n",
              "│ max_pooling2d_30 (\u001b[38;5;33mMaxPooling2D\u001b[0m) │ (\u001b[38;5;45mNone\u001b[0m, \u001b[38;5;34m1\u001b[0m, \u001b[38;5;34m1\u001b[0m, \u001b[38;5;34m128\u001b[0m)      │             \u001b[38;5;34m0\u001b[0m │\n",
              "├─────────────────────────────────┼────────────────────────┼───────────────┤\n",
              "│ flatten_11 (\u001b[38;5;33mFlatten\u001b[0m)            │ (\u001b[38;5;45mNone\u001b[0m, \u001b[38;5;34m128\u001b[0m)            │             \u001b[38;5;34m0\u001b[0m │\n",
              "├─────────────────────────────────┼────────────────────────┼───────────────┤\n",
              "│ dropout_18 (\u001b[38;5;33mDropout\u001b[0m)            │ (\u001b[38;5;45mNone\u001b[0m, \u001b[38;5;34m128\u001b[0m)            │             \u001b[38;5;34m0\u001b[0m │\n",
              "├─────────────────────────────────┼────────────────────────┼───────────────┤\n",
              "│ dense_16 (\u001b[38;5;33mDense\u001b[0m)                │ (\u001b[38;5;45mNone\u001b[0m, \u001b[38;5;34m24\u001b[0m)             │         \u001b[38;5;34m3,096\u001b[0m │\n",
              "└─────────────────────────────────┴────────────────────────┴───────────────┘\n"
            ]
          },
          "metadata": {},
          "output_type": "display_data"
        },
        {
          "data": {
            "text/html": [
              "<pre style=\"white-space:pre;overflow-x:auto;line-height:normal;font-family:Menlo,'DejaVu Sans Mono',consolas,'Courier New',monospace\"><span style=\"font-weight: bold\"> Total params: </span><span style=\"color: #00af00; text-decoration-color: #00af00\">289,098</span> (1.10 MB)\n",
              "</pre>\n"
            ],
            "text/plain": [
              "\u001b[1m Total params: \u001b[0m\u001b[38;5;34m289,098\u001b[0m (1.10 MB)\n"
            ]
          },
          "metadata": {},
          "output_type": "display_data"
        },
        {
          "data": {
            "text/html": [
              "<pre style=\"white-space:pre;overflow-x:auto;line-height:normal;font-family:Menlo,'DejaVu Sans Mono',consolas,'Courier New',monospace\"><span style=\"font-weight: bold\"> Trainable params: </span><span style=\"color: #00af00; text-decoration-color: #00af00\">96,216</span> (375.84 KB)\n",
              "</pre>\n"
            ],
            "text/plain": [
              "\u001b[1m Trainable params: \u001b[0m\u001b[38;5;34m96,216\u001b[0m (375.84 KB)\n"
            ]
          },
          "metadata": {},
          "output_type": "display_data"
        },
        {
          "data": {
            "text/html": [
              "<pre style=\"white-space:pre;overflow-x:auto;line-height:normal;font-family:Menlo,'DejaVu Sans Mono',consolas,'Courier New',monospace\"><span style=\"font-weight: bold\"> Non-trainable params: </span><span style=\"color: #00af00; text-decoration-color: #00af00\">448</span> (1.75 KB)\n",
              "</pre>\n"
            ],
            "text/plain": [
              "\u001b[1m Non-trainable params: \u001b[0m\u001b[38;5;34m448\u001b[0m (1.75 KB)\n"
            ]
          },
          "metadata": {},
          "output_type": "display_data"
        },
        {
          "data": {
            "text/html": [
              "<pre style=\"white-space:pre;overflow-x:auto;line-height:normal;font-family:Menlo,'DejaVu Sans Mono',consolas,'Courier New',monospace\"><span style=\"font-weight: bold\"> Optimizer params: </span><span style=\"color: #00af00; text-decoration-color: #00af00\">192,434</span> (751.70 KB)\n",
              "</pre>\n"
            ],
            "text/plain": [
              "\u001b[1m Optimizer params: \u001b[0m\u001b[38;5;34m192,434\u001b[0m (751.70 KB)\n"
            ]
          },
          "metadata": {},
          "output_type": "display_data"
        }
      ],
      "source": [
        "model5.summary()"
      ]
    },
    {
      "cell_type": "markdown",
      "metadata": {
        "id": "WyGg49Kb1OL-"
      },
      "source": [
        "Now i have my best model so far with a` val_accuracy` of 0.9533 with the same Trainable Parameters"
      ]
    },
    {
      "cell_type": "markdown",
      "metadata": {
        "id": "dLCqf3J11hay"
      },
      "source": [
        "## 6th Experiment"
      ]
    },
    {
      "cell_type": "markdown",
      "metadata": {
        "id": "lTBDT1qh2vcw"
      },
      "source": [
        "> Now i wanted to change the structure a bit to see how the results reacts\n",
        "\n",
        "* Instead of filtering with `Conv2D` from **32** to **128** i wanted to try the opposite way which is going from the biggest number to the smaller i will choose **75** **50** and then **25**"
      ]
    },
    {
      "cell_type": "code",
      "execution_count": null,
      "metadata": {
        "colab": {
          "base_uri": "https://localhost:8080/"
        },
        "id": "9HwwMXVW1k-a",
        "outputId": "95b2e239-3c88-4686-ca77-cf07a598c993"
      },
      "outputs": [
        {
          "name": "stdout",
          "output_type": "stream",
          "text": [
            "Epoch 1/20\n",
            "\u001b[1m858/858\u001b[0m \u001b[32m━━━━━━━━━━━━━━━━━━━━\u001b[0m\u001b[37m\u001b[0m \u001b[1m58s\u001b[0m 60ms/step - accuracy: 0.5049 - loss: 1.7241 - val_accuracy: 0.7303 - val_loss: 0.8913\n",
            "Epoch 2/20\n",
            "\u001b[1m858/858\u001b[0m \u001b[32m━━━━━━━━━━━━━━━━━━━━\u001b[0m\u001b[37m\u001b[0m \u001b[1m51s\u001b[0m 59ms/step - accuracy: 0.9393 - loss: 0.2272 - val_accuracy: 0.8123 - val_loss: 0.5521\n",
            "Epoch 3/20\n",
            "\u001b[1m858/858\u001b[0m \u001b[32m━━━━━━━━━━━━━━━━━━━━\u001b[0m\u001b[37m\u001b[0m \u001b[1m49s\u001b[0m 57ms/step - accuracy: 0.9724 - loss: 0.1048 - val_accuracy: 0.8243 - val_loss: 0.5240\n",
            "Epoch 4/20\n",
            "\u001b[1m858/858\u001b[0m \u001b[32m━━━━━━━━━━━━━━━━━━━━\u001b[0m\u001b[37m\u001b[0m \u001b[1m51s\u001b[0m 60ms/step - accuracy: 0.9792 - loss: 0.0727 - val_accuracy: 0.9042 - val_loss: 0.3014\n",
            "Epoch 5/20\n",
            "\u001b[1m858/858\u001b[0m \u001b[32m━━━━━━━━━━━━━━━━━━━━\u001b[0m\u001b[37m\u001b[0m \u001b[1m54s\u001b[0m 63ms/step - accuracy: 0.9808 - loss: 0.0612 - val_accuracy: 0.8643 - val_loss: 0.3793\n",
            "Epoch 6/20\n",
            "\u001b[1m858/858\u001b[0m \u001b[32m━━━━━━━━━━━━━━━━━━━━\u001b[0m\u001b[37m\u001b[0m \u001b[1m72s\u001b[0m 52ms/step - accuracy: 0.9870 - loss: 0.0416 - val_accuracy: 0.7393 - val_loss: 1.1647\n",
            "Epoch 7/20\n",
            "\u001b[1m858/858\u001b[0m \u001b[32m━━━━━━━━━━━━━━━━━━━━\u001b[0m\u001b[37m\u001b[0m \u001b[1m51s\u001b[0m 60ms/step - accuracy: 0.9885 - loss: 0.0369 - val_accuracy: 0.8196 - val_loss: 0.5835\n",
            "Epoch 8/20\n",
            "\u001b[1m858/858\u001b[0m \u001b[32m━━━━━━━━━━━━━━━━━━━━\u001b[0m\u001b[37m\u001b[0m \u001b[1m50s\u001b[0m 59ms/step - accuracy: 0.9875 - loss: 0.0419 - val_accuracy: 0.9373 - val_loss: 0.1711\n",
            "Epoch 9/20\n",
            "\u001b[1m858/858\u001b[0m \u001b[32m━━━━━━━━━━━━━━━━━━━━\u001b[0m\u001b[37m\u001b[0m \u001b[1m53s\u001b[0m 62ms/step - accuracy: 0.9911 - loss: 0.0277 - val_accuracy: 0.8954 - val_loss: 0.3069\n",
            "Epoch 10/20\n",
            "\u001b[1m858/858\u001b[0m \u001b[32m━━━━━━━━━━━━━━━━━━━━\u001b[0m\u001b[37m\u001b[0m \u001b[1m46s\u001b[0m 54ms/step - accuracy: 0.9920 - loss: 0.0266 - val_accuracy: 0.9190 - val_loss: 0.2976\n",
            "Epoch 11/20\n",
            "\u001b[1m858/858\u001b[0m \u001b[32m━━━━━━━━━━━━━━━━━━━━\u001b[0m\u001b[37m\u001b[0m \u001b[1m49s\u001b[0m 57ms/step - accuracy: 0.9940 - loss: 0.0217 - val_accuracy: 0.9251 - val_loss: 0.2292\n",
            "Epoch 12/20\n",
            "\u001b[1m858/858\u001b[0m \u001b[32m━━━━━━━━━━━━━━━━━━━━\u001b[0m\u001b[37m\u001b[0m \u001b[1m51s\u001b[0m 59ms/step - accuracy: 0.9930 - loss: 0.0211 - val_accuracy: 0.9403 - val_loss: 0.1622\n",
            "Epoch 13/20\n",
            "\u001b[1m858/858\u001b[0m \u001b[32m━━━━━━━━━━━━━━━━━━━━\u001b[0m\u001b[37m\u001b[0m \u001b[1m58s\u001b[0m 68ms/step - accuracy: 0.9945 - loss: 0.0183 - val_accuracy: 0.9200 - val_loss: 0.2584\n",
            "Epoch 14/20\n",
            "\u001b[1m858/858\u001b[0m \u001b[32m━━━━━━━━━━━━━━━━━━━━\u001b[0m\u001b[37m\u001b[0m \u001b[1m52s\u001b[0m 61ms/step - accuracy: 0.9932 - loss: 0.0231 - val_accuracy: 0.8629 - val_loss: 0.4550\n",
            "Epoch 15/20\n",
            "\u001b[1m858/858\u001b[0m \u001b[32m━━━━━━━━━━━━━━━━━━━━\u001b[0m\u001b[37m\u001b[0m \u001b[1m61s\u001b[0m 71ms/step - accuracy: 0.9936 - loss: 0.0222 - val_accuracy: 0.9163 - val_loss: 0.2661\n",
            "Epoch 16/20\n",
            "\u001b[1m858/858\u001b[0m \u001b[32m━━━━━━━━━━━━━━━━━━━━\u001b[0m\u001b[37m\u001b[0m \u001b[1m52s\u001b[0m 60ms/step - accuracy: 0.9953 - loss: 0.0164 - val_accuracy: 0.9656 - val_loss: 0.0901\n",
            "Epoch 17/20\n",
            "\u001b[1m858/858\u001b[0m \u001b[32m━━━━━━━━━━━━━━━━━━━━\u001b[0m\u001b[37m\u001b[0m \u001b[1m59s\u001b[0m 69ms/step - accuracy: 0.9948 - loss: 0.0153 - val_accuracy: 0.9253 - val_loss: 0.2030\n",
            "Epoch 18/20\n",
            "\u001b[1m858/858\u001b[0m \u001b[32m━━━━━━━━━━━━━━━━━━━━\u001b[0m\u001b[37m\u001b[0m \u001b[1m55s\u001b[0m 63ms/step - accuracy: 0.9906 - loss: 0.0287 - val_accuracy: 0.8946 - val_loss: 0.3324\n",
            "Epoch 19/20\n",
            "\u001b[1m858/858\u001b[0m \u001b[32m━━━━━━━━━━━━━━━━━━━━\u001b[0m\u001b[37m\u001b[0m \u001b[1m58s\u001b[0m 68ms/step - accuracy: 0.9958 - loss: 0.0125 - val_accuracy: 0.9518 - val_loss: 0.1174\n",
            "Epoch 20/20\n",
            "\u001b[1m858/858\u001b[0m \u001b[32m━━━━━━━━━━━━━━━━━━━━\u001b[0m\u001b[37m\u001b[0m \u001b[1m57s\u001b[0m 66ms/step - accuracy: 0.9957 - loss: 0.0146 - val_accuracy: 0.9505 - val_loss: 0.1459\n"
          ]
        }
      ],
      "source": [
        "model6 = models.Sequential(\n",
        "    [\n",
        "        layers.Input(shape=(28, 28, 1)),\n",
        "        layers.Conv2D(75, kernel_size=(3, 3), activation=\"relu\"),#change the filtring to 75\n",
        "        BatchNormalization(),\n",
        "        layers.MaxPooling2D(pool_size=(2, 2)),\n",
        "        layers.Conv2D(50, kernel_size=(3, 3), activation=\"relu\"),#change the filtring to 50\n",
        "        layers.Dropout(0.2),\n",
        "        BatchNormalization(),\n",
        "        layers.MaxPooling2D(pool_size=(2, 2)),\n",
        "        layers.Conv2D(25, kernel_size=(3, 3), activation=\"relu\"),#change the filtring to 25\n",
        "        BatchNormalization(),\n",
        "        layers.MaxPooling2D(pool_size=(2, 2)),\n",
        "        layers.Flatten(),\n",
        "        layers.Dropout(0.2),\n",
        "        layers.Dense(len(class_names), activation=\"softmax\"),\n",
        "    ],name=\"Model6\")\n",
        "\n",
        "\n",
        "model6.compile(optimizer='adam',\n",
        "              loss=tf.keras.losses.CategoricalCrossentropy(from_logits=False),\n",
        "              metrics=['accuracy'])\n",
        "start_train_time = time.time()\n",
        "\n",
        "history6=model6.fit(X_train, y_train, batch_size=32,epochs=20, validation_data=(X_test, y_test))\n",
        "end_train_time = time.time()\n",
        "training_time6 = end_train_time - start_train_time"
      ]
    },
    {
      "cell_type": "markdown",
      "metadata": {
        "id": "d4YU4Uhx4Ker"
      },
      "source": [
        "* Changing the output filter resulted a slightly lower validation accuracy, but overall the performances remained nearly the same"
      ]
    },
    {
      "cell_type": "markdown",
      "metadata": {
        "id": "vjjrPIIm4qw5"
      },
      "source": [
        "## 7th Experiment"
      ]
    },
    {
      "cell_type": "markdown",
      "metadata": {
        "id": "u4noAuL__AOJ"
      },
      "source": [
        ">Here i wanted to tweak the hyperparameters of Conv2D and MaxPooling2D\n",
        "* I put for the `Conv2D` a **stride** of **1** and **padding** at **'same'** means padding the input so that the output has the same width and height as the original input\n",
        "\n",
        "* I put for the `MaxPooling2D` a **stride** of **2** and **padding** at **'same'**"
      ]
    },
    {
      "cell_type": "code",
      "execution_count": null,
      "metadata": {
        "colab": {
          "background_save": true
        },
        "id": "IuwNWdYS4wHX",
        "outputId": "c4b2eae6-9def-43fe-bccb-41ba68040498"
      },
      "outputs": [
        {
          "name": "stdout",
          "output_type": "stream",
          "text": [
            "Epoch 1/20\n",
            "\u001b[1m858/858\u001b[0m \u001b[32m━━━━━━━━━━━━━━━━━━━━\u001b[0m\u001b[37m\u001b[0m \u001b[1m77s\u001b[0m 85ms/step - accuracy: 0.6409 - loss: 1.2915 - val_accuracy: 0.9269 - val_loss: 0.2549\n",
            "Epoch 2/20\n",
            "\u001b[1m858/858\u001b[0m \u001b[32m━━━━━━━━━━━━━━━━━━━━\u001b[0m\u001b[37m\u001b[0m \u001b[1m78s\u001b[0m 90ms/step - accuracy: 0.9898 - loss: 0.0446 - val_accuracy: 0.9368 - val_loss: 0.2210\n",
            "Epoch 3/20\n",
            "\u001b[1m858/858\u001b[0m \u001b[32m━━━━━━━━━━━━━━━━━━━━\u001b[0m\u001b[37m\u001b[0m \u001b[1m66s\u001b[0m 77ms/step - accuracy: 0.9958 - loss: 0.0180 - val_accuracy: 0.6605 - val_loss: 1.2874\n",
            "Epoch 4/20\n",
            "\u001b[1m858/858\u001b[0m \u001b[32m━━━━━━━━━━━━━━━━━━━━\u001b[0m\u001b[37m\u001b[0m \u001b[1m71s\u001b[0m 83ms/step - accuracy: 0.9943 - loss: 0.0202 - val_accuracy: 0.9603 - val_loss: 0.1442\n",
            "Epoch 5/20\n",
            "\u001b[1m858/858\u001b[0m \u001b[32m━━━━━━━━━━━━━━━━━━━━\u001b[0m\u001b[37m\u001b[0m \u001b[1m85s\u001b[0m 86ms/step - accuracy: 0.9962 - loss: 0.0133 - val_accuracy: 0.9598 - val_loss: 0.1551\n",
            "Epoch 6/20\n",
            "\u001b[1m858/858\u001b[0m \u001b[32m━━━━━━━━━━━━━━━━━━━━\u001b[0m\u001b[37m\u001b[0m \u001b[1m78s\u001b[0m 91ms/step - accuracy: 0.9957 - loss: 0.0139 - val_accuracy: 0.9487 - val_loss: 0.1649\n",
            "Epoch 7/20\n",
            "\u001b[1m858/858\u001b[0m \u001b[32m━━━━━━━━━━━━━━━━━━━━\u001b[0m\u001b[37m\u001b[0m \u001b[1m70s\u001b[0m 81ms/step - accuracy: 0.9979 - loss: 0.0078 - val_accuracy: 0.9557 - val_loss: 0.1751\n",
            "Epoch 8/20\n",
            "\u001b[1m858/858\u001b[0m \u001b[32m━━━━━━━━━━━━━━━━━━━━\u001b[0m\u001b[37m\u001b[0m \u001b[1m80s\u001b[0m 93ms/step - accuracy: 0.9964 - loss: 0.0104 - val_accuracy: 0.9551 - val_loss: 0.2028\n",
            "Epoch 9/20\n",
            "\u001b[1m858/858\u001b[0m \u001b[32m━━━━━━━━━━━━━━━━━━━━\u001b[0m\u001b[37m\u001b[0m \u001b[1m73s\u001b[0m 85ms/step - accuracy: 0.9980 - loss: 0.0048 - val_accuracy: 0.9650 - val_loss: 0.1512\n",
            "Epoch 10/20\n",
            "\u001b[1m858/858\u001b[0m \u001b[32m━━━━━━━━━━━━━━━━━━━━\u001b[0m\u001b[37m\u001b[0m \u001b[1m76s\u001b[0m 89ms/step - accuracy: 0.9985 - loss: 0.0050 - val_accuracy: 0.7897 - val_loss: 0.7779\n",
            "Epoch 11/20\n",
            "\u001b[1m858/858\u001b[0m \u001b[32m━━━━━━━━━━━━━━━━━━━━\u001b[0m\u001b[37m\u001b[0m \u001b[1m78s\u001b[0m 91ms/step - accuracy: 0.9955 - loss: 0.0125 - val_accuracy: 0.9338 - val_loss: 0.2632\n",
            "Epoch 12/20\n",
            "\u001b[1m858/858\u001b[0m \u001b[32m━━━━━━━━━━━━━━━━━━━━\u001b[0m\u001b[37m\u001b[0m \u001b[1m75s\u001b[0m 87ms/step - accuracy: 0.9992 - loss: 0.0040 - val_accuracy: 0.9589 - val_loss: 0.1320\n",
            "Epoch 13/20\n",
            "\u001b[1m858/858\u001b[0m \u001b[32m━━━━━━━━━━━━━━━━━━━━\u001b[0m\u001b[37m\u001b[0m \u001b[1m72s\u001b[0m 84ms/step - accuracy: 0.9974 - loss: 0.0074 - val_accuracy: 0.9243 - val_loss: 0.3227\n",
            "Epoch 14/20\n",
            "\u001b[1m858/858\u001b[0m \u001b[32m━━━━━━━━━━━━━━━━━━━━\u001b[0m\u001b[37m\u001b[0m \u001b[1m77s\u001b[0m 89ms/step - accuracy: 0.9979 - loss: 0.0052 - val_accuracy: 0.9403 - val_loss: 0.2787\n",
            "Epoch 15/20\n",
            "\u001b[1m858/858\u001b[0m \u001b[32m━━━━━━━━━━━━━━━━━━━━\u001b[0m\u001b[37m\u001b[0m \u001b[1m74s\u001b[0m 87ms/step - accuracy: 0.9984 - loss: 0.0049 - val_accuracy: 0.9487 - val_loss: 0.1953\n",
            "Epoch 16/20\n",
            "\u001b[1m858/858\u001b[0m \u001b[32m━━━━━━━━━━━━━━━━━━━━\u001b[0m\u001b[37m\u001b[0m \u001b[1m75s\u001b[0m 87ms/step - accuracy: 0.9988 - loss: 0.0036 - val_accuracy: 0.9300 - val_loss: 0.2770\n",
            "Epoch 17/20\n",
            "\u001b[1m858/858\u001b[0m \u001b[32m━━━━━━━━━━━━━━━━━━━━\u001b[0m\u001b[37m\u001b[0m \u001b[1m87s\u001b[0m 92ms/step - accuracy: 0.9974 - loss: 0.0073 - val_accuracy: 0.9515 - val_loss: 0.2066\n",
            "Epoch 18/20\n",
            "\u001b[1m858/858\u001b[0m \u001b[32m━━━━━━━━━━━━━━━━━━━━\u001b[0m\u001b[37m\u001b[0m \u001b[1m76s\u001b[0m 89ms/step - accuracy: 0.9999 - loss: 9.8392e-04 - val_accuracy: 0.9350 - val_loss: 0.3011\n",
            "Epoch 19/20\n",
            "\u001b[1m858/858\u001b[0m \u001b[32m━━━━━━━━━━━━━━━━━━━━\u001b[0m\u001b[37m\u001b[0m \u001b[1m69s\u001b[0m 80ms/step - accuracy: 0.9985 - loss: 0.0040 - val_accuracy: 0.8783 - val_loss: 0.5181\n",
            "Epoch 20/20\n",
            "\u001b[1m858/858\u001b[0m \u001b[32m━━━━━━━━━━━━━━━━━━━━\u001b[0m\u001b[37m\u001b[0m \u001b[1m74s\u001b[0m 86ms/step - accuracy: 0.9977 - loss: 0.0069 - val_accuracy: 0.9628 - val_loss: 0.1315\n"
          ]
        }
      ],
      "source": [
        "model7 = models.Sequential(\n",
        "    [\n",
        "        layers.Input(shape=(28, 28, 1)),\n",
        "        layers.Conv2D(75, kernel_size=(3, 3), strides = 1 , padding = 'same', activation=\"relu\"),#change the value of stride and padding\n",
        "        BatchNormalization(),\n",
        "        layers.MaxPooling2D(pool_size=(2, 2), strides = 2 , padding = 'same'),#change the value of stride and padding\n",
        "        layers.Conv2D(50, kernel_size=(3, 3),  strides = 1 , padding = 'same', activation=\"relu\"),#change the value of stride and padding\n",
        "        layers.Dropout(0.2),\n",
        "        BatchNormalization(),\n",
        "        layers.MaxPooling2D(pool_size=(2, 2), strides = 2 , padding = 'same'),#change the value of stride and padding\n",
        "        layers.Conv2D(25, kernel_size=(3, 3),  strides = 1 , padding = 'same', activation=\"relu\"),#change the value of stride and padding\n",
        "        BatchNormalization(),\n",
        "        layers.MaxPooling2D(pool_size=(2, 2), strides = 2 , padding = 'same'),#change the value of stride and padding\n",
        "        layers.Flatten(),\n",
        "        layers.Dropout(0.2),\n",
        "        layers.Dense(len(class_names), activation=\"softmax\"),\n",
        "    ],name=\"Model7\")\n",
        "\n",
        "\n",
        "model7.compile(optimizer='adam',\n",
        "              loss=tf.keras.losses.CategoricalCrossentropy(from_logits=False),\n",
        "              metrics=['accuracy'])\n",
        "start_train_time = time.time()\n",
        "\n",
        "history7=model7.fit(X_train, y_train, batch_size=32,epochs=20, validation_data=(X_test, y_test))\n",
        "end_train_time = time.time()\n",
        "training_time7 = end_train_time - start_train_time"
      ]
    },
    {
      "cell_type": "markdown",
      "metadata": {
        "id": "ud-mTJsaAA4R"
      },
      "source": [
        "> it looks like i've already got the best Model so far with a validation accuracy of 0.9628"
      ]
    },
    {
      "cell_type": "markdown",
      "metadata": {
        "id": "wkqk2CaVAdOZ"
      },
      "source": [
        "## 8th Experiment"
      ]
    },
    {
      "cell_type": "markdown",
      "metadata": {
        "id": "S2njTSQJAvso"
      },
      "source": [
        "> Here i wanted to add a new **Dense layer **of **512** units with an activation of **ReLu** after flatten the previews layers\n",
        "* This layer can capture more complex patterns from the flattened outputs of the previous layers\n",
        "\n",
        "> increase the last drop down with **10%** (now its 30%)"
      ]
    },
    {
      "cell_type": "code",
      "execution_count": null,
      "metadata": {
        "colab": {
          "background_save": true
        },
        "id": "-5Ud_3YZAgXJ",
        "outputId": "061688d3-70b1-4a1b-bf81-c4a14df72d8d"
      },
      "outputs": [
        {
          "name": "stdout",
          "output_type": "stream",
          "text": [
            "Epoch 1/20\n",
            "\u001b[1m858/858\u001b[0m \u001b[32m━━━━━━━━━━━━━━━━━━━━\u001b[0m\u001b[37m\u001b[0m \u001b[1m87s\u001b[0m 94ms/step - accuracy: 0.7421 - loss: 0.8793 - val_accuracy: 0.9342 - val_loss: 0.2264\n",
            "Epoch 2/20\n",
            "\u001b[1m858/858\u001b[0m \u001b[32m━━━━━━━━━━━━━━━━━━━━\u001b[0m\u001b[37m\u001b[0m \u001b[1m73s\u001b[0m 85ms/step - accuracy: 0.9915 - loss: 0.0265 - val_accuracy: 0.9334 - val_loss: 0.2273\n",
            "Epoch 3/20\n",
            "\u001b[1m858/858\u001b[0m \u001b[32m━━━━━━━━━━━━━━━━━━━━\u001b[0m\u001b[37m\u001b[0m \u001b[1m79s\u001b[0m 92ms/step - accuracy: 0.9950 - loss: 0.0169 - val_accuracy: 0.9127 - val_loss: 0.3132\n",
            "Epoch 4/20\n",
            "\u001b[1m858/858\u001b[0m \u001b[32m━━━━━━━━━━━━━━━━━━━━\u001b[0m\u001b[37m\u001b[0m \u001b[1m79s\u001b[0m 92ms/step - accuracy: 0.9946 - loss: 0.0180 - val_accuracy: 0.9073 - val_loss: 0.3942\n",
            "Epoch 5/20\n",
            "\u001b[1m858/858\u001b[0m \u001b[32m━━━━━━━━━━━━━━━━━━━━\u001b[0m\u001b[37m\u001b[0m \u001b[1m77s\u001b[0m 89ms/step - accuracy: 0.9958 - loss: 0.0142 - val_accuracy: 0.9671 - val_loss: 0.1635\n",
            "Epoch 6/20\n",
            "\u001b[1m858/858\u001b[0m \u001b[32m━━━━━━━━━━━━━━━━━━━━\u001b[0m\u001b[37m\u001b[0m \u001b[1m81s\u001b[0m 94ms/step - accuracy: 0.9945 - loss: 0.0225 - val_accuracy: 0.9257 - val_loss: 0.3056\n",
            "Epoch 7/20\n",
            "\u001b[1m858/858\u001b[0m \u001b[32m━━━━━━━━━━━━━━━━━━━━\u001b[0m\u001b[37m\u001b[0m \u001b[1m74s\u001b[0m 86ms/step - accuracy: 0.9939 - loss: 0.0213 - val_accuracy: 0.9573 - val_loss: 0.1953\n",
            "Epoch 8/20\n",
            "\u001b[1m858/858\u001b[0m \u001b[32m━━━━━━━━━━━━━━━━━━━━\u001b[0m\u001b[37m\u001b[0m \u001b[1m83s\u001b[0m 96ms/step - accuracy: 0.9992 - loss: 0.0031 - val_accuracy: 0.9017 - val_loss: 0.3982\n",
            "Epoch 9/20\n",
            "\u001b[1m858/858\u001b[0m \u001b[32m━━━━━━━━━━━━━━━━━━━━\u001b[0m\u001b[37m\u001b[0m \u001b[1m80s\u001b[0m 94ms/step - accuracy: 0.9931 - loss: 0.0221 - val_accuracy: 0.9529 - val_loss: 0.2648\n",
            "Epoch 10/20\n",
            "\u001b[1m858/858\u001b[0m \u001b[32m━━━━━━━━━━━━━━━━━━━━\u001b[0m\u001b[37m\u001b[0m \u001b[1m80s\u001b[0m 94ms/step - accuracy: 0.9979 - loss: 0.0067 - val_accuracy: 0.9557 - val_loss: 0.2073\n",
            "Epoch 11/20\n",
            "\u001b[1m858/858\u001b[0m \u001b[32m━━━━━━━━━━━━━━━━━━━━\u001b[0m\u001b[37m\u001b[0m \u001b[1m77s\u001b[0m 89ms/step - accuracy: 0.9983 - loss: 0.0038 - val_accuracy: 0.6926 - val_loss: 2.0586\n",
            "Epoch 12/20\n",
            "\u001b[1m858/858\u001b[0m \u001b[32m━━━━━━━━━━━━━━━━━━━━\u001b[0m\u001b[37m\u001b[0m \u001b[1m74s\u001b[0m 87ms/step - accuracy: 0.9978 - loss: 0.0109 - val_accuracy: 0.9466 - val_loss: 0.2746\n",
            "Epoch 13/20\n",
            "\u001b[1m858/858\u001b[0m \u001b[32m━━━━━━━━━━━━━━━━━━━━\u001b[0m\u001b[37m\u001b[0m \u001b[1m76s\u001b[0m 89ms/step - accuracy: 0.9972 - loss: 0.0106 - val_accuracy: 0.9711 - val_loss: 0.1653\n",
            "Epoch 14/20\n",
            "\u001b[1m858/858\u001b[0m \u001b[32m━━━━━━━━━━━━━━━━━━━━\u001b[0m\u001b[37m\u001b[0m \u001b[1m68s\u001b[0m 79ms/step - accuracy: 0.9990 - loss: 0.0063 - val_accuracy: 0.9707 - val_loss: 0.1618\n",
            "Epoch 15/20\n",
            "\u001b[1m858/858\u001b[0m \u001b[32m━━━━━━━━━━━━━━━━━━━━\u001b[0m\u001b[37m\u001b[0m \u001b[1m81s\u001b[0m 94ms/step - accuracy: 0.9990 - loss: 0.0051 - val_accuracy: 0.9658 - val_loss: 0.2111\n",
            "Epoch 16/20\n",
            "\u001b[1m858/858\u001b[0m \u001b[32m━━━━━━━━━━━━━━━━━━━━\u001b[0m\u001b[37m\u001b[0m \u001b[1m82s\u001b[0m 95ms/step - accuracy: 0.9969 - loss: 0.0115 - val_accuracy: 0.9353 - val_loss: 0.4366\n",
            "Epoch 17/20\n",
            "\u001b[1m858/858\u001b[0m \u001b[32m━━━━━━━━━━━━━━━━━━━━\u001b[0m\u001b[37m\u001b[0m \u001b[1m78s\u001b[0m 91ms/step - accuracy: 0.9975 - loss: 0.0094 - val_accuracy: 0.9544 - val_loss: 0.2337\n",
            "Epoch 18/20\n",
            "\u001b[1m858/858\u001b[0m \u001b[32m━━━━━━━━━━━━━━━━━━━━\u001b[0m\u001b[37m\u001b[0m \u001b[1m93s\u001b[0m 109ms/step - accuracy: 0.9974 - loss: 0.0126 - val_accuracy: 0.9675 - val_loss: 0.1494\n",
            "Epoch 19/20\n",
            "\u001b[1m858/858\u001b[0m \u001b[32m━━━━━━━━━━━━━━━━━━━━\u001b[0m\u001b[37m\u001b[0m \u001b[1m80s\u001b[0m 93ms/step - accuracy: 0.9981 - loss: 0.0091 - val_accuracy: 0.9611 - val_loss: 0.2567\n",
            "Epoch 20/20\n",
            "\u001b[1m858/858\u001b[0m \u001b[32m━━━━━━━━━━━━━━━━━━━━\u001b[0m\u001b[37m\u001b[0m \u001b[1m77s\u001b[0m 90ms/step - accuracy: 0.9985 - loss: 0.0074 - val_accuracy: 0.9473 - val_loss: 0.3659\n"
          ]
        }
      ],
      "source": [
        "model8 = models.Sequential(\n",
        "    [\n",
        "        layers.Input(shape=(28, 28, 1)),\n",
        "        layers.Conv2D(75, kernel_size=(3, 3), strides = 1 , padding = 'same', activation=\"relu\"),\n",
        "        BatchNormalization(),\n",
        "        layers.MaxPooling2D(pool_size=(2, 2), strides = 2 , padding = 'same'),\n",
        "        layers.Conv2D(50, kernel_size=(3, 3),  strides = 1 , padding = 'same', activation=\"relu\"),\n",
        "        layers.Dropout(0.2),\n",
        "        BatchNormalization(),\n",
        "        layers.MaxPooling2D(pool_size=(2, 2), strides = 2 , padding = 'same'),\n",
        "        layers.Conv2D(25, kernel_size=(3, 3),  strides = 1 , padding = 'same', activation=\"relu\"),\n",
        "        BatchNormalization(),\n",
        "        layers.MaxPooling2D(pool_size=(2, 2), strides = 2 , padding = 'same'),\n",
        "        layers.Flatten(),\n",
        "        Dense(units = 512 , activation = 'relu'),#added\n",
        "        layers.Dropout(0.3),#adding 10% drop down\n",
        "        layers.Dense(len(class_names), activation=\"softmax\"),\n",
        "    ],name=\"Model8\")\n",
        "\n",
        "\n",
        "\n",
        "model8.compile(optimizer='adam',\n",
        "              loss=tf.keras.losses.CategoricalCrossentropy(from_logits=False),\n",
        "              metrics=['accuracy'])\n",
        "start_train_time = time.time()\n",
        "\n",
        "history8=model8.fit(X_train, y_train, batch_size=32,epochs=20, validation_data=(X_test, y_test))\n",
        "end_train_time = time.time()\n",
        "training_time8 = end_train_time - start_train_time"
      ]
    },
    {
      "cell_type": "code",
      "execution_count": null,
      "metadata": {
        "id": "ch4-GwDoq5KE",
        "outputId": "d5d3774c-efc8-48f5-e40e-4ce5395af3cd"
      },
      "outputs": [
        {
          "data": {
            "text/html": [
              "<pre style=\"white-space:pre;overflow-x:auto;line-height:normal;font-family:Menlo,'DejaVu Sans Mono',consolas,'Courier New',monospace\"><span style=\"font-weight: bold\">Model: \"Model8\"</span>\n",
              "</pre>\n"
            ],
            "text/plain": [
              "\u001b[1mModel: \"Model8\"\u001b[0m\n"
            ]
          },
          "metadata": {},
          "output_type": "display_data"
        },
        {
          "data": {
            "text/html": [
              "<pre style=\"white-space:pre;overflow-x:auto;line-height:normal;font-family:Menlo,'DejaVu Sans Mono',consolas,'Courier New',monospace\">┏━━━━━━━━━━━━━━━━━━━━━━━━━━━━━━━━━┳━━━━━━━━━━━━━━━━━━━━━━━━┳━━━━━━━━━━━━━━━┓\n",
              "┃<span style=\"font-weight: bold\"> Layer (type)                    </span>┃<span style=\"font-weight: bold\"> Output Shape           </span>┃<span style=\"font-weight: bold\">       Param # </span>┃\n",
              "┡━━━━━━━━━━━━━━━━━━━━━━━━━━━━━━━━━╇━━━━━━━━━━━━━━━━━━━━━━━━╇━━━━━━━━━━━━━━━┩\n",
              "│ conv2d_16 (<span style=\"color: #0087ff; text-decoration-color: #0087ff\">Conv2D</span>)              │ (<span style=\"color: #00d7ff; text-decoration-color: #00d7ff\">None</span>, <span style=\"color: #00af00; text-decoration-color: #00af00\">28</span>, <span style=\"color: #00af00; text-decoration-color: #00af00\">28</span>, <span style=\"color: #00af00; text-decoration-color: #00af00\">75</span>)     │           <span style=\"color: #00af00; text-decoration-color: #00af00\">750</span> │\n",
              "├─────────────────────────────────┼────────────────────────┼───────────────┤\n",
              "│ batch_normalization_12          │ (<span style=\"color: #00d7ff; text-decoration-color: #00d7ff\">None</span>, <span style=\"color: #00af00; text-decoration-color: #00af00\">28</span>, <span style=\"color: #00af00; text-decoration-color: #00af00\">28</span>, <span style=\"color: #00af00; text-decoration-color: #00af00\">75</span>)     │           <span style=\"color: #00af00; text-decoration-color: #00af00\">300</span> │\n",
              "│ (<span style=\"color: #0087ff; text-decoration-color: #0087ff\">BatchNormalization</span>)            │                        │               │\n",
              "├─────────────────────────────────┼────────────────────────┼───────────────┤\n",
              "│ max_pooling2d_16 (<span style=\"color: #0087ff; text-decoration-color: #0087ff\">MaxPooling2D</span>) │ (<span style=\"color: #00d7ff; text-decoration-color: #00d7ff\">None</span>, <span style=\"color: #00af00; text-decoration-color: #00af00\">14</span>, <span style=\"color: #00af00; text-decoration-color: #00af00\">14</span>, <span style=\"color: #00af00; text-decoration-color: #00af00\">75</span>)     │             <span style=\"color: #00af00; text-decoration-color: #00af00\">0</span> │\n",
              "├─────────────────────────────────┼────────────────────────┼───────────────┤\n",
              "│ conv2d_17 (<span style=\"color: #0087ff; text-decoration-color: #0087ff\">Conv2D</span>)              │ (<span style=\"color: #00d7ff; text-decoration-color: #00d7ff\">None</span>, <span style=\"color: #00af00; text-decoration-color: #00af00\">14</span>, <span style=\"color: #00af00; text-decoration-color: #00af00\">14</span>, <span style=\"color: #00af00; text-decoration-color: #00af00\">50</span>)     │        <span style=\"color: #00af00; text-decoration-color: #00af00\">33,800</span> │\n",
              "├─────────────────────────────────┼────────────────────────┼───────────────┤\n",
              "│ dropout_9 (<span style=\"color: #0087ff; text-decoration-color: #0087ff\">Dropout</span>)             │ (<span style=\"color: #00d7ff; text-decoration-color: #00d7ff\">None</span>, <span style=\"color: #00af00; text-decoration-color: #00af00\">14</span>, <span style=\"color: #00af00; text-decoration-color: #00af00\">14</span>, <span style=\"color: #00af00; text-decoration-color: #00af00\">50</span>)     │             <span style=\"color: #00af00; text-decoration-color: #00af00\">0</span> │\n",
              "├─────────────────────────────────┼────────────────────────┼───────────────┤\n",
              "│ batch_normalization_13          │ (<span style=\"color: #00d7ff; text-decoration-color: #00d7ff\">None</span>, <span style=\"color: #00af00; text-decoration-color: #00af00\">14</span>, <span style=\"color: #00af00; text-decoration-color: #00af00\">14</span>, <span style=\"color: #00af00; text-decoration-color: #00af00\">50</span>)     │           <span style=\"color: #00af00; text-decoration-color: #00af00\">200</span> │\n",
              "│ (<span style=\"color: #0087ff; text-decoration-color: #0087ff\">BatchNormalization</span>)            │                        │               │\n",
              "├─────────────────────────────────┼────────────────────────┼───────────────┤\n",
              "│ max_pooling2d_17 (<span style=\"color: #0087ff; text-decoration-color: #0087ff\">MaxPooling2D</span>) │ (<span style=\"color: #00d7ff; text-decoration-color: #00d7ff\">None</span>, <span style=\"color: #00af00; text-decoration-color: #00af00\">7</span>, <span style=\"color: #00af00; text-decoration-color: #00af00\">7</span>, <span style=\"color: #00af00; text-decoration-color: #00af00\">50</span>)       │             <span style=\"color: #00af00; text-decoration-color: #00af00\">0</span> │\n",
              "├─────────────────────────────────┼────────────────────────┼───────────────┤\n",
              "│ conv2d_18 (<span style=\"color: #0087ff; text-decoration-color: #0087ff\">Conv2D</span>)              │ (<span style=\"color: #00d7ff; text-decoration-color: #00d7ff\">None</span>, <span style=\"color: #00af00; text-decoration-color: #00af00\">7</span>, <span style=\"color: #00af00; text-decoration-color: #00af00\">7</span>, <span style=\"color: #00af00; text-decoration-color: #00af00\">25</span>)       │        <span style=\"color: #00af00; text-decoration-color: #00af00\">11,275</span> │\n",
              "├─────────────────────────────────┼────────────────────────┼───────────────┤\n",
              "│ batch_normalization_14          │ (<span style=\"color: #00d7ff; text-decoration-color: #00d7ff\">None</span>, <span style=\"color: #00af00; text-decoration-color: #00af00\">7</span>, <span style=\"color: #00af00; text-decoration-color: #00af00\">7</span>, <span style=\"color: #00af00; text-decoration-color: #00af00\">25</span>)       │           <span style=\"color: #00af00; text-decoration-color: #00af00\">100</span> │\n",
              "│ (<span style=\"color: #0087ff; text-decoration-color: #0087ff\">BatchNormalization</span>)            │                        │               │\n",
              "├─────────────────────────────────┼────────────────────────┼───────────────┤\n",
              "│ max_pooling2d_18 (<span style=\"color: #0087ff; text-decoration-color: #0087ff\">MaxPooling2D</span>) │ (<span style=\"color: #00d7ff; text-decoration-color: #00d7ff\">None</span>, <span style=\"color: #00af00; text-decoration-color: #00af00\">4</span>, <span style=\"color: #00af00; text-decoration-color: #00af00\">4</span>, <span style=\"color: #00af00; text-decoration-color: #00af00\">25</span>)       │             <span style=\"color: #00af00; text-decoration-color: #00af00\">0</span> │\n",
              "├─────────────────────────────────┼────────────────────────┼───────────────┤\n",
              "│ flatten_7 (<span style=\"color: #0087ff; text-decoration-color: #0087ff\">Flatten</span>)             │ (<span style=\"color: #00d7ff; text-decoration-color: #00d7ff\">None</span>, <span style=\"color: #00af00; text-decoration-color: #00af00\">400</span>)            │             <span style=\"color: #00af00; text-decoration-color: #00af00\">0</span> │\n",
              "├─────────────────────────────────┼────────────────────────┼───────────────┤\n",
              "│ dense_8 (<span style=\"color: #0087ff; text-decoration-color: #0087ff\">Dense</span>)                 │ (<span style=\"color: #00d7ff; text-decoration-color: #00d7ff\">None</span>, <span style=\"color: #00af00; text-decoration-color: #00af00\">512</span>)            │       <span style=\"color: #00af00; text-decoration-color: #00af00\">205,312</span> │\n",
              "├─────────────────────────────────┼────────────────────────┼───────────────┤\n",
              "│ dropout_10 (<span style=\"color: #0087ff; text-decoration-color: #0087ff\">Dropout</span>)            │ (<span style=\"color: #00d7ff; text-decoration-color: #00d7ff\">None</span>, <span style=\"color: #00af00; text-decoration-color: #00af00\">512</span>)            │             <span style=\"color: #00af00; text-decoration-color: #00af00\">0</span> │\n",
              "├─────────────────────────────────┼────────────────────────┼───────────────┤\n",
              "│ dense_9 (<span style=\"color: #0087ff; text-decoration-color: #0087ff\">Dense</span>)                 │ (<span style=\"color: #00d7ff; text-decoration-color: #00d7ff\">None</span>, <span style=\"color: #00af00; text-decoration-color: #00af00\">24</span>)             │        <span style=\"color: #00af00; text-decoration-color: #00af00\">12,312</span> │\n",
              "└─────────────────────────────────┴────────────────────────┴───────────────┘\n",
              "</pre>\n"
            ],
            "text/plain": [
              "┏━━━━━━━━━━━━━━━━━━━━━━━━━━━━━━━━━┳━━━━━━━━━━━━━━━━━━━━━━━━┳━━━━━━━━━━━━━━━┓\n",
              "┃\u001b[1m \u001b[0m\u001b[1mLayer (type)                   \u001b[0m\u001b[1m \u001b[0m┃\u001b[1m \u001b[0m\u001b[1mOutput Shape          \u001b[0m\u001b[1m \u001b[0m┃\u001b[1m \u001b[0m\u001b[1m      Param #\u001b[0m\u001b[1m \u001b[0m┃\n",
              "┡━━━━━━━━━━━━━━━━━━━━━━━━━━━━━━━━━╇━━━━━━━━━━━━━━━━━━━━━━━━╇━━━━━━━━━━━━━━━┩\n",
              "│ conv2d_16 (\u001b[38;5;33mConv2D\u001b[0m)              │ (\u001b[38;5;45mNone\u001b[0m, \u001b[38;5;34m28\u001b[0m, \u001b[38;5;34m28\u001b[0m, \u001b[38;5;34m75\u001b[0m)     │           \u001b[38;5;34m750\u001b[0m │\n",
              "├─────────────────────────────────┼────────────────────────┼───────────────┤\n",
              "│ batch_normalization_12          │ (\u001b[38;5;45mNone\u001b[0m, \u001b[38;5;34m28\u001b[0m, \u001b[38;5;34m28\u001b[0m, \u001b[38;5;34m75\u001b[0m)     │           \u001b[38;5;34m300\u001b[0m │\n",
              "│ (\u001b[38;5;33mBatchNormalization\u001b[0m)            │                        │               │\n",
              "├─────────────────────────────────┼────────────────────────┼───────────────┤\n",
              "│ max_pooling2d_16 (\u001b[38;5;33mMaxPooling2D\u001b[0m) │ (\u001b[38;5;45mNone\u001b[0m, \u001b[38;5;34m14\u001b[0m, \u001b[38;5;34m14\u001b[0m, \u001b[38;5;34m75\u001b[0m)     │             \u001b[38;5;34m0\u001b[0m │\n",
              "├─────────────────────────────────┼────────────────────────┼───────────────┤\n",
              "│ conv2d_17 (\u001b[38;5;33mConv2D\u001b[0m)              │ (\u001b[38;5;45mNone\u001b[0m, \u001b[38;5;34m14\u001b[0m, \u001b[38;5;34m14\u001b[0m, \u001b[38;5;34m50\u001b[0m)     │        \u001b[38;5;34m33,800\u001b[0m │\n",
              "├─────────────────────────────────┼────────────────────────┼───────────────┤\n",
              "│ dropout_9 (\u001b[38;5;33mDropout\u001b[0m)             │ (\u001b[38;5;45mNone\u001b[0m, \u001b[38;5;34m14\u001b[0m, \u001b[38;5;34m14\u001b[0m, \u001b[38;5;34m50\u001b[0m)     │             \u001b[38;5;34m0\u001b[0m │\n",
              "├─────────────────────────────────┼────────────────────────┼───────────────┤\n",
              "│ batch_normalization_13          │ (\u001b[38;5;45mNone\u001b[0m, \u001b[38;5;34m14\u001b[0m, \u001b[38;5;34m14\u001b[0m, \u001b[38;5;34m50\u001b[0m)     │           \u001b[38;5;34m200\u001b[0m │\n",
              "│ (\u001b[38;5;33mBatchNormalization\u001b[0m)            │                        │               │\n",
              "├─────────────────────────────────┼────────────────────────┼───────────────┤\n",
              "│ max_pooling2d_17 (\u001b[38;5;33mMaxPooling2D\u001b[0m) │ (\u001b[38;5;45mNone\u001b[0m, \u001b[38;5;34m7\u001b[0m, \u001b[38;5;34m7\u001b[0m, \u001b[38;5;34m50\u001b[0m)       │             \u001b[38;5;34m0\u001b[0m │\n",
              "├─────────────────────────────────┼────────────────────────┼───────────────┤\n",
              "│ conv2d_18 (\u001b[38;5;33mConv2D\u001b[0m)              │ (\u001b[38;5;45mNone\u001b[0m, \u001b[38;5;34m7\u001b[0m, \u001b[38;5;34m7\u001b[0m, \u001b[38;5;34m25\u001b[0m)       │        \u001b[38;5;34m11,275\u001b[0m │\n",
              "├─────────────────────────────────┼────────────────────────┼───────────────┤\n",
              "│ batch_normalization_14          │ (\u001b[38;5;45mNone\u001b[0m, \u001b[38;5;34m7\u001b[0m, \u001b[38;5;34m7\u001b[0m, \u001b[38;5;34m25\u001b[0m)       │           \u001b[38;5;34m100\u001b[0m │\n",
              "│ (\u001b[38;5;33mBatchNormalization\u001b[0m)            │                        │               │\n",
              "├─────────────────────────────────┼────────────────────────┼───────────────┤\n",
              "│ max_pooling2d_18 (\u001b[38;5;33mMaxPooling2D\u001b[0m) │ (\u001b[38;5;45mNone\u001b[0m, \u001b[38;5;34m4\u001b[0m, \u001b[38;5;34m4\u001b[0m, \u001b[38;5;34m25\u001b[0m)       │             \u001b[38;5;34m0\u001b[0m │\n",
              "├─────────────────────────────────┼────────────────────────┼───────────────┤\n",
              "│ flatten_7 (\u001b[38;5;33mFlatten\u001b[0m)             │ (\u001b[38;5;45mNone\u001b[0m, \u001b[38;5;34m400\u001b[0m)            │             \u001b[38;5;34m0\u001b[0m │\n",
              "├─────────────────────────────────┼────────────────────────┼───────────────┤\n",
              "│ dense_8 (\u001b[38;5;33mDense\u001b[0m)                 │ (\u001b[38;5;45mNone\u001b[0m, \u001b[38;5;34m512\u001b[0m)            │       \u001b[38;5;34m205,312\u001b[0m │\n",
              "├─────────────────────────────────┼────────────────────────┼───────────────┤\n",
              "│ dropout_10 (\u001b[38;5;33mDropout\u001b[0m)            │ (\u001b[38;5;45mNone\u001b[0m, \u001b[38;5;34m512\u001b[0m)            │             \u001b[38;5;34m0\u001b[0m │\n",
              "├─────────────────────────────────┼────────────────────────┼───────────────┤\n",
              "│ dense_9 (\u001b[38;5;33mDense\u001b[0m)                 │ (\u001b[38;5;45mNone\u001b[0m, \u001b[38;5;34m24\u001b[0m)             │        \u001b[38;5;34m12,312\u001b[0m │\n",
              "└─────────────────────────────────┴────────────────────────┴───────────────┘\n"
            ]
          },
          "metadata": {},
          "output_type": "display_data"
        },
        {
          "data": {
            "text/html": [
              "<pre style=\"white-space:pre;overflow-x:auto;line-height:normal;font-family:Menlo,'DejaVu Sans Mono',consolas,'Courier New',monospace\"><span style=\"font-weight: bold\"> Total params: </span><span style=\"color: #00af00; text-decoration-color: #00af00\">791,549</span> (3.02 MB)\n",
              "</pre>\n"
            ],
            "text/plain": [
              "\u001b[1m Total params: \u001b[0m\u001b[38;5;34m791,549\u001b[0m (3.02 MB)\n"
            ]
          },
          "metadata": {},
          "output_type": "display_data"
        },
        {
          "data": {
            "text/html": [
              "<pre style=\"white-space:pre;overflow-x:auto;line-height:normal;font-family:Menlo,'DejaVu Sans Mono',consolas,'Courier New',monospace\"><span style=\"font-weight: bold\"> Trainable params: </span><span style=\"color: #00af00; text-decoration-color: #00af00\">263,749</span> (1.01 MB)\n",
              "</pre>\n"
            ],
            "text/plain": [
              "\u001b[1m Trainable params: \u001b[0m\u001b[38;5;34m263,749\u001b[0m (1.01 MB)\n"
            ]
          },
          "metadata": {},
          "output_type": "display_data"
        },
        {
          "data": {
            "text/html": [
              "<pre style=\"white-space:pre;overflow-x:auto;line-height:normal;font-family:Menlo,'DejaVu Sans Mono',consolas,'Courier New',monospace\"><span style=\"font-weight: bold\"> Non-trainable params: </span><span style=\"color: #00af00; text-decoration-color: #00af00\">300</span> (1.17 KB)\n",
              "</pre>\n"
            ],
            "text/plain": [
              "\u001b[1m Non-trainable params: \u001b[0m\u001b[38;5;34m300\u001b[0m (1.17 KB)\n"
            ]
          },
          "metadata": {},
          "output_type": "display_data"
        },
        {
          "data": {
            "text/html": [
              "<pre style=\"white-space:pre;overflow-x:auto;line-height:normal;font-family:Menlo,'DejaVu Sans Mono',consolas,'Courier New',monospace\"><span style=\"font-weight: bold\"> Optimizer params: </span><span style=\"color: #00af00; text-decoration-color: #00af00\">527,500</span> (2.01 MB)\n",
              "</pre>\n"
            ],
            "text/plain": [
              "\u001b[1m Optimizer params: \u001b[0m\u001b[38;5;34m527,500\u001b[0m (2.01 MB)\n"
            ]
          },
          "metadata": {},
          "output_type": "display_data"
        }
      ],
      "source": [
        "model8.summary()"
      ]
    },
    {
      "cell_type": "markdown",
      "metadata": {
        "id": "gZm2e2dmC9Hj"
      },
      "source": [
        "* The model has a slightly lower validation accuracy comparing to the previous one, but now after the add of the the new Dense layer I have more trainable parameters to work with which is totaling 263,749"
      ]
    },
    {
      "cell_type": "markdown",
      "metadata": {
        "id": "_PPmNtfGDQiU"
      },
      "source": [
        "## 9th Experiment"
      ]
    },
    {
      "cell_type": "markdown",
      "metadata": {
        "id": "kZWcxx0qDqI0"
      },
      "source": [
        "> add a `learning_rate_reduction` to reduce the learning rate when a metric has stopped improving\n",
        "* `patience=2`: to specify the Number of Epochs without improvement after which the learning rate will be reduced\n",
        "* `verbose=1`: the callback will print a message whenever the learning rate is reduced\n",
        "* `factor=0.5`: the learning rate will be halved whenever the condition is met\n",
        "* `min_lr=0.00001`: the minimum learning rate\n"
      ]
    },
    {
      "cell_type": "code",
      "execution_count": null,
      "metadata": {
        "colab": {
          "background_save": true
        },
        "id": "tZYl2JFbDWF1",
        "outputId": "d42b44b0-6765-4619-c502-1687e30d49ab"
      },
      "outputs": [
        {
          "name": "stdout",
          "output_type": "stream",
          "text": [
            "Epoch 1/20\n",
            "\u001b[1m858/858\u001b[0m \u001b[32m━━━━━━━━━━━━━━━━━━━━\u001b[0m\u001b[37m\u001b[0m \u001b[1m79s\u001b[0m 86ms/step - accuracy: 0.7442 - loss: 0.8650 - val_accuracy: 0.9182 - val_loss: 0.2481 - learning_rate: 0.0010\n",
            "Epoch 2/20\n",
            "\u001b[1m858/858\u001b[0m \u001b[32m━━━━━━━━━━━━━━━━━━━━\u001b[0m\u001b[37m\u001b[0m \u001b[1m74s\u001b[0m 86ms/step - accuracy: 0.9943 - loss: 0.0215 - val_accuracy: 0.6895 - val_loss: 1.2406 - learning_rate: 0.0010\n",
            "Epoch 3/20\n",
            "\u001b[1m858/858\u001b[0m \u001b[32m━━━━━━━━━━━━━━━━━━━━\u001b[0m\u001b[37m\u001b[0m \u001b[1m0s\u001b[0m 88ms/step - accuracy: 0.9920 - loss: 0.0309\n",
            "Epoch 3: ReduceLROnPlateau reducing learning rate to 0.0005000000237487257.\n",
            "\u001b[1m858/858\u001b[0m \u001b[32m━━━━━━━━━━━━━━━━━━━━\u001b[0m\u001b[37m\u001b[0m \u001b[1m78s\u001b[0m 91ms/step - accuracy: 0.9920 - loss: 0.0309 - val_accuracy: 0.7712 - val_loss: 0.7983 - learning_rate: 0.0010\n",
            "Epoch 4/20\n",
            "\u001b[1m858/858\u001b[0m \u001b[32m━━━━━━━━━━━━━━━━━━━━\u001b[0m\u001b[37m\u001b[0m \u001b[1m70s\u001b[0m 82ms/step - accuracy: 0.9983 - loss: 0.0048 - val_accuracy: 0.9626 - val_loss: 0.0986 - learning_rate: 5.0000e-04\n",
            "Epoch 5/20\n",
            "\u001b[1m858/858\u001b[0m \u001b[32m━━━━━━━━━━━━━━━━━━━━\u001b[0m\u001b[37m\u001b[0m \u001b[1m79s\u001b[0m 91ms/step - accuracy: 0.9997 - loss: 0.0011 - val_accuracy: 0.9520 - val_loss: 0.2047 - learning_rate: 5.0000e-04\n",
            "Epoch 6/20\n",
            "\u001b[1m858/858\u001b[0m \u001b[32m━━━━━━━━━━━━━━━━━━━━\u001b[0m\u001b[37m\u001b[0m \u001b[1m0s\u001b[0m 106ms/step - accuracy: 0.9998 - loss: 9.8374e-04\n",
            "Epoch 6: ReduceLROnPlateau reducing learning rate to 0.0002500000118743628.\n",
            "\u001b[1m858/858\u001b[0m \u001b[32m━━━━━━━━━━━━━━━━━━━━\u001b[0m\u001b[37m\u001b[0m \u001b[1m96s\u001b[0m 112ms/step - accuracy: 0.9998 - loss: 9.8578e-04 - val_accuracy: 0.9331 - val_loss: 0.2950 - learning_rate: 5.0000e-04\n",
            "Epoch 7/20\n",
            "\u001b[1m858/858\u001b[0m \u001b[32m━━━━━━━━━━━━━━━━━━━━\u001b[0m\u001b[37m\u001b[0m \u001b[1m90s\u001b[0m 104ms/step - accuracy: 0.9996 - loss: 0.0018 - val_accuracy: 0.9453 - val_loss: 0.1710 - learning_rate: 2.5000e-04\n",
            "Epoch 8/20\n",
            "\u001b[1m858/858\u001b[0m \u001b[32m━━━━━━━━━━━━━━━━━━━━\u001b[0m\u001b[37m\u001b[0m \u001b[1m0s\u001b[0m 100ms/step - accuracy: 0.9998 - loss: 5.8741e-04\n",
            "Epoch 8: ReduceLROnPlateau reducing learning rate to 0.0001250000059371814.\n",
            "\u001b[1m858/858\u001b[0m \u001b[32m━━━━━━━━━━━━━━━━━━━━\u001b[0m\u001b[37m\u001b[0m \u001b[1m88s\u001b[0m 103ms/step - accuracy: 0.9998 - loss: 5.8778e-04 - val_accuracy: 0.9518 - val_loss: 0.1850 - learning_rate: 2.5000e-04\n",
            "Epoch 9/20\n",
            "\u001b[1m858/858\u001b[0m \u001b[32m━━━━━━━━━━━━━━━━━━━━\u001b[0m\u001b[37m\u001b[0m \u001b[1m103s\u001b[0m 120ms/step - accuracy: 1.0000 - loss: 4.2806e-04 - val_accuracy: 0.9547 - val_loss: 0.1872 - learning_rate: 1.2500e-04\n",
            "Epoch 10/20\n",
            "\u001b[1m858/858\u001b[0m \u001b[32m━━━━━━━━━━━━━━━━━━━━\u001b[0m\u001b[37m\u001b[0m \u001b[1m0s\u001b[0m 151ms/step - accuracy: 1.0000 - loss: 1.6111e-04\n",
            "Epoch 10: ReduceLROnPlateau reducing learning rate to 6.25000029685907e-05.\n",
            "\u001b[1m858/858\u001b[0m \u001b[32m━━━━━━━━━━━━━━━━━━━━\u001b[0m\u001b[37m\u001b[0m \u001b[1m133s\u001b[0m 155ms/step - accuracy: 1.0000 - loss: 1.6111e-04 - val_accuracy: 0.9559 - val_loss: 0.1636 - learning_rate: 1.2500e-04\n",
            "Epoch 11/20\n",
            "\u001b[1m858/858\u001b[0m \u001b[32m━━━━━━━━━━━━━━━━━━━━\u001b[0m\u001b[37m\u001b[0m \u001b[1m102s\u001b[0m 108ms/step - accuracy: 1.0000 - loss: 1.2641e-04 - val_accuracy: 0.9544 - val_loss: 0.1564 - learning_rate: 6.2500e-05\n",
            "Epoch 12/20\n",
            "\u001b[1m858/858\u001b[0m \u001b[32m━━━━━━━━━━━━━━━━━━━━\u001b[0m\u001b[37m\u001b[0m \u001b[1m0s\u001b[0m 107ms/step - accuracy: 1.0000 - loss: 1.2885e-04\n",
            "Epoch 12: ReduceLROnPlateau reducing learning rate to 3.125000148429535e-05.\n",
            "\u001b[1m858/858\u001b[0m \u001b[32m━━━━━━━━━━━━━━━━━━━━\u001b[0m\u001b[37m\u001b[0m \u001b[1m97s\u001b[0m 113ms/step - accuracy: 1.0000 - loss: 1.2886e-04 - val_accuracy: 0.9571 - val_loss: 0.1518 - learning_rate: 6.2500e-05\n",
            "Epoch 13/20\n",
            "\u001b[1m858/858\u001b[0m \u001b[32m━━━━━━━━━━━━━━━━━━━━\u001b[0m\u001b[37m\u001b[0m \u001b[1m92s\u001b[0m 107ms/step - accuracy: 1.0000 - loss: 9.3571e-05 - val_accuracy: 0.9555 - val_loss: 0.1524 - learning_rate: 3.1250e-05\n",
            "Epoch 14/20\n",
            "\u001b[1m858/858\u001b[0m \u001b[32m━━━━━━━━━━━━━━━━━━━━\u001b[0m\u001b[37m\u001b[0m \u001b[1m0s\u001b[0m 103ms/step - accuracy: 1.0000 - loss: 9.8600e-05\n",
            "Epoch 14: ReduceLROnPlateau reducing learning rate to 1.5625000742147677e-05.\n",
            "\u001b[1m858/858\u001b[0m \u001b[32m━━━━━━━━━━━━━━━━━━━━\u001b[0m\u001b[37m\u001b[0m \u001b[1m91s\u001b[0m 106ms/step - accuracy: 1.0000 - loss: 9.8630e-05 - val_accuracy: 0.9589 - val_loss: 0.1577 - learning_rate: 3.1250e-05\n",
            "Epoch 15/20\n",
            "\u001b[1m858/858\u001b[0m \u001b[32m━━━━━━━━━━━━━━━━━━━━\u001b[0m\u001b[37m\u001b[0m \u001b[1m97s\u001b[0m 113ms/step - accuracy: 1.0000 - loss: 7.0740e-05 - val_accuracy: 0.9566 - val_loss: 0.1536 - learning_rate: 1.5625e-05\n",
            "Epoch 16/20\n",
            "\u001b[1m858/858\u001b[0m \u001b[32m━━━━━━━━━━━━━━━━━━━━\u001b[0m\u001b[37m\u001b[0m \u001b[1m0s\u001b[0m 99ms/step - accuracy: 1.0000 - loss: 5.4324e-05\n",
            "Epoch 16: ReduceLROnPlateau reducing learning rate to 1e-05.\n",
            "\u001b[1m858/858\u001b[0m \u001b[32m━━━━━━━━━━━━━━━━━━━━\u001b[0m\u001b[37m\u001b[0m \u001b[1m91s\u001b[0m 105ms/step - accuracy: 1.0000 - loss: 5.4336e-05 - val_accuracy: 0.9557 - val_loss: 0.1595 - learning_rate: 1.5625e-05\n",
            "Epoch 17/20\n",
            "\u001b[1m858/858\u001b[0m \u001b[32m━━━━━━━━━━━━━━━━━━━━\u001b[0m\u001b[37m\u001b[0m \u001b[1m91s\u001b[0m 106ms/step - accuracy: 1.0000 - loss: 3.5928e-05 - val_accuracy: 0.9555 - val_loss: 0.1582 - learning_rate: 1.0000e-05\n",
            "Epoch 18/20\n",
            "\u001b[1m858/858\u001b[0m \u001b[32m━━━━━━━━━━━━━━━━━━━━\u001b[0m\u001b[37m\u001b[0m \u001b[1m93s\u001b[0m 108ms/step - accuracy: 1.0000 - loss: 6.3063e-05 - val_accuracy: 0.9554 - val_loss: 0.1590 - learning_rate: 1.0000e-05\n",
            "Epoch 19/20\n",
            "\u001b[1m858/858\u001b[0m \u001b[32m━━━━━━━━━━━━━━━━━━━━\u001b[0m\u001b[37m\u001b[0m \u001b[1m89s\u001b[0m 104ms/step - accuracy: 1.0000 - loss: 3.4114e-05 - val_accuracy: 0.9558 - val_loss: 0.1602 - learning_rate: 1.0000e-05\n",
            "Epoch 20/20\n",
            "\u001b[1m858/858\u001b[0m \u001b[32m━━━━━━━━━━━━━━━━━━━━\u001b[0m\u001b[37m\u001b[0m \u001b[1m91s\u001b[0m 107ms/step - accuracy: 1.0000 - loss: 3.0573e-05 - val_accuracy: 0.9551 - val_loss: 0.1572 - learning_rate: 1.0000e-05\n"
          ]
        }
      ],
      "source": [
        "learning_rate_reduction = ReduceLROnPlateau(monitor='val_accuracy', patience = 2, verbose=1,factor=0.5, min_lr=0.00001)\n",
        "\n",
        "model9 = models.Sequential(\n",
        "    [\n",
        "        layers.Input(shape=(28, 28, 1)),\n",
        "        layers.Conv2D(75, kernel_size=(3, 3), strides = 1 , padding = 'same', activation=\"relu\"),\n",
        "        BatchNormalization(),\n",
        "        layers.MaxPooling2D(pool_size=(2, 2), strides = 2 , padding = 'same'),\n",
        "        layers.Conv2D(50, kernel_size=(3, 3),  strides = 1 , padding = 'same', activation=\"relu\"),\n",
        "        layers.Dropout(0.2),\n",
        "        BatchNormalization(),\n",
        "        layers.MaxPooling2D(pool_size=(2, 2), strides = 2 , padding = 'same'),\n",
        "        layers.Conv2D(25, kernel_size=(3, 3),  strides = 1 , padding = 'same', activation=\"relu\"),\n",
        "        BatchNormalization(),\n",
        "        layers.MaxPooling2D(pool_size=(2, 2), strides = 2 , padding = 'same'),\n",
        "        layers.Flatten(),\n",
        "        Dense(units = 512 , activation = 'relu'),\n",
        "        layers.Dropout(0.3),\n",
        "        layers.Dense(len(class_names), activation=\"softmax\"),\n",
        "    ],name=\"Model9\")\n",
        "\n",
        "\n",
        "model9.compile(optimizer='adam',\n",
        "              loss=tf.keras.losses.CategoricalCrossentropy(from_logits=False),\n",
        "              metrics=['accuracy'])\n",
        "start_train_time = time.time()\n",
        "\n",
        "history9=model9.fit(X_train, y_train, batch_size=32,epochs=20, validation_data=(X_test, y_test),callbacks = [learning_rate_reduction])\n",
        "end_train_time = time.time()\n",
        "training_time9 = end_train_time - start_train_time"
      ]
    },
    {
      "cell_type": "markdown",
      "metadata": {
        "id": "Q1VoJWFAD07o"
      },
      "source": [
        "* Adding a learning rate reduction caused a slight improvement in performance."
      ]
    },
    {
      "cell_type": "markdown",
      "metadata": {
        "id": "LI8eFlf4FN6p"
      },
      "source": [
        "## 10th Experiment"
      ]
    },
    {
      "cell_type": "markdown",
      "metadata": {
        "id": "AayhgioXHBk8"
      },
      "source": [
        "\n",
        "> Increase **The Batch Size**  to **128** for a faster training and better convergence and generalization"
      ]
    },
    {
      "cell_type": "code",
      "execution_count": null,
      "metadata": {
        "colab": {
          "background_save": true
        },
        "id": "4qhQ7UOKEEbY",
        "outputId": "7e6d87b0-381d-430e-d44a-82995d2cf206"
      },
      "outputs": [
        {
          "name": "stdout",
          "output_type": "stream",
          "text": [
            "Epoch 1/20\n",
            "\u001b[1m215/215\u001b[0m \u001b[32m━━━━━━━━━━━━━━━━━━━━\u001b[0m\u001b[37m\u001b[0m \u001b[1m74s\u001b[0m 320ms/step - accuracy: 0.6298 - loss: 1.2959 - val_accuracy: 0.0864 - val_loss: 3.2506 - learning_rate: 0.0010\n",
            "Epoch 2/20\n",
            "\u001b[1m215/215\u001b[0m \u001b[32m━━━━━━━━━━━━━━━━━━━━\u001b[0m\u001b[37m\u001b[0m \u001b[1m67s\u001b[0m 313ms/step - accuracy: 0.9942 - loss: 0.0259 - val_accuracy: 0.6472 - val_loss: 1.0748 - learning_rate: 0.0010\n",
            "Epoch 3/20\n",
            "\u001b[1m215/215\u001b[0m \u001b[32m━━━━━━━━━━━━━━━━━━━━\u001b[0m\u001b[37m\u001b[0m \u001b[1m67s\u001b[0m 309ms/step - accuracy: 0.9990 - loss: 0.0070 - val_accuracy: 0.9402 - val_loss: 0.2093 - learning_rate: 0.0010\n",
            "Epoch 4/20\n",
            "\u001b[1m215/215\u001b[0m \u001b[32m━━━━━━━━━━━━━━━━━━━━\u001b[0m\u001b[37m\u001b[0m \u001b[1m72s\u001b[0m 333ms/step - accuracy: 0.9994 - loss: 0.0051 - val_accuracy: 0.9631 - val_loss: 0.1299 - learning_rate: 0.0010\n",
            "Epoch 5/20\n",
            "\u001b[1m215/215\u001b[0m \u001b[32m━━━━━━━━━━━━━━━━━━━━\u001b[0m\u001b[37m\u001b[0m \u001b[1m72s\u001b[0m 336ms/step - accuracy: 0.9972 - loss: 0.0091 - val_accuracy: 0.9523 - val_loss: 0.1474 - learning_rate: 0.0010\n",
            "Epoch 6/20\n",
            "\u001b[1m215/215\u001b[0m \u001b[32m━━━━━━━━━━━━━━━━━━━━\u001b[0m\u001b[37m\u001b[0m \u001b[1m69s\u001b[0m 319ms/step - accuracy: 0.9994 - loss: 0.0035 - val_accuracy: 0.9699 - val_loss: 0.1192 - learning_rate: 0.0010\n",
            "Epoch 7/20\n",
            "\u001b[1m215/215\u001b[0m \u001b[32m━━━━━━━━━━━━━━━━━━━━\u001b[0m\u001b[37m\u001b[0m \u001b[1m70s\u001b[0m 325ms/step - accuracy: 1.0000 - loss: 7.8624e-04 - val_accuracy: 0.9610 - val_loss: 0.1113 - learning_rate: 0.0010\n",
            "Epoch 8/20\n",
            "\u001b[1m215/215\u001b[0m \u001b[32m━━━━━━━━━━━━━━━━━━━━\u001b[0m\u001b[37m\u001b[0m \u001b[1m0s\u001b[0m 310ms/step - accuracy: 0.9996 - loss: 0.0017\n",
            "Epoch 8: ReduceLROnPlateau reducing learning rate to 0.0005000000237487257.\n",
            "\u001b[1m215/215\u001b[0m \u001b[32m━━━━━━━━━━━━━━━━━━━━\u001b[0m\u001b[37m\u001b[0m \u001b[1m70s\u001b[0m 323ms/step - accuracy: 0.9996 - loss: 0.0017 - val_accuracy: 0.9239 - val_loss: 0.2595 - learning_rate: 0.0010\n",
            "Epoch 9/20\n",
            "\u001b[1m215/215\u001b[0m \u001b[32m━━━━━━━━━━━━━━━━━━━━\u001b[0m\u001b[37m\u001b[0m \u001b[1m75s\u001b[0m 349ms/step - accuracy: 0.9994 - loss: 0.0025 - val_accuracy: 0.9628 - val_loss: 0.0931 - learning_rate: 5.0000e-04\n",
            "Epoch 10/20\n",
            "\u001b[1m215/215\u001b[0m \u001b[32m━━━━━━━━━━━━━━━━━━━━\u001b[0m\u001b[37m\u001b[0m \u001b[1m64s\u001b[0m 299ms/step - accuracy: 1.0000 - loss: 4.1806e-04 - val_accuracy: 0.9707 - val_loss: 0.0839 - learning_rate: 5.0000e-04\n",
            "Epoch 11/20\n",
            "\u001b[1m215/215\u001b[0m \u001b[32m━━━━━━━━━━━━━━━━━━━━\u001b[0m\u001b[37m\u001b[0m \u001b[1m77s\u001b[0m 360ms/step - accuracy: 0.9999 - loss: 5.6313e-04 - val_accuracy: 0.9661 - val_loss: 0.1078 - learning_rate: 5.0000e-04\n",
            "Epoch 12/20\n",
            "\u001b[1m215/215\u001b[0m \u001b[32m━━━━━━━━━━━━━━━━━━━━\u001b[0m\u001b[37m\u001b[0m \u001b[1m64s\u001b[0m 297ms/step - accuracy: 0.9999 - loss: 3.4133e-04 - val_accuracy: 0.9738 - val_loss: 0.0962 - learning_rate: 5.0000e-04\n",
            "Epoch 13/20\n",
            "\u001b[1m215/215\u001b[0m \u001b[32m━━━━━━━━━━━━━━━━━━━━\u001b[0m\u001b[37m\u001b[0m \u001b[1m67s\u001b[0m 309ms/step - accuracy: 1.0000 - loss: 2.7663e-04 - val_accuracy: 0.9723 - val_loss: 0.0831 - learning_rate: 5.0000e-04\n",
            "Epoch 14/20\n",
            "\u001b[1m215/215\u001b[0m \u001b[32m━━━━━━━━━━━━━━━━━━━━\u001b[0m\u001b[37m\u001b[0m \u001b[1m63s\u001b[0m 291ms/step - accuracy: 1.0000 - loss: 1.1544e-04 - val_accuracy: 0.9771 - val_loss: 0.0835 - learning_rate: 5.0000e-04\n",
            "Epoch 15/20\n",
            "\u001b[1m215/215\u001b[0m \u001b[32m━━━━━━━━━━━━━━━━━━━━\u001b[0m\u001b[37m\u001b[0m \u001b[1m68s\u001b[0m 318ms/step - accuracy: 1.0000 - loss: 1.0999e-04 - val_accuracy: 0.9665 - val_loss: 0.1008 - learning_rate: 5.0000e-04\n",
            "Epoch 16/20\n",
            "\u001b[1m215/215\u001b[0m \u001b[32m━━━━━━━━━━━━━━━━━━━━\u001b[0m\u001b[37m\u001b[0m \u001b[1m0s\u001b[0m 343ms/step - accuracy: 1.0000 - loss: 3.3418e-04\n",
            "Epoch 16: ReduceLROnPlateau reducing learning rate to 0.0002500000118743628.\n",
            "\u001b[1m215/215\u001b[0m \u001b[32m━━━━━━━━━━━━━━━━━━━━\u001b[0m\u001b[37m\u001b[0m \u001b[1m77s\u001b[0m 360ms/step - accuracy: 1.0000 - loss: 3.3599e-04 - val_accuracy: 0.9536 - val_loss: 0.1272 - learning_rate: 5.0000e-04\n",
            "Epoch 17/20\n",
            "\u001b[1m215/215\u001b[0m \u001b[32m━━━━━━━━━━━━━━━━━━━━\u001b[0m\u001b[37m\u001b[0m \u001b[1m70s\u001b[0m 326ms/step - accuracy: 0.9996 - loss: 0.0016 - val_accuracy: 0.9713 - val_loss: 0.1107 - learning_rate: 2.5000e-04\n",
            "Epoch 18/20\n",
            "\u001b[1m215/215\u001b[0m \u001b[32m━━━━━━━━━━━━━━━━━━━━\u001b[0m\u001b[37m\u001b[0m \u001b[1m0s\u001b[0m 363ms/step - accuracy: 1.0000 - loss: 2.8555e-04\n",
            "Epoch 18: ReduceLROnPlateau reducing learning rate to 0.0001250000059371814.\n",
            "\u001b[1m215/215\u001b[0m \u001b[32m━━━━━━━━━━━━━━━━━━━━\u001b[0m\u001b[37m\u001b[0m \u001b[1m81s\u001b[0m 379ms/step - accuracy: 1.0000 - loss: 2.8533e-04 - val_accuracy: 0.9677 - val_loss: 0.1073 - learning_rate: 2.5000e-04\n",
            "Epoch 19/20\n",
            "\u001b[1m215/215\u001b[0m \u001b[32m━━━━━━━━━━━━━━━━━━━━\u001b[0m\u001b[37m\u001b[0m \u001b[1m64s\u001b[0m 296ms/step - accuracy: 1.0000 - loss: 2.4857e-04 - val_accuracy: 0.9752 - val_loss: 0.0856 - learning_rate: 1.2500e-04\n",
            "Epoch 20/20\n",
            "\u001b[1m215/215\u001b[0m \u001b[32m━━━━━━━━━━━━━━━━━━━━\u001b[0m\u001b[37m\u001b[0m \u001b[1m0s\u001b[0m 286ms/step - accuracy: 1.0000 - loss: 1.1241e-04\n",
            "Epoch 20: ReduceLROnPlateau reducing learning rate to 6.25000029685907e-05.\n",
            "\u001b[1m215/215\u001b[0m \u001b[32m━━━━━━━━━━━━━━━━━━━━\u001b[0m\u001b[37m\u001b[0m \u001b[1m65s\u001b[0m 303ms/step - accuracy: 1.0000 - loss: 1.1242e-04 - val_accuracy: 0.9767 - val_loss: 0.0801 - learning_rate: 1.2500e-04\n"
          ]
        }
      ],
      "source": [
        "learning_rate_reduction = ReduceLROnPlateau(monitor='val_accuracy', patience = 2, verbose=1,factor=0.5, min_lr=0.00001)\n",
        "\n",
        "model10 = models.Sequential(\n",
        "    [\n",
        "        layers.Input(shape=(28, 28, 1)),\n",
        "        layers.Conv2D(75, kernel_size=(3, 3), strides = 1 , padding = 'same', activation=\"relu\"),\n",
        "        BatchNormalization(),\n",
        "        layers.MaxPooling2D(pool_size=(2, 2), strides = 2 , padding = 'same'),\n",
        "        layers.Conv2D(50, kernel_size=(3, 3),  strides = 1 , padding = 'same', activation=\"relu\"),\n",
        "        layers.Dropout(0.2),\n",
        "        BatchNormalization(),\n",
        "        layers.MaxPooling2D(pool_size=(2, 2), strides = 2 , padding = 'same'),\n",
        "        layers.Conv2D(25, kernel_size=(3, 3),  strides = 1 , padding = 'same', activation=\"relu\"),\n",
        "        BatchNormalization(),\n",
        "        layers.MaxPooling2D(pool_size=(2, 2), strides = 2 , padding = 'same'),\n",
        "        layers.Flatten(),\n",
        "        Dense(units = 512 , activation = 'relu'),\n",
        "        layers.Dropout(0.3),\n",
        "        layers.Dense(len(class_names), activation=\"softmax\"),\n",
        "    ],name=\"Model10\")\n",
        "\n",
        "model10.compile(optimizer='adam',\n",
        "              loss=tf.keras.losses.CategoricalCrossentropy(from_logits=False),\n",
        "              metrics=['accuracy'])\n",
        "start_train_time = time.time()\n",
        "\n",
        "history10=model10.fit(X_train, y_train, batch_size=128,epochs=20, validation_data=(X_test, y_test), callbacks = [learning_rate_reduction])#change the batchsize to 128\n",
        "end_train_time = time.time()\n",
        "training_time10 = end_train_time - start_train_time"
      ]
    },
    {
      "cell_type": "markdown",
      "metadata": {
        "id": "bEmLRgoLq5KG"
      },
      "source": [
        "* Increasing the batch size improved the validation score and made the computation faster"
      ]
    },
    {
      "cell_type": "markdown",
      "metadata": {
        "id": "1ZY6N48SM-_e"
      },
      "source": [
        "## 11th Experiment"
      ]
    },
    {
      "cell_type": "markdown",
      "metadata": {
        "id": "z-KoWhYnJHNN"
      },
      "source": [
        "> Using The data Augmentation `(datagen)` technique that i create it in the preprocessing fase, usually  this technique lead to a better result because it will lead to  :\n",
        "* Increase the training data\n",
        "* Improve Generalization\n",
        "* Better Performance on Test Data"
      ]
    },
    {
      "cell_type": "code",
      "execution_count": null,
      "metadata": {
        "colab": {
          "background_save": true
        },
        "id": "Aq0b97s6NEgN",
        "outputId": "e04083b2-9abf-4f11-c1d1-45a63374521e"
      },
      "outputs": [
        {
          "name": "stdout",
          "output_type": "stream",
          "text": [
            "Epoch 1/20\n"
          ]
        },
        {
          "name": "stderr",
          "output_type": "stream",
          "text": [
            "/Users/macos/Desktop/.venv/lib/python3.12/site-packages/keras/src/trainers/data_adapters/py_dataset_adapter.py:121: UserWarning: Your `PyDataset` class should call `super().__init__(**kwargs)` in its constructor. `**kwargs` can include `workers`, `use_multiprocessing`, `max_queue_size`. Do not pass these arguments to `fit()`, as they will be ignored.\n",
            "  self._warn_if_super_not_called()\n"
          ]
        },
        {
          "name": "stdout",
          "output_type": "stream",
          "text": [
            "\u001b[1m215/215\u001b[0m \u001b[32m━━━━━━━━━━━━━━━━━━━━\u001b[0m\u001b[37m\u001b[0m \u001b[1m85s\u001b[0m 372ms/step - accuracy: 0.4674 - loss: 1.8041 - val_accuracy: 0.0837 - val_loss: 3.4141 - learning_rate: 0.0010\n",
            "Epoch 2/20\n",
            "\u001b[1m215/215\u001b[0m \u001b[32m━━━━━━━━━━━━━━━━━━━━\u001b[0m\u001b[37m\u001b[0m \u001b[1m71s\u001b[0m 328ms/step - accuracy: 0.9172 - loss: 0.2467 - val_accuracy: 0.5994 - val_loss: 1.0872 - learning_rate: 0.0010\n",
            "Epoch 3/20\n",
            "\u001b[1m215/215\u001b[0m \u001b[32m━━━━━━━━━━━━━━━━━━━━\u001b[0m\u001b[37m\u001b[0m \u001b[1m71s\u001b[0m 327ms/step - accuracy: 0.9643 - loss: 0.1121 - val_accuracy: 0.9749 - val_loss: 0.0921 - learning_rate: 0.0010\n",
            "Epoch 4/20\n",
            "\u001b[1m215/215\u001b[0m \u001b[32m━━━━━━━━━━━━━━━━━━━━\u001b[0m\u001b[37m\u001b[0m \u001b[1m72s\u001b[0m 334ms/step - accuracy: 0.9795 - loss: 0.0654 - val_accuracy: 0.8978 - val_loss: 0.2584 - learning_rate: 0.0010\n",
            "Epoch 5/20\n",
            "\u001b[1m215/215\u001b[0m \u001b[32m━━━━━━━━━━━━━━━━━━━━\u001b[0m\u001b[37m\u001b[0m \u001b[1m72s\u001b[0m 286ms/step - accuracy: 0.9824 - loss: 0.0522 - val_accuracy: 0.9824 - val_loss: 0.0436 - learning_rate: 0.0010\n",
            "Epoch 6/20\n",
            "\u001b[1m215/215\u001b[0m \u001b[32m━━━━━━━━━━━━━━━━━━━━\u001b[0m\u001b[37m\u001b[0m \u001b[1m73s\u001b[0m 339ms/step - accuracy: 0.9876 - loss: 0.0356 - val_accuracy: 0.8691 - val_loss: 0.3750 - learning_rate: 0.0010\n",
            "Epoch 7/20\n",
            "\u001b[1m215/215\u001b[0m \u001b[32m━━━━━━━━━━━━━━━━━━━━\u001b[0m\u001b[37m\u001b[0m \u001b[1m0s\u001b[0m 304ms/step - accuracy: 0.9901 - loss: 0.0317\n",
            "Epoch 7: ReduceLROnPlateau reducing learning rate to 0.0005000000237487257.\n",
            "\u001b[1m215/215\u001b[0m \u001b[32m━━━━━━━━━━━━━━━━━━━━\u001b[0m\u001b[37m\u001b[0m \u001b[1m68s\u001b[0m 314ms/step - accuracy: 0.9901 - loss: 0.0317 - val_accuracy: 0.9197 - val_loss: 0.2434 - learning_rate: 0.0010\n",
            "Epoch 8/20\n",
            "\u001b[1m215/215\u001b[0m \u001b[32m━━━━━━━━━━━━━━━━━━━━\u001b[0m\u001b[37m\u001b[0m \u001b[1m71s\u001b[0m 329ms/step - accuracy: 0.9946 - loss: 0.0191 - val_accuracy: 0.9989 - val_loss: 0.0036 - learning_rate: 5.0000e-04\n",
            "Epoch 9/20\n",
            "\u001b[1m215/215\u001b[0m \u001b[32m━━━━━━━━━━━━━━━━━━━━\u001b[0m\u001b[37m\u001b[0m \u001b[1m69s\u001b[0m 319ms/step - accuracy: 0.9970 - loss: 0.0109 - val_accuracy: 0.9916 - val_loss: 0.0260 - learning_rate: 5.0000e-04\n",
            "Epoch 10/20\n",
            "\u001b[1m215/215\u001b[0m \u001b[32m━━━━━━━━━━━━━━━━━━━━\u001b[0m\u001b[37m\u001b[0m \u001b[1m0s\u001b[0m 302ms/step - accuracy: 0.9969 - loss: 0.0106\n",
            "Epoch 10: ReduceLROnPlateau reducing learning rate to 0.0002500000118743628.\n",
            "\u001b[1m215/215\u001b[0m \u001b[32m━━━━━━━━━━━━━━━━━━━━\u001b[0m\u001b[37m\u001b[0m \u001b[1m68s\u001b[0m 314ms/step - accuracy: 0.9969 - loss: 0.0106 - val_accuracy: 0.9964 - val_loss: 0.0089 - learning_rate: 5.0000e-04\n",
            "Epoch 11/20\n",
            "\u001b[1m215/215\u001b[0m \u001b[32m━━━━━━━━━━━━━━━━━━━━\u001b[0m\u001b[37m\u001b[0m \u001b[1m76s\u001b[0m 351ms/step - accuracy: 0.9973 - loss: 0.0098 - val_accuracy: 0.9992 - val_loss: 0.0024 - learning_rate: 2.5000e-04\n",
            "Epoch 12/20\n",
            "\u001b[1m215/215\u001b[0m \u001b[32m━━━━━━━━━━━━━━━━━━━━\u001b[0m\u001b[37m\u001b[0m \u001b[1m76s\u001b[0m 352ms/step - accuracy: 0.9982 - loss: 0.0070 - val_accuracy: 0.9969 - val_loss: 0.0154 - learning_rate: 2.5000e-04\n",
            "Epoch 13/20\n",
            "\u001b[1m215/215\u001b[0m \u001b[32m━━━━━━━━━━━━━━━━━━━━\u001b[0m\u001b[37m\u001b[0m \u001b[1m0s\u001b[0m 298ms/step - accuracy: 0.9979 - loss: 0.0064\n",
            "Epoch 13: ReduceLROnPlateau reducing learning rate to 0.0001250000059371814.\n",
            "\u001b[1m215/215\u001b[0m \u001b[32m━━━━━━━━━━━━━━━━━━━━\u001b[0m\u001b[37m\u001b[0m \u001b[1m67s\u001b[0m 308ms/step - accuracy: 0.9979 - loss: 0.0064 - val_accuracy: 0.9972 - val_loss: 0.0087 - learning_rate: 2.5000e-04\n",
            "Epoch 14/20\n",
            "\u001b[1m215/215\u001b[0m \u001b[32m━━━━━━━━━━━━━━━━━━━━\u001b[0m\u001b[37m\u001b[0m \u001b[1m63s\u001b[0m 293ms/step - accuracy: 0.9985 - loss: 0.0055 - val_accuracy: 0.9972 - val_loss: 0.0060 - learning_rate: 1.2500e-04\n",
            "Epoch 15/20\n",
            "\u001b[1m215/215\u001b[0m \u001b[32m━━━━━━━━━━━━━━━━━━━━\u001b[0m\u001b[37m\u001b[0m \u001b[1m0s\u001b[0m 278ms/step - accuracy: 0.9991 - loss: 0.0041\n",
            "Epoch 15: ReduceLROnPlateau reducing learning rate to 6.25000029685907e-05.\n",
            "\u001b[1m215/215\u001b[0m \u001b[32m━━━━━━━━━━━━━━━━━━━━\u001b[0m\u001b[37m\u001b[0m \u001b[1m63s\u001b[0m 289ms/step - accuracy: 0.9991 - loss: 0.0041 - val_accuracy: 0.9972 - val_loss: 0.0070 - learning_rate: 1.2500e-04\n",
            "Epoch 16/20\n",
            "\u001b[1m215/215\u001b[0m \u001b[32m━━━━━━━━━━━━━━━━━━━━\u001b[0m\u001b[37m\u001b[0m \u001b[1m65s\u001b[0m 299ms/step - accuracy: 0.9988 - loss: 0.0040 - val_accuracy: 0.9974 - val_loss: 0.0050 - learning_rate: 6.2500e-05\n",
            "Epoch 17/20\n",
            "\u001b[1m215/215\u001b[0m \u001b[32m━━━━━━━━━━━━━━━━━━━━\u001b[0m\u001b[37m\u001b[0m \u001b[1m0s\u001b[0m 301ms/step - accuracy: 0.9985 - loss: 0.0052\n",
            "Epoch 17: ReduceLROnPlateau reducing learning rate to 3.125000148429535e-05.\n",
            "\u001b[1m215/215\u001b[0m \u001b[32m━━━━━━━━━━━━━━━━━━━━\u001b[0m\u001b[37m\u001b[0m \u001b[1m68s\u001b[0m 313ms/step - accuracy: 0.9985 - loss: 0.0052 - val_accuracy: 0.9990 - val_loss: 0.0025 - learning_rate: 6.2500e-05\n",
            "Epoch 18/20\n",
            "\u001b[1m215/215\u001b[0m \u001b[32m━━━━━━━━━━━━━━━━━━━━\u001b[0m\u001b[37m\u001b[0m \u001b[1m65s\u001b[0m 299ms/step - accuracy: 0.9993 - loss: 0.0033 - val_accuracy: 0.9975 - val_loss: 0.0038 - learning_rate: 3.1250e-05\n",
            "Epoch 19/20\n",
            "\u001b[1m215/215\u001b[0m \u001b[32m━━━━━━━━━━━━━━━━━━━━\u001b[0m\u001b[37m\u001b[0m \u001b[1m62s\u001b[0m 289ms/step - accuracy: 0.9990 - loss: 0.0038 - val_accuracy: 0.9993 - val_loss: 0.0021 - learning_rate: 3.1250e-05\n",
            "Epoch 20/20\n",
            "\u001b[1m215/215\u001b[0m \u001b[32m━━━━━━━━━━━━━━━━━━━━\u001b[0m\u001b[37m\u001b[0m \u001b[1m75s\u001b[0m 345ms/step - accuracy: 0.9991 - loss: 0.0038 - val_accuracy: 0.9976 - val_loss: 0.0038 - learning_rate: 3.1250e-05\n"
          ]
        }
      ],
      "source": [
        "learning_rate_reduction = ReduceLROnPlateau(monitor='val_accuracy', patience = 2, verbose=1,factor=0.5, min_lr=0.00001)\n",
        "\n",
        "model11 = models.Sequential(\n",
        "    [\n",
        "        layers.Input(shape=(28, 28, 1)),\n",
        "        layers.Conv2D(75, kernel_size=(3, 3), strides = 1 , padding = 'same', activation=\"relu\"),\n",
        "        BatchNormalization(),\n",
        "        layers.MaxPooling2D(pool_size=(2, 2), strides = 2 , padding = 'same'),\n",
        "        layers.Conv2D(50, kernel_size=(3, 3),  strides = 1 , padding = 'same', activation=\"relu\"),\n",
        "        layers.Dropout(0.2),\n",
        "        BatchNormalization(),\n",
        "        layers.MaxPooling2D(pool_size=(2, 2), strides = 2 , padding = 'same'),\n",
        "        layers.Conv2D(25, kernel_size=(3, 3),  strides = 1 , padding = 'same', activation=\"relu\"),\n",
        "        BatchNormalization(),\n",
        "        layers.MaxPooling2D(pool_size=(2, 2), strides = 2 , padding = 'same'),\n",
        "        layers.Flatten(),\n",
        "        Dense(units = 512 , activation = 'relu'),\n",
        "        layers.Dropout(0.3),\n",
        "        layers.Dense(len(class_names), activation=\"softmax\"),\n",
        "    ],name=\"Model11\")\n",
        "\n",
        "model11.compile(optimizer='adam',\n",
        "              loss=tf.keras.losses.CategoricalCrossentropy(from_logits=False),\n",
        "              metrics=['accuracy'])\n",
        "start_train_time = time.time()\n",
        "\n",
        "history11=model11.fit(datagen.flow(X_train,y_train, batch_size = 128) ,epochs=20, validation_data=(X_test, y_test), callbacks = [learning_rate_reduction])#change the batchsize to 128\n",
        "end_train_time = time.time()\n",
        "training_time11 = end_train_time - start_train_time"
      ]
    },
    {
      "cell_type": "markdown",
      "metadata": {
        "id": "C64lppuJq5KH"
      },
      "source": [
        "* Indeed, data augmentation provided the best results, achieving a validation score of 0.9976. I will use this model for the validation test phase."
      ]
    },
    {
      "cell_type": "markdown",
      "metadata": {
        "id": "FjSwLqAeFgt3"
      },
      "source": [
        "# Results of The Experiments"
      ]
    },
    {
      "cell_type": "markdown",
      "metadata": {
        "id": "LAl5sjay2s3u"
      },
      "source": [
        "## A fonction to evaluate the Modules"
      ]
    },
    {
      "cell_type": "markdown",
      "metadata": {
        "id": "wIuqearPKzEt"
      },
      "source": [
        "> Here i created a Helper fonction that help me printing :\n",
        "* The Name of the Model   \n",
        "* Time that each Model take\n",
        "* The test accuracy\n",
        "* The Overall loss\n",
        "\n",
        "With those steps:\n",
        "* Converts the test data into a TensorFlow dataset and use batch size of 32\n",
        "* Defines the loss and accuracy  function\n",
        "* A helper function to format the training time from seconds into a minutes and second\n",
        "* `Eval_mode` fonction will take care of :\n",
        " * Evaluates a given Keras model on a provided dataset (data_loader)\n",
        " * calculate the average loss and accuracy over all batches\n",
        " * Resets the accuracy metric state before starting evaluation\n",
        " * Update the loss and accuracy for each batch"
      ]
    },
    {
      "cell_type": "code",
      "execution_count": null,
      "metadata": {
        "colab": {
          "background_save": true
        },
        "id": "plzlqrb_hqlB"
      },
      "outputs": [],
      "source": [
        "\n",
        "test_dataset = tf.data.Dataset.from_tensor_slices((X_test, y_test)).batch(32)\n",
        "\n",
        "loss_fn = tf.keras.losses.CategoricalCrossentropy(from_logits=False)\n",
        "accuracy_fn = tf.keras.metrics.CategoricalAccuracy()\n",
        "\n",
        "def format_time(seconds):\n",
        "    minutes = int(seconds // 60)\n",
        "    seconds = int(seconds % 60)\n",
        "    return f\"{minutes}:{seconds:02d}\"\n",
        "\n",
        "\n",
        "def eval_model(model: tf.keras.Model,\n",
        "               data_loader: tf.data.Dataset,\n",
        "               loss_fn: tf.keras.losses.Loss,\n",
        "               accuracy_fn: tf.keras.metrics.Metric,\n",
        "               training_time: float):\n",
        "\n",
        "    loss = 0\n",
        "    num_batches = 0\n",
        "    accuracy_fn.reset_state()\n",
        "\n",
        "    for X, y in data_loader:\n",
        "        y_pred = model(X, training=False)\n",
        "        batch_loss = loss_fn(y, y_pred)\n",
        "        loss += batch_loss\n",
        "        num_batches += 1\n",
        "        accuracy_fn.update_state(y, y_pred)\n",
        "\n",
        "    loss /= num_batches\n",
        "    acc = accuracy_fn.result().numpy()\n",
        "\n",
        "    return {\"model_name\": model.name,\n",
        "            \"model_loss\": float(loss),\n",
        "            \"model_acc\": float(acc),\n",
        "            \"execution_time\": format_time(training_time)}"
      ]
    },
    {
      "cell_type": "markdown",
      "metadata": {
        "id": "qPN2PLVJ21Ba"
      },
      "source": [
        "## Evaluate The Modules"
      ]
    },
    {
      "cell_type": "markdown",
      "metadata": {
        "id": "NLttOfyg_pA1"
      },
      "source": [
        "> Here, I will call the helper function `eval_model` for each model and print out the results."
      ]
    },
    {
      "cell_type": "code",
      "execution_count": null,
      "metadata": {
        "colab": {
          "background_save": true
        },
        "id": "vOcHWG3LnO02",
        "outputId": "d9c51432-44fe-4a40-9843-0d5c1a62d8f2"
      },
      "outputs": [
        {
          "name": "stderr",
          "output_type": "stream",
          "text": [
            "2024-06-07 14:36:35.707130: W tensorflow/core/framework/local_rendezvous.cc:404] Local rendezvous is aborting with status: OUT_OF_RANGE: End of sequence\n",
            "2024-06-07 14:36:41.709704: W tensorflow/core/framework/local_rendezvous.cc:404] Local rendezvous is aborting with status: OUT_OF_RANGE: End of sequence\n",
            "2024-06-07 14:36:47.731469: W tensorflow/core/framework/local_rendezvous.cc:404] Local rendezvous is aborting with status: OUT_OF_RANGE: End of sequence\n",
            "2024-06-07 14:36:54.563861: W tensorflow/core/framework/local_rendezvous.cc:404] Local rendezvous is aborting with status: OUT_OF_RANGE: End of sequence\n",
            "2024-06-07 14:37:01.010336: W tensorflow/core/framework/local_rendezvous.cc:404] Local rendezvous is aborting with status: OUT_OF_RANGE: End of sequence\n",
            "2024-06-07 14:37:08.814252: W tensorflow/core/framework/local_rendezvous.cc:404] Local rendezvous is aborting with status: OUT_OF_RANGE: End of sequence\n",
            "2024-06-07 14:37:17.983302: W tensorflow/core/framework/local_rendezvous.cc:404] Local rendezvous is aborting with status: OUT_OF_RANGE: End of sequence\n",
            "2024-06-07 14:37:28.134790: W tensorflow/core/framework/local_rendezvous.cc:404] Local rendezvous is aborting with status: OUT_OF_RANGE: End of sequence\n",
            "2024-06-07 14:37:38.378735: W tensorflow/core/framework/local_rendezvous.cc:404] Local rendezvous is aborting with status: OUT_OF_RANGE: End of sequence\n",
            "2024-06-07 14:37:48.297106: W tensorflow/core/framework/local_rendezvous.cc:404] Local rendezvous is aborting with status: OUT_OF_RANGE: End of sequence\n"
          ]
        },
        {
          "name": "stdout",
          "output_type": "stream",
          "text": [
            "{'model_name': 'Model1', 'model_loss': 1.3496061563491821, 'model_acc': 0.6999441981315613, 'execution_time': '0:59'}\n",
            "{'model_name': 'Model2', 'model_loss': 0.255657821893692, 'model_acc': 0.9431120753288269, 'execution_time': '7:19'}\n",
            "{'model_name': 'Model3', 'model_loss': 0.28483477234840393, 'model_acc': 0.9385108947753906, 'execution_time': '7:23'}\n",
            "{'model_name': 'Model4', 'model_loss': 0.2641814053058624, 'model_acc': 0.9375348687171936, 'execution_time': '10:26'}\n",
            "{'model_name': 'Model5', 'model_loss': 0.15791307389736176, 'model_acc': 0.953290581703186, 'execution_time': '12:24'}\n",
            "{'model_name': 'Model6', 'model_loss': 0.14783528447151184, 'model_acc': 0.9505019783973694, 'execution_time': '18:09'}\n",
            "{'model_name': 'Model7', 'model_loss': 0.13101105391979218, 'model_acc': 0.9627718925476074, 'execution_time': '25:11'}\n",
            "{'model_name': 'Model8', 'model_loss': 0.3645046055316925, 'model_acc': 0.9472950100898743, 'execution_time': '26:20'}\n",
            "{'model_name': 'Model9', 'model_loss': 0.15671132504940033, 'model_acc': 0.9551031589508057, 'execution_time': '30:27'}\n",
            "{'model_name': 'Model10', 'model_loss': 0.07980818301439285, 'model_acc': 0.9767150282859802, 'execution_time': '23:17'}\n",
            "{'model_name': 'Model11', 'model_loss': 0.003783422289416194, 'model_acc': 0.9976296424865723, 'execution_time': '23:21'}\n"
          ]
        },
        {
          "name": "stderr",
          "output_type": "stream",
          "text": [
            "2024-06-07 14:38:01.521623: W tensorflow/core/framework/local_rendezvous.cc:404] Local rendezvous is aborting with status: OUT_OF_RANGE: End of sequence\n"
          ]
        }
      ],
      "source": [
        "model_results1 = eval_model(model=Model1,data_loader=test_dataset,loss_fn=loss_fn,accuracy_fn=accuracy_fn, training_time=training_time1)\n",
        "model_results2 = eval_model(model=model2,data_loader=test_dataset,loss_fn=loss_fn,accuracy_fn=accuracy_fn,training_time=training_time2)\n",
        "model_results3 = eval_model(model=model3,data_loader=test_dataset,loss_fn=loss_fn,accuracy_fn=accuracy_fn,training_time=training_time3)\n",
        "model_results4 = eval_model(model=model4,data_loader=test_dataset,loss_fn=loss_fn,accuracy_fn=accuracy_fn,training_time=training_time4)\n",
        "model_results5 = eval_model(model=model5,data_loader=test_dataset,loss_fn=loss_fn,accuracy_fn=accuracy_fn,training_time=training_time5)\n",
        "model_results6 = eval_model(model=model6,data_loader=test_dataset,loss_fn=loss_fn,accuracy_fn=accuracy_fn,training_time=training_time6)\n",
        "model_results7 = eval_model(model=model7,data_loader=test_dataset,loss_fn=loss_fn,accuracy_fn=accuracy_fn,training_time=training_time7)\n",
        "model_results8 = eval_model(model=model8,data_loader=test_dataset,loss_fn=loss_fn,accuracy_fn=accuracy_fn,training_time=training_time8)\n",
        "model_results9 = eval_model(model=model9,data_loader=test_dataset,loss_fn=loss_fn,accuracy_fn=accuracy_fn,training_time=training_time9)\n",
        "model_results10 = eval_model(model=model10,data_loader=test_dataset,loss_fn=loss_fn,accuracy_fn=accuracy_fn,training_time=training_time10)\n",
        "model_results11 = eval_model(model=model11,data_loader=test_dataset,loss_fn=loss_fn,accuracy_fn=accuracy_fn,training_time=training_time11)\n",
        "\n",
        "print(model_results1)\n",
        "print(model_results2)\n",
        "print(model_results3)\n",
        "print(model_results4)\n",
        "print(model_results5)\n",
        "print(model_results6)\n",
        "print(model_results7)\n",
        "print(model_results8)\n",
        "print(model_results9)\n",
        "print(model_results10)\n",
        "print(model_results11)"
      ]
    },
    {
      "cell_type": "code",
      "execution_count": null,
      "metadata": {
        "colab": {
          "background_save": true
        },
        "id": "9W0YCGiznotm",
        "outputId": "85b8f9ec-af88-4375-f439-899b09e86b0d"
      },
      "outputs": [
        {
          "data": {
            "text/html": [
              "<div>\n",
              "<style scoped>\n",
              "    .dataframe tbody tr th:only-of-type {\n",
              "        vertical-align: middle;\n",
              "    }\n",
              "\n",
              "    .dataframe tbody tr th {\n",
              "        vertical-align: top;\n",
              "    }\n",
              "\n",
              "    .dataframe thead th {\n",
              "        text-align: right;\n",
              "    }\n",
              "</style>\n",
              "<table border=\"1\" class=\"dataframe\">\n",
              "  <thead>\n",
              "    <tr style=\"text-align: right;\">\n",
              "      <th></th>\n",
              "      <th>model_name</th>\n",
              "      <th>model_loss</th>\n",
              "      <th>model_acc</th>\n",
              "      <th>execution_time</th>\n",
              "    </tr>\n",
              "  </thead>\n",
              "  <tbody>\n",
              "    <tr>\n",
              "      <th>0</th>\n",
              "      <td>Model1</td>\n",
              "      <td>1.349606</td>\n",
              "      <td>0.699944</td>\n",
              "      <td>0:59</td>\n",
              "    </tr>\n",
              "    <tr>\n",
              "      <th>1</th>\n",
              "      <td>Model2</td>\n",
              "      <td>0.255658</td>\n",
              "      <td>0.943112</td>\n",
              "      <td>7:19</td>\n",
              "    </tr>\n",
              "    <tr>\n",
              "      <th>2</th>\n",
              "      <td>Model3</td>\n",
              "      <td>0.284835</td>\n",
              "      <td>0.938511</td>\n",
              "      <td>7:23</td>\n",
              "    </tr>\n",
              "    <tr>\n",
              "      <th>3</th>\n",
              "      <td>Model4</td>\n",
              "      <td>0.264181</td>\n",
              "      <td>0.937535</td>\n",
              "      <td>10:26</td>\n",
              "    </tr>\n",
              "    <tr>\n",
              "      <th>4</th>\n",
              "      <td>Model5</td>\n",
              "      <td>0.157913</td>\n",
              "      <td>0.953291</td>\n",
              "      <td>12:24</td>\n",
              "    </tr>\n",
              "    <tr>\n",
              "      <th>5</th>\n",
              "      <td>Model6</td>\n",
              "      <td>0.147835</td>\n",
              "      <td>0.950502</td>\n",
              "      <td>18:09</td>\n",
              "    </tr>\n",
              "    <tr>\n",
              "      <th>6</th>\n",
              "      <td>Model7</td>\n",
              "      <td>0.131011</td>\n",
              "      <td>0.962772</td>\n",
              "      <td>25:11</td>\n",
              "    </tr>\n",
              "    <tr>\n",
              "      <th>7</th>\n",
              "      <td>Model8</td>\n",
              "      <td>0.364505</td>\n",
              "      <td>0.947295</td>\n",
              "      <td>26:20</td>\n",
              "    </tr>\n",
              "    <tr>\n",
              "      <th>8</th>\n",
              "      <td>Model9</td>\n",
              "      <td>0.156711</td>\n",
              "      <td>0.955103</td>\n",
              "      <td>30:27</td>\n",
              "    </tr>\n",
              "    <tr>\n",
              "      <th>9</th>\n",
              "      <td>Model10</td>\n",
              "      <td>0.079808</td>\n",
              "      <td>0.976715</td>\n",
              "      <td>23:17</td>\n",
              "    </tr>\n",
              "    <tr>\n",
              "      <th>10</th>\n",
              "      <td>Model11</td>\n",
              "      <td>0.003783</td>\n",
              "      <td>0.997630</td>\n",
              "      <td>23:21</td>\n",
              "    </tr>\n",
              "  </tbody>\n",
              "</table>\n",
              "</div>"
            ],
            "text/plain": [
              "   model_name  model_loss  model_acc execution_time\n",
              "0      Model1    1.349606   0.699944           0:59\n",
              "1      Model2    0.255658   0.943112           7:19\n",
              "2      Model3    0.284835   0.938511           7:23\n",
              "3      Model4    0.264181   0.937535          10:26\n",
              "4      Model5    0.157913   0.953291          12:24\n",
              "5      Model6    0.147835   0.950502          18:09\n",
              "6      Model7    0.131011   0.962772          25:11\n",
              "7      Model8    0.364505   0.947295          26:20\n",
              "8      Model9    0.156711   0.955103          30:27\n",
              "9     Model10    0.079808   0.976715          23:17\n",
              "10    Model11    0.003783   0.997630          23:21"
            ]
          },
          "execution_count": 73,
          "metadata": {},
          "output_type": "execute_result"
        }
      ],
      "source": [
        "compare_results = pd.DataFrame([model_results1, model_results2,model_results3, model_results4,model_results5, model_results6,model_results7, model_results8,model_results9, model_results10,model_results11])\n",
        "compare_results"
      ]
    },
    {
      "cell_type": "markdown",
      "metadata": {
        "id": "jovGXR39q5KI"
      },
      "source": [
        "> after Looking at the results we can say that:\n",
        "\n",
        "In terms of SPEED( The results was Computed with this specs 2.6 GHz 6-Core Intel Core i7):\n",
        "* The faster Neuron Network was the Model 2 which was the basic Convolutional Neural Networks\n",
        "* The more i've added the complixite to models the more calculations and time it needs which is understandable\n",
        "* After adding the `learning_rate_reduction` to the Model 9 it makes it the slowest amongs the others, but after increasing the batch number in the model after it(Model 10) it makes it a bit faster\n",
        "\n",
        "In terms of ACCURACY & LOSS\n",
        "* The Basic first model was having a segnificant loss and low accuracy but starting from using the  Neural Networks  structure the result was started to get way better\n",
        "* Using the Data augmentation on the last model had a segnificant impact to the dataset, while the other models didnt exceed 0.96, after data augmentation it reaches 0.997\n"
      ]
    },
    {
      "cell_type": "markdown",
      "metadata": {
        "id": "mdOqNqjaq5KJ"
      },
      "source": [
        "> Here is a visualization of the models with their accuracy. We can see that the most accurate one was the final model (model11)"
      ]
    },
    {
      "cell_type": "code",
      "execution_count": null,
      "metadata": {
        "colab": {
          "background_save": true
        },
        "id": "TZjvp6wboFqC",
        "outputId": "c368e2d5-520a-465b-cc66-e0746dff9616"
      },
      "outputs": [
        {
          "data": {
            "image/png": "[encoded data removed]",
            "text/plain": [
              "<Figure size 640x480 with 1 Axes>"
            ]
          },
          "metadata": {},
          "output_type": "display_data"
        }
      ],
      "source": [
        "compare_results.set_index(\"model_name\")[\"model_acc\"].plot(kind=\"barh\")\n",
        "plt.xlabel(\"accuracy (%)\")\n",
        "plt.ylabel(\"model\")"
      ]
    },
    {
      "cell_type": "markdown",
      "metadata": {
        "id": "mGoipx0up7lT"
      },
      "source": [
        "# Model Assessment"
      ]
    },
    {
      "cell_type": "markdown",
      "metadata": {
        "id": "PX-tn_c5q5KJ"
      },
      "source": [
        ">After choosing the right model for our dataset, I need to assess its performance"
      ]
    },
    {
      "cell_type": "code",
      "execution_count": null,
      "metadata": {
        "colab": {
          "background_save": true
        },
        "id": "F-2HhQfkp-3Q",
        "outputId": "aa074c94-cf64-4739-c001-93990bad9c48"
      },
      "outputs": [
        {
          "name": "stdout",
          "output_type": "stream",
          "text": [
            "\u001b[1m225/225\u001b[0m \u001b[32m━━━━━━━━━━━━━━━━━━━━\u001b[0m\u001b[37m\u001b[0m \u001b[1m5s\u001b[0m 19ms/step\n"
          ]
        }
      ],
      "source": [
        "probability_model = tf.keras.Sequential([model11,\n",
        "                                         tf.keras.layers.Softmax()])\n",
        "\n",
        "predictions = probability_model.predict(X_test)"
      ]
    },
    {
      "cell_type": "markdown",
      "metadata": {
        "id": "c7tJ1OSiq5KK"
      },
      "source": [
        "> I have created two helper functions to plot the `images` with their *corresponding characters* and the *predicted characters*, along with the `percentage` confidence of the model's predictions\n",
        "\n",
        "> These functions does plot a chart that contains the `image` with the `labels` and their corresponding `percentages`. The predicted label is highlighted by the `BLUE`, and if the prediction is false, the correct label is shown by the `RED` color"
      ]
    },
    {
      "cell_type": "code",
      "execution_count": null,
      "metadata": {
        "colab": {
          "background_save": true
        },
        "id": "LCu3WDHNqiIq"
      },
      "outputs": [],
      "source": [
        "def plot_image(i, predictions_array, true_label, img):\n",
        "  true_label = np.argmax(true_label[i])\n",
        "  img = img[i]\n",
        "  plt.grid(False)\n",
        "  plt.xticks([])\n",
        "  plt.yticks([])\n",
        "\n",
        "  plt.imshow(img, cmap=plt.cm.binary)\n",
        "\n",
        "  predicted_label = np.argmax(predictions_array)\n",
        "  if predicted_label == true_label:\n",
        "    color = 'blue'\n",
        "  else:\n",
        "    color = 'red'\n",
        "\n",
        "  plt.xlabel(\"{} {:2.0f}% ({})\".format(class_names[predicted_label],\n",
        "                                100*np.max(predictions_array),\n",
        "                                class_names[true_label]),\n",
        "                                color=color)\n",
        "\n",
        "def plot_value_array(i, predictions_array, true_label):\n",
        "  true_label = np.argmax(true_label[i])\n",
        "  plt.grid(False)\n",
        "  plt.xticks(range(24))\n",
        "  plt.yticks([])\n",
        "  thisplot = plt.bar(range(24), predictions_array, color=\"#777777\")\n",
        "  plt.ylim([0, 1])\n",
        "  predicted_label = np.argmax(predictions_array)\n",
        "\n",
        "  thisplot[predicted_label].set_color('red')\n",
        "  thisplot[true_label].set_color('blue')"
      ]
    },
    {
      "cell_type": "markdown",
      "metadata": {
        "id": "ZQPhTN4Pq5KK"
      },
      "source": [
        "> I plotted 15 images to evaluate the model's predictions. All the random results were correct, and the outcomes look promising."
      ]
    },
    {
      "cell_type": "code",
      "execution_count": null,
      "metadata": {
        "colab": {
          "background_save": true
        },
        "id": "6RbFH8iFt2Ln",
        "outputId": "61e6c025-122d-4a06-c42e-0a049c0e9973"
      },
      "outputs": [
        {
          "data": {
            "image/png": "[encoded data removed]",
            "text/plain": [
              "<Figure size 1200x1000 with 30 Axes>"
            ]
          },
          "metadata": {},
          "output_type": "display_data"
        }
      ],
      "source": [
        "num_rows = 5\n",
        "num_cols = 3\n",
        "num_images = num_rows * num_cols\n",
        "plt.figure(figsize=(2 * 2 * num_cols, 2 * num_rows))\n",
        "for i in range(num_images):\n",
        "  plt.subplot(num_rows, 2 * num_cols, 2 * i + 1)\n",
        "  plot_image(i, predictions[i], y_test, X_test)\n",
        "  plt.subplot(num_rows, 2 * num_cols, 2 * i + 2)\n",
        "  plot_value_array(i, predictions[i], y_test)\n",
        "plt.tight_layout()\n",
        "plt.show()"
      ]
    },
    {
      "cell_type": "markdown",
      "metadata": {
        "id": "j5q1k74Wq5KK"
      },
      "source": [
        "> I plotted the training history, showing the training vs validation loss and another plot for accuracy\n",
        "\n",
        "* As I can see, after around 10 epochs, the results stabilized, with a few fluctuations after 5 epochs\n",
        "* The validation loss and accuracy started from low accuracy predictions to very high accuracy after just two epochs"
      ]
    },
    {
      "cell_type": "code",
      "execution_count": null,
      "metadata": {
        "colab": {
          "background_save": true
        },
        "id": "x9xwD3J-HLyU",
        "outputId": "43405499-c1ab-4fcb-f363-73cd7e45bf0b"
      },
      "outputs": [
        {
          "data": {
            "image/png": "[encoded data removed]",
            "text/plain": [
              "<Figure size 640x480 with 1 Axes>"
            ]
          },
          "metadata": {},
          "output_type": "display_data"
        },
        {
          "data": {
            "image/png": "[encoded data removed]",
            "text/plain": [
              "<Figure size 640x480 with 1 Axes>"
            ]
          },
          "metadata": {},
          "output_type": "display_data"
        }
      ],
      "source": [
        "\n",
        "def plot_training_history(history):\n",
        "    plt.plot(history.history['loss'], label='Training Loss')\n",
        "    plt.plot(history.history['val_loss'], label='Validation Loss')\n",
        "    plt.xlabel('Epoch')\n",
        "    plt.ylabel('Loss')\n",
        "    plt.legend()\n",
        "    plt.show()\n",
        "\n",
        "    plt.plot(history.history['accuracy'], label='Training Accuracy')\n",
        "    plt.plot(history.history['val_accuracy'], label='Validation Accuracy')\n",
        "    plt.xlabel('Epoch')\n",
        "    plt.ylabel('Accuracy')\n",
        "    plt.legend()\n",
        "    plt.show()\n",
        "\n",
        "plot_training_history(history11)"
      ]
    },
    {
      "cell_type": "markdown",
      "metadata": {
        "id": "gFcp3IOWq5KL"
      },
      "source": [
        "> Finally, I have plotted the confusion matrix here.\n",
        "\n",
        "* 17 pictures of label 12 (M) were predicted as label 4 (D). Other than that, the model was perfect in predicting all the images correctly."
      ]
    },
    {
      "cell_type": "code",
      "execution_count": null,
      "metadata": {
        "colab": {
          "background_save": true
        },
        "id": "izUgOvDsXe_U",
        "outputId": "63c5ed85-78fd-4083-894e-231e15036791"
      },
      "outputs": [
        {
          "data": {
            "text/plain": [
              "<Axes: >"
            ]
          },
          "execution_count": 46,
          "metadata": {},
          "output_type": "execute_result"
        },
        {
          "data": {
            "image/png": "[encoded data removed]",
            "text/plain": [
              "<Figure size 1500x1500 with 2 Axes>"
            ]
          },
          "metadata": {},
          "output_type": "display_data"
        }
      ],
      "source": [
        "for i in range(len(predictions)):\n",
        "    if np.any(predictions[i] >= 9):\n",
        "        predictions[i] += 1\n",
        "\n",
        "cm = confusion_matrix(y_test.argmax(axis=1),predictions.argmax(axis=1))\n",
        "cm = pd.DataFrame(cm , index = [i for i in range(25) if i != 9] , columns = [i for i in range(25) if i != 9])\n",
        "\n",
        "plt.figure(figsize = (15,15))\n",
        "sns.heatmap(cm,cmap= \"Blues\", linecolor = 'black' , linewidth = 1 , annot = True, fmt='')"
      ]
    },
    {
      "cell_type": "markdown",
      "metadata": {
        "id": "jHAkYxy9K3HW"
      },
      "source": [
        "# Final Discussion"
      ]
    },
    {
      "cell_type": "markdown",
      "metadata": {
        "id": "iTwz3ppZJk17"
      },
      "source": [
        "> The proposed shows significant strengts to improve CommuniSigns ASL recognition system by including comprehensive `preprocessing`, `data augmentation` and the use of `various neural network designs` with adjustments in hyperparameters and `learning rates` to increase `accuracy` and efficiency. However it does not cover gestures. Requires significant computing power. The outcomes suggest better precision and operational effectiveness which directly benefit the community served and enhance market competitiveness. Suggestions involve enlarging the dataset optimizing computing resources, introducing tools for clarity and ongoing enhancements. Key components include `layers`, `max pooling` layers and `dense` layers with dropout, for model understanding. Visualization techniques are applied to enhance model interpretability.\n"
      ]
    }
  ],
  "metadata": {
    "accelerator": "GPU",
    "colab": {
      "gpuType": "T4",
      "provenance": []
    },
    "kernelspec": {
      "display_name": "Python 3",
      "name": "python3"
    },
    "language_info": {
      "codemirror_mode": {
        "name": "ipython",
        "version": 3
      },
      "file_extension": ".py",
      "mimetype": "text/x-python",
      "name": "python",
      "nbconvert_exporter": "python",
      "pygments_lexer": "ipython3",
      "version": "3.12.1"
    }
  },
  "nbformat": 4,
  "nbformat_minor": 0
}